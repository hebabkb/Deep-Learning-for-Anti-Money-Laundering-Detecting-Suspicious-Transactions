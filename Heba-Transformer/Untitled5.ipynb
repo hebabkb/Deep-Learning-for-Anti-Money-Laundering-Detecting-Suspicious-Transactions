{
  "nbformat": 4,
  "nbformat_minor": 0,
  "metadata": {
    "colab": {
      "provenance": [],
      "machine_shape": "hm",
      "gpuType": "T4"
    },
    "kernelspec": {
      "name": "python3",
      "display_name": "Python 3"
    },
    "language_info": {
      "name": "python"
    },
    "accelerator": "GPU"
  },
  "cells": [
    {
      "cell_type": "code",
      "execution_count": 7,
      "metadata": {
        "id": "L2SpFwBqwqFs",
        "colab": {
          "base_uri": "https://localhost:8080/",
          "height": 74
        },
        "outputId": "7e28479c-a582-4797-d978-a0b2038e1506"
      },
      "outputs": [
        {
          "output_type": "display_data",
          "data": {
            "text/plain": [
              "<IPython.core.display.HTML object>"
            ],
            "text/html": [
              "\n",
              "     <input type=\"file\" id=\"files-d82baab0-b309-4a7b-becd-3d7badaf4e75\" name=\"files[]\" multiple disabled\n",
              "        style=\"border:none\" />\n",
              "     <output id=\"result-d82baab0-b309-4a7b-becd-3d7badaf4e75\">\n",
              "      Upload widget is only available when the cell has been executed in the\n",
              "      current browser session. Please rerun this cell to enable.\n",
              "      </output>\n",
              "      <script>// Copyright 2017 Google LLC\n",
              "//\n",
              "// Licensed under the Apache License, Version 2.0 (the \"License\");\n",
              "// you may not use this file except in compliance with the License.\n",
              "// You may obtain a copy of the License at\n",
              "//\n",
              "//      http://www.apache.org/licenses/LICENSE-2.0\n",
              "//\n",
              "// Unless required by applicable law or agreed to in writing, software\n",
              "// distributed under the License is distributed on an \"AS IS\" BASIS,\n",
              "// WITHOUT WARRANTIES OR CONDITIONS OF ANY KIND, either express or implied.\n",
              "// See the License for the specific language governing permissions and\n",
              "// limitations under the License.\n",
              "\n",
              "/**\n",
              " * @fileoverview Helpers for google.colab Python module.\n",
              " */\n",
              "(function(scope) {\n",
              "function span(text, styleAttributes = {}) {\n",
              "  const element = document.createElement('span');\n",
              "  element.textContent = text;\n",
              "  for (const key of Object.keys(styleAttributes)) {\n",
              "    element.style[key] = styleAttributes[key];\n",
              "  }\n",
              "  return element;\n",
              "}\n",
              "\n",
              "// Max number of bytes which will be uploaded at a time.\n",
              "const MAX_PAYLOAD_SIZE = 100 * 1024;\n",
              "\n",
              "function _uploadFiles(inputId, outputId) {\n",
              "  const steps = uploadFilesStep(inputId, outputId);\n",
              "  const outputElement = document.getElementById(outputId);\n",
              "  // Cache steps on the outputElement to make it available for the next call\n",
              "  // to uploadFilesContinue from Python.\n",
              "  outputElement.steps = steps;\n",
              "\n",
              "  return _uploadFilesContinue(outputId);\n",
              "}\n",
              "\n",
              "// This is roughly an async generator (not supported in the browser yet),\n",
              "// where there are multiple asynchronous steps and the Python side is going\n",
              "// to poll for completion of each step.\n",
              "// This uses a Promise to block the python side on completion of each step,\n",
              "// then passes the result of the previous step as the input to the next step.\n",
              "function _uploadFilesContinue(outputId) {\n",
              "  const outputElement = document.getElementById(outputId);\n",
              "  const steps = outputElement.steps;\n",
              "\n",
              "  const next = steps.next(outputElement.lastPromiseValue);\n",
              "  return Promise.resolve(next.value.promise).then((value) => {\n",
              "    // Cache the last promise value to make it available to the next\n",
              "    // step of the generator.\n",
              "    outputElement.lastPromiseValue = value;\n",
              "    return next.value.response;\n",
              "  });\n",
              "}\n",
              "\n",
              "/**\n",
              " * Generator function which is called between each async step of the upload\n",
              " * process.\n",
              " * @param {string} inputId Element ID of the input file picker element.\n",
              " * @param {string} outputId Element ID of the output display.\n",
              " * @return {!Iterable<!Object>} Iterable of next steps.\n",
              " */\n",
              "function* uploadFilesStep(inputId, outputId) {\n",
              "  const inputElement = document.getElementById(inputId);\n",
              "  inputElement.disabled = false;\n",
              "\n",
              "  const outputElement = document.getElementById(outputId);\n",
              "  outputElement.innerHTML = '';\n",
              "\n",
              "  const pickedPromise = new Promise((resolve) => {\n",
              "    inputElement.addEventListener('change', (e) => {\n",
              "      resolve(e.target.files);\n",
              "    });\n",
              "  });\n",
              "\n",
              "  const cancel = document.createElement('button');\n",
              "  inputElement.parentElement.appendChild(cancel);\n",
              "  cancel.textContent = 'Cancel upload';\n",
              "  const cancelPromise = new Promise((resolve) => {\n",
              "    cancel.onclick = () => {\n",
              "      resolve(null);\n",
              "    };\n",
              "  });\n",
              "\n",
              "  // Wait for the user to pick the files.\n",
              "  const files = yield {\n",
              "    promise: Promise.race([pickedPromise, cancelPromise]),\n",
              "    response: {\n",
              "      action: 'starting',\n",
              "    }\n",
              "  };\n",
              "\n",
              "  cancel.remove();\n",
              "\n",
              "  // Disable the input element since further picks are not allowed.\n",
              "  inputElement.disabled = true;\n",
              "\n",
              "  if (!files) {\n",
              "    return {\n",
              "      response: {\n",
              "        action: 'complete',\n",
              "      }\n",
              "    };\n",
              "  }\n",
              "\n",
              "  for (const file of files) {\n",
              "    const li = document.createElement('li');\n",
              "    li.append(span(file.name, {fontWeight: 'bold'}));\n",
              "    li.append(span(\n",
              "        `(${file.type || 'n/a'}) - ${file.size} bytes, ` +\n",
              "        `last modified: ${\n",
              "            file.lastModifiedDate ? file.lastModifiedDate.toLocaleDateString() :\n",
              "                                    'n/a'} - `));\n",
              "    const percent = span('0% done');\n",
              "    li.appendChild(percent);\n",
              "\n",
              "    outputElement.appendChild(li);\n",
              "\n",
              "    const fileDataPromise = new Promise((resolve) => {\n",
              "      const reader = new FileReader();\n",
              "      reader.onload = (e) => {\n",
              "        resolve(e.target.result);\n",
              "      };\n",
              "      reader.readAsArrayBuffer(file);\n",
              "    });\n",
              "    // Wait for the data to be ready.\n",
              "    let fileData = yield {\n",
              "      promise: fileDataPromise,\n",
              "      response: {\n",
              "        action: 'continue',\n",
              "      }\n",
              "    };\n",
              "\n",
              "    // Use a chunked sending to avoid message size limits. See b/62115660.\n",
              "    let position = 0;\n",
              "    do {\n",
              "      const length = Math.min(fileData.byteLength - position, MAX_PAYLOAD_SIZE);\n",
              "      const chunk = new Uint8Array(fileData, position, length);\n",
              "      position += length;\n",
              "\n",
              "      const base64 = btoa(String.fromCharCode.apply(null, chunk));\n",
              "      yield {\n",
              "        response: {\n",
              "          action: 'append',\n",
              "          file: file.name,\n",
              "          data: base64,\n",
              "        },\n",
              "      };\n",
              "\n",
              "      let percentDone = fileData.byteLength === 0 ?\n",
              "          100 :\n",
              "          Math.round((position / fileData.byteLength) * 100);\n",
              "      percent.textContent = `${percentDone}% done`;\n",
              "\n",
              "    } while (position < fileData.byteLength);\n",
              "  }\n",
              "\n",
              "  // All done.\n",
              "  yield {\n",
              "    response: {\n",
              "      action: 'complete',\n",
              "    }\n",
              "  };\n",
              "}\n",
              "\n",
              "scope.google = scope.google || {};\n",
              "scope.google.colab = scope.google.colab || {};\n",
              "scope.google.colab._files = {\n",
              "  _uploadFiles,\n",
              "  _uploadFilesContinue,\n",
              "};\n",
              "})(self);\n",
              "</script> "
            ]
          },
          "metadata": {}
        },
        {
          "output_type": "stream",
          "name": "stdout",
          "text": [
            "Saving tab_aml_polars_version_fourtneen.py to tab_aml_polars_version_fourtneen.py\n"
          ]
        }
      ],
      "source": [
        "from google.colab import files\n",
        "uploaded = files.upload()\n"
      ]
    },
    {
      "cell_type": "code",
      "source": [
        "from google.colab import drive\n",
        "drive.mount('/content/drive', force_remount=True)"
      ],
      "metadata": {
        "id": "Gw6mdAyCwz7O",
        "colab": {
          "base_uri": "https://localhost:8080/"
        },
        "outputId": "e1d7656b-f430-4f67-8065-867947c26059"
      },
      "execution_count": 1,
      "outputs": [
        {
          "output_type": "stream",
          "name": "stdout",
          "text": [
            "Mounted at /content/drive\n"
          ]
        }
      ]
    },
    {
      "cell_type": "code",
      "source": [
        "DATASET_DIR = \"/content/drive/MyDrive/kaggle_datasets/SAML-D\""
      ],
      "metadata": {
        "id": "mkyMeZPxw_7s"
      },
      "execution_count": 2,
      "outputs": []
    },
    {
      "cell_type": "code",
      "source": [
        "import polars as pl\n"
      ],
      "metadata": {
        "id": "JAYypPRpxQxz"
      },
      "execution_count": 3,
      "outputs": []
    },
    {
      "cell_type": "code",
      "source": [
        "df = pl.read_csv(f\"{DATASET_DIR}/SAML-D.csv\")\n",
        "df.head()"
      ],
      "metadata": {
        "id": "SEB8m6fQxEDi",
        "colab": {
          "base_uri": "https://localhost:8080/",
          "height": 362
        },
        "outputId": "2385b4c4-19d8-4d65-c77d-3810acac1c32"
      },
      "execution_count": 4,
      "outputs": [
        {
          "output_type": "execute_result",
          "data": {
            "text/plain": [
              "shape: (5, 12)\n",
              "┌──────────┬───────────┬───────────┬───────────┬───┬───────────┬───────────┬───────────┬───────────┐\n",
              "│ Time     ┆ Date      ┆ Sender_ac ┆ Receiver_ ┆ … ┆ Receiver_ ┆ Payment_t ┆ Is_launde ┆ Launderin │\n",
              "│ ---      ┆ ---       ┆ count     ┆ account   ┆   ┆ bank_loca ┆ ype       ┆ ring      ┆ g_type    │\n",
              "│ str      ┆ str       ┆ ---       ┆ ---       ┆   ┆ tion      ┆ ---       ┆ ---       ┆ ---       │\n",
              "│          ┆           ┆ i64       ┆ i64       ┆   ┆ ---       ┆ str       ┆ i64       ┆ str       │\n",
              "│          ┆           ┆           ┆           ┆   ┆ str       ┆           ┆           ┆           │\n",
              "╞══════════╪═══════════╪═══════════╪═══════════╪═══╪═══════════╪═══════════╪═══════════╪═══════════╡\n",
              "│ 10:35:19 ┆ 2022-10-0 ┆ 872473195 ┆ 276935542 ┆ … ┆ UK        ┆ Cash      ┆ 0         ┆ Normal_Ca │\n",
              "│          ┆ 7         ┆ 5         ┆ 6         ┆   ┆           ┆ Deposit   ┆           ┆ sh_Deposi │\n",
              "│          ┆           ┆           ┆           ┆   ┆           ┆           ┆           ┆ ts        │\n",
              "│ 10:35:20 ┆ 2022-10-0 ┆ 149198906 ┆ 840125533 ┆ … ┆ UAE       ┆ Cross-bor ┆ 0         ┆ Normal_Fa │\n",
              "│          ┆ 7         ┆ 4         ┆ 5         ┆   ┆           ┆ der       ┆           ┆ n_Out     │\n",
              "│ 10:35:20 ┆ 2022-10-0 ┆ 287305149 ┆ 440476700 ┆ … ┆ UK        ┆ Cheque    ┆ 0         ┆ Normal_Sm │\n",
              "│          ┆ 7         ┆           ┆ 2         ┆   ┆           ┆           ┆           ┆ all_Fan_O │\n",
              "│          ┆           ┆           ┆           ┆   ┆           ┆           ┆           ┆ ut        │\n",
              "│ 10:35:21 ┆ 2022-10-0 ┆ 537665243 ┆ 960042022 ┆ … ┆ UK        ┆ ACH       ┆ 0         ┆ Normal_Fa │\n",
              "│          ┆ 7         ┆ 7         ┆ 0         ┆   ┆           ┆           ┆           ┆ n_In      │\n",
              "│ 10:35:21 ┆ 2022-10-0 ┆ 961418617 ┆ 380333697 ┆ … ┆ UK        ┆ Cash      ┆ 0         ┆ Normal_Ca │\n",
              "│          ┆ 7         ┆ 8         ┆ 2         ┆   ┆           ┆ Deposit   ┆           ┆ sh_Deposi │\n",
              "│          ┆           ┆           ┆           ┆   ┆           ┆           ┆           ┆ ts        │\n",
              "└──────────┴───────────┴───────────┴───────────┴───┴───────────┴───────────┴───────────┴───────────┘"
            ],
            "text/html": [
              "<div><style>\n",
              ".dataframe > thead > tr,\n",
              ".dataframe > tbody > tr {\n",
              "  text-align: right;\n",
              "  white-space: pre-wrap;\n",
              "}\n",
              "</style>\n",
              "<small>shape: (5, 12)</small><table border=\"1\" class=\"dataframe\"><thead><tr><th>Time</th><th>Date</th><th>Sender_account</th><th>Receiver_account</th><th>Amount</th><th>Payment_currency</th><th>Received_currency</th><th>Sender_bank_location</th><th>Receiver_bank_location</th><th>Payment_type</th><th>Is_laundering</th><th>Laundering_type</th></tr><tr><td>str</td><td>str</td><td>i64</td><td>i64</td><td>f64</td><td>str</td><td>str</td><td>str</td><td>str</td><td>str</td><td>i64</td><td>str</td></tr></thead><tbody><tr><td>&quot;10:35:19&quot;</td><td>&quot;2022-10-07&quot;</td><td>8724731955</td><td>2769355426</td><td>1459.15</td><td>&quot;UK pounds&quot;</td><td>&quot;UK pounds&quot;</td><td>&quot;UK&quot;</td><td>&quot;UK&quot;</td><td>&quot;Cash Deposit&quot;</td><td>0</td><td>&quot;Normal_Cash_Deposits&quot;</td></tr><tr><td>&quot;10:35:20&quot;</td><td>&quot;2022-10-07&quot;</td><td>1491989064</td><td>8401255335</td><td>6019.64</td><td>&quot;UK pounds&quot;</td><td>&quot;Dirham&quot;</td><td>&quot;UK&quot;</td><td>&quot;UAE&quot;</td><td>&quot;Cross-border&quot;</td><td>0</td><td>&quot;Normal_Fan_Out&quot;</td></tr><tr><td>&quot;10:35:20&quot;</td><td>&quot;2022-10-07&quot;</td><td>287305149</td><td>4404767002</td><td>14328.44</td><td>&quot;UK pounds&quot;</td><td>&quot;UK pounds&quot;</td><td>&quot;UK&quot;</td><td>&quot;UK&quot;</td><td>&quot;Cheque&quot;</td><td>0</td><td>&quot;Normal_Small_Fan_Out&quot;</td></tr><tr><td>&quot;10:35:21&quot;</td><td>&quot;2022-10-07&quot;</td><td>5376652437</td><td>9600420220</td><td>11895.0</td><td>&quot;UK pounds&quot;</td><td>&quot;UK pounds&quot;</td><td>&quot;UK&quot;</td><td>&quot;UK&quot;</td><td>&quot;ACH&quot;</td><td>0</td><td>&quot;Normal_Fan_In&quot;</td></tr><tr><td>&quot;10:35:21&quot;</td><td>&quot;2022-10-07&quot;</td><td>9614186178</td><td>3803336972</td><td>115.25</td><td>&quot;UK pounds&quot;</td><td>&quot;UK pounds&quot;</td><td>&quot;UK&quot;</td><td>&quot;UK&quot;</td><td>&quot;Cash Deposit&quot;</td><td>0</td><td>&quot;Normal_Cash_Deposits&quot;</td></tr></tbody></table></div>"
            ]
          },
          "metadata": {},
          "execution_count": 4
        }
      ]
    },
    {
      "cell_type": "code",
      "source": [
        "import torch\n",
        "from tab_aml_polars_version_fourtneen import preprocess_saml_d, fast_hash, recast, collate_encoded_batch, custom_split_polars, TabAMLDataset, TabAMLModel, build_weighted_sampler, compute_pos_weight, train_epoch, evaluate\n",
        "from torch.utils.data import DataLoader\n",
        "import torch.nn as nn"
      ],
      "metadata": {
        "id": "UJTYIRbexU68"
      },
      "execution_count": 8,
      "outputs": []
    },
    {
      "cell_type": "code",
      "source": [
        "df = preprocess_saml_d(df)"
      ],
      "metadata": {
        "id": "HTCGnKrbxqkm"
      },
      "execution_count": 9,
      "outputs": []
    },
    {
      "cell_type": "code",
      "source": [
        "df = recast(df)"
      ],
      "metadata": {
        "id": "2IFR-GzEoDE2"
      },
      "execution_count": 10,
      "outputs": []
    },
    {
      "cell_type": "code",
      "source": [
        "df.head(5)"
      ],
      "metadata": {
        "id": "qb-L28aTLEQs",
        "colab": {
          "base_uri": "https://localhost:8080/",
          "height": 362
        },
        "outputId": "cbb66ad8-c380-40a9-b66e-e5973ec2f119"
      },
      "execution_count": 11,
      "outputs": [
        {
          "output_type": "execute_result",
          "data": {
            "text/plain": [
              "shape: (5, 17)\n",
              "┌────────────┬────────────┬────────────┬────────────┬───┬──────┬───────────┬───────────┬───────────┐\n",
              "│ Date       ┆ Sender_acc ┆ Receiver_a ┆ Payment_cu ┆ … ┆ hour ┆ day_of_we ┆ is_weeken ┆ amount_lo │\n",
              "│ ---        ┆ ount       ┆ ccount     ┆ rrency     ┆   ┆ ---  ┆ ek        ┆ d         ┆ g         │\n",
              "│ date       ┆ ---        ┆ ---        ┆ ---        ┆   ┆ i8   ┆ ---       ┆ ---       ┆ ---       │\n",
              "│            ┆ i64        ┆ i64        ┆ str        ┆   ┆      ┆ i8        ┆ i8        ┆ f64       │\n",
              "╞════════════╪════════════╪════════════╪════════════╪═══╪══════╪═══════════╪═══════════╪═══════════╡\n",
              "│ 2022-10-07 ┆ 8724731955 ┆ 2769355426 ┆ UK pounds  ┆ … ┆ 10   ┆ 5         ┆ 1         ┆ 7.286294  │\n",
              "│ 2022-10-07 ┆ 1491989064 ┆ 8401255335 ┆ UK pounds  ┆ … ┆ 10   ┆ 5         ┆ 1         ┆ 8.702949  │\n",
              "│ 2022-10-07 ┆ 287305149  ┆ 4404767002 ┆ UK pounds  ┆ … ┆ 10   ┆ 5         ┆ 1         ┆ 9.570071  │\n",
              "│ 2022-10-07 ┆ 5376652437 ┆ 9600420220 ┆ UK pounds  ┆ … ┆ 10   ┆ 5         ┆ 1         ┆ 9.383957  │\n",
              "│ 2022-10-07 ┆ 9614186178 ┆ 3803336972 ┆ UK pounds  ┆ … ┆ 10   ┆ 5         ┆ 1         ┆ 4.755743  │\n",
              "└────────────┴────────────┴────────────┴────────────┴───┴──────┴───────────┴───────────┴───────────┘"
            ],
            "text/html": [
              "<div><style>\n",
              ".dataframe > thead > tr,\n",
              ".dataframe > tbody > tr {\n",
              "  text-align: right;\n",
              "  white-space: pre-wrap;\n",
              "}\n",
              "</style>\n",
              "<small>shape: (5, 17)</small><table border=\"1\" class=\"dataframe\"><thead><tr><th>Date</th><th>Sender_account</th><th>Receiver_account</th><th>Payment_currency</th><th>Received_currency</th><th>Sender_bank_location</th><th>Receiver_bank_location</th><th>Payment_type</th><th>Is_laundering</th><th>timestamp</th><th>day</th><th>month</th><th>year</th><th>hour</th><th>day_of_week</th><th>is_weekend</th><th>amount_log</th></tr><tr><td>date</td><td>i64</td><td>i64</td><td>str</td><td>str</td><td>str</td><td>str</td><td>str</td><td>i8</td><td>datetime[μs]</td><td>i8</td><td>i8</td><td>i16</td><td>i8</td><td>i8</td><td>i8</td><td>f64</td></tr></thead><tbody><tr><td>2022-10-07</td><td>8724731955</td><td>2769355426</td><td>&quot;UK pounds&quot;</td><td>&quot;UK pounds&quot;</td><td>&quot;UK&quot;</td><td>&quot;UK&quot;</td><td>&quot;Cash Deposit&quot;</td><td>0</td><td>2022-10-07 10:35:19</td><td>7</td><td>10</td><td>2022</td><td>10</td><td>5</td><td>1</td><td>7.286294</td></tr><tr><td>2022-10-07</td><td>1491989064</td><td>8401255335</td><td>&quot;UK pounds&quot;</td><td>&quot;Dirham&quot;</td><td>&quot;UK&quot;</td><td>&quot;UAE&quot;</td><td>&quot;Cross-border&quot;</td><td>0</td><td>2022-10-07 10:35:20</td><td>7</td><td>10</td><td>2022</td><td>10</td><td>5</td><td>1</td><td>8.702949</td></tr><tr><td>2022-10-07</td><td>287305149</td><td>4404767002</td><td>&quot;UK pounds&quot;</td><td>&quot;UK pounds&quot;</td><td>&quot;UK&quot;</td><td>&quot;UK&quot;</td><td>&quot;Cheque&quot;</td><td>0</td><td>2022-10-07 10:35:20</td><td>7</td><td>10</td><td>2022</td><td>10</td><td>5</td><td>1</td><td>9.570071</td></tr><tr><td>2022-10-07</td><td>5376652437</td><td>9600420220</td><td>&quot;UK pounds&quot;</td><td>&quot;UK pounds&quot;</td><td>&quot;UK&quot;</td><td>&quot;UK&quot;</td><td>&quot;ACH&quot;</td><td>0</td><td>2022-10-07 10:35:21</td><td>7</td><td>10</td><td>2022</td><td>10</td><td>5</td><td>1</td><td>9.383957</td></tr><tr><td>2022-10-07</td><td>9614186178</td><td>3803336972</td><td>&quot;UK pounds&quot;</td><td>&quot;UK pounds&quot;</td><td>&quot;UK&quot;</td><td>&quot;UK&quot;</td><td>&quot;Cash Deposit&quot;</td><td>0</td><td>2022-10-07 10:35:21</td><td>7</td><td>10</td><td>2022</td><td>10</td><td>5</td><td>1</td><td>4.755743</td></tr></tbody></table></div>"
            ]
          },
          "metadata": {},
          "execution_count": 11
        }
      ]
    },
    {
      "cell_type": "code",
      "source": [
        "train_df, val_df, test_df = custom_split_polars(df, validation_dt=70, test_dt=35)\n"
      ],
      "metadata": {
        "id": "2fsvuAcezLC2"
      },
      "execution_count": 12,
      "outputs": []
    },
    {
      "cell_type": "code",
      "source": [
        "print(len(train_df), len(val_df), len(test_df))"
      ],
      "metadata": {
        "id": "m4eu8EAZ3oST",
        "colab": {
          "base_uri": "https://localhost:8080/"
        },
        "outputId": "0a865763-f81f-4996-e70c-3acc3da67867"
      },
      "execution_count": 13,
      "outputs": [
        {
          "output_type": "stream",
          "name": "stdout",
          "text": [
            "7429619 1044845 1030388\n"
          ]
        }
      ]
    },
    {
      "cell_type": "code",
      "source": [
        "cat_cols = [\"Sender_account\", \"Receiver_account\", \"Payment_currency\", \"Received_currency\", \"Sender_bank_location\",\n",
        "            \"Receiver_bank_location\", \"Payment_type\", \"day\", \"month\", \"year\", \"hour\", \"day_of_week\", \"is_weekend\"]"
      ],
      "metadata": {
        "id": "mgu8qtekzQTB"
      },
      "execution_count": 14,
      "outputs": []
    },
    {
      "cell_type": "code",
      "source": [
        "cont_cols = [\"amount_log\"]"
      ],
      "metadata": {
        "id": "0Te_xhr4zUqd"
      },
      "execution_count": 15,
      "outputs": []
    },
    {
      "cell_type": "code",
      "source": [
        "train_ds = TabAMLDataset(train_df, cat_cols, cont_cols, \"Is_laundering\", fit=True)"
      ],
      "metadata": {
        "id": "_SB12IrizXpF",
        "colab": {
          "base_uri": "https://localhost:8080/"
        },
        "outputId": "f7c4df2a-09c7-4a8c-a47c-0189495afde0"
      },
      "execution_count": 16,
      "outputs": [
        {
          "output_type": "stream",
          "name": "stdout",
          "text": [
            "⚡ Using hashing for high-cardinality column: Sender_account\n",
            "⚡ Using hashing for high-cardinality column: Receiver_account\n",
            "[DEBUG] x_cat shape: (7429619, 13)\n"
          ]
        }
      ]
    },
    {
      "cell_type": "code",
      "source": [
        "val_ds   = TabAMLDataset(val_df, cat_cols, cont_cols, \"Is_laundering\", encoders=train_ds.encoders, scaler=train_ds.scaler, fit=False)"
      ],
      "metadata": {
        "id": "PHmbGqp41JXX",
        "colab": {
          "base_uri": "https://localhost:8080/"
        },
        "outputId": "84c62aaa-0009-4637-88c9-7d6c1b63c02f"
      },
      "execution_count": 17,
      "outputs": [
        {
          "output_type": "stream",
          "name": "stdout",
          "text": [
            "⚡ Using hashing for high-cardinality column: Sender_account\n",
            "⚡ Using hashing for high-cardinality column: Receiver_account\n",
            "[DEBUG] x_cat shape: (1044845, 13)\n"
          ]
        }
      ]
    },
    {
      "cell_type": "code",
      "source": [
        "test_ds  = TabAMLDataset(test_df, cat_cols, cont_cols, \"Is_laundering\", encoders=train_ds.encoders, scaler=train_ds.scaler, fit=False)\n"
      ],
      "metadata": {
        "id": "sLaDwRdKgwY3",
        "colab": {
          "base_uri": "https://localhost:8080/"
        },
        "outputId": "82694440-cf91-4eb4-a9e5-227db79e4fbc"
      },
      "execution_count": 18,
      "outputs": [
        {
          "output_type": "stream",
          "name": "stdout",
          "text": [
            "⚡ Using hashing for high-cardinality column: Sender_account\n",
            "⚡ Using hashing for high-cardinality column: Receiver_account\n",
            "[DEBUG] x_cat shape: (1030388, 13)\n"
          ]
        }
      ]
    },
    {
      "cell_type": "code",
      "source": [
        "train_sampler = build_weighted_sampler(pl.Series(train_df[\"Is_laundering\"]))"
      ],
      "metadata": {
        "id": "befT3UFsox27"
      },
      "execution_count": 19,
      "outputs": []
    },
    {
      "cell_type": "code",
      "source": [
        "train_loader = DataLoader(train_ds, batch_size=256, shuffle=True, collate_fn=collate_encoded_batch)\n"
      ],
      "metadata": {
        "id": "FF8TbJCLgzzj"
      },
      "execution_count": 20,
      "outputs": []
    },
    {
      "cell_type": "code",
      "source": [
        "val_loader   = DataLoader(val_ds, batch_size=512, shuffle=False, collate_fn=collate_encoded_batch)"
      ],
      "metadata": {
        "id": "66bmI0pd1Nnw"
      },
      "execution_count": 21,
      "outputs": []
    },
    {
      "cell_type": "code",
      "source": [
        "test_loader  = DataLoader(test_ds, batch_size=512, shuffle=False, collate_fn=collate_encoded_batch)"
      ],
      "metadata": {
        "id": "7Cn0QEANg7nU"
      },
      "execution_count": 22,
      "outputs": []
    },
    {
      "cell_type": "code",
      "source": [
        "model = TabAMLModel(category_sizes=train_ds.category_sizes, cont_dim=len(cont_cols), embedding_dim=64, shared_ratio=1/6, num_heads=4, num_layers1=2, num_layers2=2, dropout=0.25, micro_indices=(0, 1))\n",
        "device = torch.device(\"cuda\" if torch.cuda.is_available() else \"cpu\")\n",
        "model.to(device)"
      ],
      "metadata": {
        "id": "7PP1RZVw1Ux0",
        "colab": {
          "base_uri": "https://localhost:8080/"
        },
        "outputId": "3803c200-c0ac-42f6-8b54-f2304dbda41f"
      },
      "execution_count": 23,
      "outputs": [
        {
          "output_type": "execute_result",
          "data": {
            "text/plain": [
              "TabAMLModel(\n",
              "  (embeddings): ModuleList(\n",
              "    (0-1): 2 x Embedding(50000, 54)\n",
              "    (2-3): 2 x Embedding(14, 54)\n",
              "    (4-5): 2 x Embedding(19, 54)\n",
              "    (6): Embedding(8, 54)\n",
              "    (7): Embedding(32, 54)\n",
              "    (8): Embedding(10, 54)\n",
              "    (9): Embedding(3, 54)\n",
              "    (10): Embedding(25, 54)\n",
              "    (11): Embedding(8, 54)\n",
              "    (12): Embedding(3, 54)\n",
              "  )\n",
              "  (micro_encoder): ResidualAttentionEncoder(\n",
              "    (layers): ModuleList(\n",
              "      (0-1): 2 x ResidualAttentionLayer(\n",
              "        (qkv): Linear(in_features=64, out_features=192, bias=False)\n",
              "        (attn_out): Linear(in_features=64, out_features=64, bias=False)\n",
              "        (ffn): Sequential(\n",
              "          (0): Linear(in_features=64, out_features=256, bias=True)\n",
              "          (1): GELU(approximate='none')\n",
              "          (2): Dropout(p=0.25, inplace=False)\n",
              "          (3): Linear(in_features=256, out_features=64, bias=True)\n",
              "          (4): Dropout(p=0.25, inplace=False)\n",
              "        )\n",
              "        (norm1): LayerNorm((64,), eps=1e-05, elementwise_affine=True)\n",
              "        (norm2): LayerNorm((64,), eps=1e-05, elementwise_affine=True)\n",
              "        (attn_dropout): Dropout(p=0.25, inplace=False)\n",
              "      )\n",
              "    )\n",
              "  )\n",
              "  (macro_encoder): ResidualAttentionEncoder(\n",
              "    (layers): ModuleList(\n",
              "      (0-1): 2 x ResidualAttentionLayer(\n",
              "        (qkv): Linear(in_features=64, out_features=192, bias=False)\n",
              "        (attn_out): Linear(in_features=64, out_features=64, bias=False)\n",
              "        (ffn): Sequential(\n",
              "          (0): Linear(in_features=64, out_features=256, bias=True)\n",
              "          (1): GELU(approximate='none')\n",
              "          (2): Dropout(p=0.25, inplace=False)\n",
              "          (3): Linear(in_features=256, out_features=64, bias=True)\n",
              "          (4): Dropout(p=0.25, inplace=False)\n",
              "        )\n",
              "        (norm1): LayerNorm((64,), eps=1e-05, elementwise_affine=True)\n",
              "        (norm2): LayerNorm((64,), eps=1e-05, elementwise_affine=True)\n",
              "        (attn_dropout): Dropout(p=0.25, inplace=False)\n",
              "      )\n",
              "    )\n",
              "  )\n",
              "  (cont_proj): Linear(in_features=1, out_features=1, bias=True)\n",
              "  (mlp): Sequential(\n",
              "    (0): Linear(in_features=833, out_features=3332, bias=True)\n",
              "    (1): GELU(approximate='none')\n",
              "    (2): Dropout(p=0.25, inplace=False)\n",
              "    (3): Linear(in_features=3332, out_features=1666, bias=True)\n",
              "    (4): GELU(approximate='none')\n",
              "    (5): Dropout(p=0.25, inplace=False)\n",
              "    (6): Linear(in_features=1666, out_features=1, bias=True)\n",
              "  )\n",
              ")"
            ]
          },
          "metadata": {},
          "execution_count": 23
        }
      ]
    },
    {
      "cell_type": "code",
      "source": [
        "pos_weight = compute_pos_weight(pl.Series(train_df[\"Is_laundering\"]))\n",
        "loss_fn = nn.BCEWithLogitsLoss(pos_weight=torch.tensor([pos_weight], device=device))\n",
        "\n",
        "optimizer = torch.optim.AdamW(model.parameters(), lr=1e-4, weight_decay=1e-4)\n",
        "scheduler = torch.optim.lr_scheduler.CosineAnnealingLR(optimizer, T_max=50, eta_min=5e-6)"
      ],
      "metadata": {
        "id": "20X6jhKd1jBg"
      },
      "execution_count": 24,
      "outputs": []
    },
    {
      "cell_type": "code",
      "source": [
        "epochs = 50\n",
        "for epoch in range(epochs):\n",
        "    train_loss = train_epoch(model, train_loader, optimizer, loss_fn, device)\n",
        "    val_metrics = evaluate(model, val_loader, loss_fn, device)\n",
        "    print(f\"Epoch {epoch+1}/{epochs} | Train Loss: {train_loss:.4f} | \"\n",
        "          f\"Val Loss: {val_metrics[0]:.4f} | Val ROC-AUC: {val_metrics[1]:.4f}\")"
      ],
      "metadata": {
        "id": "adXBHOw21sF9",
        "colab": {
          "base_uri": "https://localhost:8080/"
        },
        "outputId": "891d7a97-c422-42e7-bd0e-44f1e1b2ae42"
      },
      "execution_count": null,
      "outputs": [
        {
          "output_type": "stream",
          "name": "stdout",
          "text": [
            "Epoch 1/50 | Train Loss: 1.1188 | Val Loss: 1.2114 | Val ROC-AUC: 0.7956\n",
            "Epoch 2/50 | Train Loss: 0.7435 | Val Loss: 1.4527 | Val ROC-AUC: 0.7999\n",
            "Epoch 3/50 | Train Loss: 0.5139 | Val Loss: 1.8569 | Val ROC-AUC: 0.8015\n",
            "Epoch 4/50 | Train Loss: 0.4068 | Val Loss: 1.7017 | Val ROC-AUC: 0.7792\n"
          ]
        }
      ]
    },
    {
      "cell_type": "code",
      "source": [
        "test_metrics = evaluate(model, test_loader, loss_fn, device)\n",
        "print(\"Test Results:\", test_metrics)"
      ],
      "metadata": {
        "id": "I-0KJO-7gEOJ"
      },
      "execution_count": null,
      "outputs": []
    }
  ]
}