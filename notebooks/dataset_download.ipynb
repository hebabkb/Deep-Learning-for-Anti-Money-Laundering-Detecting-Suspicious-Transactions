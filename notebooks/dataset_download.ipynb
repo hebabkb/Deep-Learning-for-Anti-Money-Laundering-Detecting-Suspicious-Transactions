{
 "cells": [
  {
   "cell_type": "code",
   "execution_count": 1,
   "id": "e1ebbf28",
   "metadata": {},
   "outputs": [],
   "source": [
    "import sys\n",
    "import os\n",
    "from pathlib import Path\n",
    "sys.path.append(str(Path.cwd().parent))  # Adjust as needed\n",
    "import pandas as pd\n",
    "import numpy as np\n",
    "from sklearn.model_selection import train_test_split"
   ]
  },
  {
   "cell_type": "code",
   "execution_count": 2,
   "id": "8c0156c3",
   "metadata": {},
   "outputs": [
    {
     "name": "stdout",
     "output_type": "stream",
     "text": [
      "Downloading to: /work/pi_gkhanna_uri_edu/riteshbachhar_uri_edu/Research/MLProject/FraudDetection/Fraud-detection-using-AI/data/raw\n",
      "Dataset URL: https://www.kaggle.com/datasets/berkanoztas/synthetic-transaction-monitoring-dataset-aml\n",
      "✓ Download complete\n",
      "\n",
      "Files (1):\n",
      "  SAML-D.csv (950.02 MB)\n"
     ]
    },
    {
     "data": {
      "text/plain": [
       "True"
      ]
     },
     "execution_count": 2,
     "metadata": {},
     "output_type": "execute_result"
    }
   ],
   "source": [
    "# Will download the entire dataset (~1GB)\n",
    "from utils.download_dataset import download_saml_dataset\n",
    "download_saml_dataset()"
   ]
  },
  {
   "cell_type": "code",
   "execution_count": 3,
   "id": "c925c219",
   "metadata": {},
   "outputs": [],
   "source": [
    "from config import DATAPATH, SAMPLE_DATAPATH"
   ]
  },
  {
   "cell_type": "markdown",
   "id": "dd845106",
   "metadata": {},
   "source": [
    "#### Generate a sample dataset (first N rows) from the full dataset for quick experimentation"
   ]
  },
  {
   "cell_type": "code",
   "execution_count": 4,
   "id": "c6f6fe31",
   "metadata": {},
   "outputs": [],
   "source": [
    "# Load the entire dataset\n",
    "df = pd.read_csv(DATAPATH)"
   ]
  },
  {
   "cell_type": "code",
   "execution_count": 5,
   "id": "283b8958",
   "metadata": {},
   "outputs": [
    {
     "name": "stdout",
     "output_type": "stream",
     "text": [
      "File saved: 49.95 MB\n",
      "Sample dataset generated successfully: /work/pi_gkhanna_uri_edu/riteshbachhar_uri_edu/Research/MLProject/FraudDetection/Fraud-detection-using-AI/data/raw/sample_SAML-D.csv\n"
     ]
    }
   ],
   "source": [
    "# Number of rows\n",
    "N = 500000\n",
    "max_mb = 50\n",
    "\n",
    "sample_df = df.head(N)\n",
    "\n",
    "# Save the sample dataset\n",
    "sample_df.to_csv(SAMPLE_DATAPATH, index=False)\n",
    "\n",
    "file_size_mb = os.path.getsize(SAMPLE_DATAPATH) / (1024**2)\n",
    "print(f\"File saved: {file_size_mb:.2f} MB\")\n",
    "\n",
    "if file_size_mb < max_mb:\n",
    "    print(f\"Sample dataset generated successfully: {SAMPLE_DATAPATH}\")\n",
    "else:\n",
    "    print(f\"Warning: Sample dataset size exceeds {max_mb}MB.\")\n",
    "    print(\"Deleting the sample dataset and regenerate with a smaller N.\")\n",
    "    os.remove(SAMPLE_DATAPATH)"
   ]
  },
  {
   "cell_type": "code",
   "execution_count": null,
   "id": "83664ba6",
   "metadata": {},
   "outputs": [],
   "source": []
  }
 ],
 "metadata": {
  "kernelspec": {
   "display_name": "ArielTor",
   "language": "python",
   "name": "python3"
  },
  "language_info": {
   "codemirror_mode": {
    "name": "ipython",
    "version": 3
   },
   "file_extension": ".py",
   "mimetype": "text/x-python",
   "name": "python",
   "nbconvert_exporter": "python",
   "pygments_lexer": "ipython3",
   "version": "3.11.11"
  }
 },
 "nbformat": 4,
 "nbformat_minor": 5
}
