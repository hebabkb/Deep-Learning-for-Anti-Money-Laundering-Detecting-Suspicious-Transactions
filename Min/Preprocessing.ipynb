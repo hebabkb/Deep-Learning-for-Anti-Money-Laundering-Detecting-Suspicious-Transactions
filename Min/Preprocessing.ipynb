{
  "cells": [
    {
      "cell_type": "code",
      "execution_count": 35,
      "metadata": {
        "id": "jyCmpmeyO7Vu"
      },
      "outputs": [],
      "source": [
        "import pandas as pd\n",
        "import numpy as np\n",
        "import matplotlib.pyplot as plt\n",
        "import seaborn as sns\n",
        "import torch\n",
        "import torch.nn as nn\n",
        "from sklearn.preprocessing import LabelEncoder\n",
        "from sklearn.preprocessing import PowerTransformer"
      ]
    },
    {
      "cell_type": "markdown",
      "metadata": {
        "id": "AJNisIHkaTuF"
      },
      "source": [
        "Timestamp Handling and Related Feature Engineering"
      ]
    },
    {
      "cell_type": "code",
      "execution_count": 36,
      "metadata": {},
      "outputs": [],
      "source": [
        "train_df = pd.read_csv(\"train.csv\")\n",
        "val_df = pd.read_csv(\"validation.csv\")\n",
        "test_df = pd.read_csv(\"test.csv\")"
      ]
    },
    {
      "cell_type": "code",
      "execution_count": 37,
      "metadata": {},
      "outputs": [
        {
          "data": {
            "text/plain": [
              "Index(['Unnamed: 0', 'Time', 'Date', 'Sender_account', 'Receiver_account',\n",
              "       'Amount', 'Payment_currency', 'Received_currency',\n",
              "       'Sender_bank_location', 'Receiver_bank_location', 'Payment_type',\n",
              "       'Is_laundering', 'Laundering_type'],\n",
              "      dtype='object')"
            ]
          },
          "execution_count": 37,
          "metadata": {},
          "output_type": "execute_result"
        }
      ],
      "source": [
        "train_df.columns"
      ]
    },
    {
      "cell_type": "code",
      "execution_count": 38,
      "metadata": {},
      "outputs": [],
      "source": [
        "categorical_cols = ['Sender_account', 'Receiver_account',\n",
        "                    'Payment_currency', 'Received_currency',\n",
        "                    'Sender_bank_location', 'Receiver_bank_location', 'Payment_type']\n",
        "continuous_cols = [\"Amount\"]\n",
        "target_col = 'Is_laundering'"
      ]
    },
    {
      "cell_type": "code",
      "execution_count": 39,
      "metadata": {},
      "outputs": [],
      "source": [
        "for df in [train_df, val_df, test_df]:\n",
        "\n",
        "    df['Time'] = df['Time'].astype(str).str.replace(r'0 days\\s+', '', regex=True)\n",
        "\n",
        "    df['DateTime'] = df['Date'] + ' ' + df['Time']\n",
        "\n",
        "\n",
        "    df['DateTime'] = pd.to_datetime(df['DateTime'], format='%Y-%m-%d %H:%M:%S')\n",
        "\n",
        "    df['Timestamp'] = df['DateTime'].astype('int64') // 10**9  # seconds since epoch\n",
        "\n",
        "    df['hour'] = df['DateTime'].dt.hour\n",
        "    df['Minute'] = df['DateTime'].dt.minute\n",
        "    df['Second'] = df['DateTime'].dt.second\n",
        "    df['day_of_week'] = df['DateTime'].dt.dayofweek\n",
        "    df['is_weekend'] = df['day_of_week'] >= 5\n",
        "\n",
        "    df['day'] = df['DateTime'].dt.day\n",
        "    df['year'] = df['DateTime'].dt.year\n",
        "\n",
        "    df['month'] = df['DateTime'].dt.month\n",
        "\n",
        "    df['week'] = df['DateTime'].dt.isocalendar().week"
      ]
    },
    {
      "cell_type": "code",
      "execution_count": 40,
      "metadata": {},
      "outputs": [
        {
          "data": {
            "text/plain": [
              "Sender_account\n",
              "4109275762    636\n",
              "798082205     630\n",
              "1298080955    612\n",
              "5893741140    610\n",
              "8035399972    609\n",
              "             ... \n",
              "9532476954      1\n",
              "5544146952      1\n",
              "708532896       1\n",
              "2931451038      1\n",
              "7381575416      1\n",
              "Name: count, Length: 245891, dtype: int64"
            ]
          },
          "execution_count": 40,
          "metadata": {},
          "output_type": "execute_result"
        }
      ],
      "source": [
        "train_df.Sender_account.value_counts()"
      ]
    },
    {
      "cell_type": "markdown",
      "metadata": {
        "id": "AMaaxyJpdbsU"
      },
      "source": [
        "Label encoding for categorical variables"
      ]
    },
    {
      "cell_type": "code",
      "execution_count": 41,
      "metadata": {
        "colab": {
          "base_uri": "https://localhost:8080/"
        },
        "id": "1CydjtI5dxkI",
        "outputId": "d9dc30f2-043c-4ffd-93dd-e4f38d1bcff7"
      },
      "outputs": [],
      "source": [
        "encoders = {}  # store encoders for reuse\n",
        "categorical_cols = ['Sender_account', 'Receiver_account',\n",
        "                    'Payment_currency', 'Received_currency',\n",
        "                    'Sender_bank_location', 'Receiver_bank_location', 'Payment_type']\n",
        "continuous_cols = [\"Amount\"]\n",
        "target_col = 'Is_laundering'\n",
        "\n",
        "for col in categorical_cols:\n",
        "    le = LabelEncoder()\n",
        "    le.fit(train_df[col])\n",
        "\n",
        "    def safe_transform(df_col):\n",
        "        # Replace unseen categories with a placeholder (here, just pick a known one)\n",
        "        known_classes = set(le.classes_)\n",
        "        return df_col.map(lambda x: x if x in known_classes else le.classes_[0])\n",
        "\n",
        "    # Transform train/val/test\n",
        "    train_df[col] = le.transform(train_df[col])\n",
        "    val_df[col] = le.transform(safe_transform(val_df[col]))\n",
        "    test_df[col] = le.transform(safe_transform(test_df[col]))\n",
        "\n",
        "    encoders[col] = le\n"
      ]
    },
    {
      "cell_type": "code",
      "execution_count": 46,
      "metadata": {},
      "outputs": [
        {
          "data": {
            "text/plain": [
              "count    7.429619e+06\n",
              "mean     1.232359e+05\n",
              "std      7.083507e+04\n",
              "min      0.000000e+00\n",
              "25%      6.226700e+04\n",
              "50%      1.231110e+05\n",
              "75%      1.845330e+05\n",
              "max      2.458900e+05\n",
              "Name: Sender_account, dtype: float64"
            ]
          },
          "execution_count": 46,
          "metadata": {},
          "output_type": "execute_result"
        }
      ],
      "source": [
        "train_df.Sender_account.describe()"
      ]
    },
    {
      "cell_type": "markdown",
      "metadata": {
        "id": "9LbsNrHSfoFQ"
      },
      "source": [
        "Log Transform of `Amount` to reduce skewness (just standardize the `Amount` here)"
      ]
    },
    {
      "cell_type": "code",
      "execution_count": 43,
      "metadata": {
        "id": "YlZJ77VHf2Js"
      },
      "outputs": [],
      "source": [
        "pt = PowerTransformer(method='yeo-johnson', standardize=True)\n",
        "\n",
        "train_df['amount_power'] = pt.fit_transform(train_df[['Amount']])\n",
        "val_df['amount_power'] = pt.transform(val_df[['Amount']])\n",
        "test_df['amount_power'] = pt.transform(test_df[['Amount']])"
      ]
    },
    {
      "cell_type": "code",
      "execution_count": 44,
      "metadata": {},
      "outputs": [
        {
          "data": {
            "text/html": [
              "<div>\n",
              "<style scoped>\n",
              "    .dataframe tbody tr th:only-of-type {\n",
              "        vertical-align: middle;\n",
              "    }\n",
              "\n",
              "    .dataframe tbody tr th {\n",
              "        vertical-align: top;\n",
              "    }\n",
              "\n",
              "    .dataframe thead th {\n",
              "        text-align: right;\n",
              "    }\n",
              "</style>\n",
              "<table border=\"1\" class=\"dataframe\">\n",
              "  <thead>\n",
              "    <tr style=\"text-align: right;\">\n",
              "      <th></th>\n",
              "      <th>Unnamed: 0</th>\n",
              "      <th>Time</th>\n",
              "      <th>Date</th>\n",
              "      <th>Sender_account</th>\n",
              "      <th>Receiver_account</th>\n",
              "      <th>Amount</th>\n",
              "      <th>Payment_currency</th>\n",
              "      <th>Received_currency</th>\n",
              "      <th>Sender_bank_location</th>\n",
              "      <th>Receiver_bank_location</th>\n",
              "      <th>...</th>\n",
              "      <th>hour</th>\n",
              "      <th>Minute</th>\n",
              "      <th>Second</th>\n",
              "      <th>day_of_week</th>\n",
              "      <th>is_weekend</th>\n",
              "      <th>day</th>\n",
              "      <th>year</th>\n",
              "      <th>month</th>\n",
              "      <th>week</th>\n",
              "      <th>amount_power</th>\n",
              "    </tr>\n",
              "  </thead>\n",
              "  <tbody>\n",
              "    <tr>\n",
              "      <th>0</th>\n",
              "      <td>0</td>\n",
              "      <td>10:35:19</td>\n",
              "      <td>2022-10-07</td>\n",
              "      <td>214498</td>\n",
              "      <td>162977</td>\n",
              "      <td>1459.15</td>\n",
              "      <td>10</td>\n",
              "      <td>10</td>\n",
              "      <td>16</td>\n",
              "      <td>16</td>\n",
              "      <td>...</td>\n",
              "      <td>10</td>\n",
              "      <td>35</td>\n",
              "      <td>19</td>\n",
              "      <td>4</td>\n",
              "      <td>False</td>\n",
              "      <td>7</td>\n",
              "      <td>2022</td>\n",
              "      <td>10</td>\n",
              "      <td>40</td>\n",
              "      <td>-0.880694</td>\n",
              "    </tr>\n",
              "    <tr>\n",
              "      <th>1</th>\n",
              "      <td>1</td>\n",
              "      <td>10:35:20</td>\n",
              "      <td>2022-10-07</td>\n",
              "      <td>36586</td>\n",
              "      <td>495398</td>\n",
              "      <td>6019.64</td>\n",
              "      <td>10</td>\n",
              "      <td>1</td>\n",
              "      <td>16</td>\n",
              "      <td>15</td>\n",
              "      <td>...</td>\n",
              "      <td>10</td>\n",
              "      <td>35</td>\n",
              "      <td>20</td>\n",
              "      <td>4</td>\n",
              "      <td>False</td>\n",
              "      <td>7</td>\n",
              "      <td>2022</td>\n",
              "      <td>10</td>\n",
              "      <td>40</td>\n",
              "      <td>0.134756</td>\n",
              "    </tr>\n",
              "    <tr>\n",
              "      <th>2</th>\n",
              "      <td>2</td>\n",
              "      <td>10:35:20</td>\n",
              "      <td>2022-10-07</td>\n",
              "      <td>7222</td>\n",
              "      <td>259992</td>\n",
              "      <td>14328.44</td>\n",
              "      <td>10</td>\n",
              "      <td>10</td>\n",
              "      <td>16</td>\n",
              "      <td>16</td>\n",
              "      <td>...</td>\n",
              "      <td>10</td>\n",
              "      <td>35</td>\n",
              "      <td>20</td>\n",
              "      <td>4</td>\n",
              "      <td>False</td>\n",
              "      <td>7</td>\n",
              "      <td>2022</td>\n",
              "      <td>10</td>\n",
              "      <td>40</td>\n",
              "      <td>0.926190</td>\n",
              "    </tr>\n",
              "    <tr>\n",
              "      <th>3</th>\n",
              "      <td>3</td>\n",
              "      <td>10:35:21</td>\n",
              "      <td>2022-10-07</td>\n",
              "      <td>132152</td>\n",
              "      <td>566042</td>\n",
              "      <td>11895.00</td>\n",
              "      <td>10</td>\n",
              "      <td>10</td>\n",
              "      <td>16</td>\n",
              "      <td>16</td>\n",
              "      <td>...</td>\n",
              "      <td>10</td>\n",
              "      <td>35</td>\n",
              "      <td>21</td>\n",
              "      <td>4</td>\n",
              "      <td>False</td>\n",
              "      <td>7</td>\n",
              "      <td>2022</td>\n",
              "      <td>10</td>\n",
              "      <td>40</td>\n",
              "      <td>0.743749</td>\n",
              "    </tr>\n",
              "    <tr>\n",
              "      <th>4</th>\n",
              "      <td>4</td>\n",
              "      <td>10:35:21</td>\n",
              "      <td>2022-10-07</td>\n",
              "      <td>236371</td>\n",
              "      <td>224426</td>\n",
              "      <td>115.25</td>\n",
              "      <td>10</td>\n",
              "      <td>10</td>\n",
              "      <td>16</td>\n",
              "      <td>16</td>\n",
              "      <td>...</td>\n",
              "      <td>10</td>\n",
              "      <td>35</td>\n",
              "      <td>21</td>\n",
              "      <td>4</td>\n",
              "      <td>False</td>\n",
              "      <td>7</td>\n",
              "      <td>2022</td>\n",
              "      <td>10</td>\n",
              "      <td>40</td>\n",
              "      <td>-2.080376</td>\n",
              "    </tr>\n",
              "  </tbody>\n",
              "</table>\n",
              "<p>5 rows × 25 columns</p>\n",
              "</div>"
            ],
            "text/plain": [
              "   Unnamed: 0      Time        Date  Sender_account  Receiver_account  \\\n",
              "0           0  10:35:19  2022-10-07          214498            162977   \n",
              "1           1  10:35:20  2022-10-07           36586            495398   \n",
              "2           2  10:35:20  2022-10-07            7222            259992   \n",
              "3           3  10:35:21  2022-10-07          132152            566042   \n",
              "4           4  10:35:21  2022-10-07          236371            224426   \n",
              "\n",
              "     Amount  Payment_currency  Received_currency  Sender_bank_location  \\\n",
              "0   1459.15                10                 10                    16   \n",
              "1   6019.64                10                  1                    16   \n",
              "2  14328.44                10                 10                    16   \n",
              "3  11895.00                10                 10                    16   \n",
              "4    115.25                10                 10                    16   \n",
              "\n",
              "   Receiver_bank_location  ...  hour  Minute Second day_of_week  is_weekend  \\\n",
              "0                      16  ...    10      35     19           4       False   \n",
              "1                      15  ...    10      35     20           4       False   \n",
              "2                      16  ...    10      35     20           4       False   \n",
              "3                      16  ...    10      35     21           4       False   \n",
              "4                      16  ...    10      35     21           4       False   \n",
              "\n",
              "   day  year  month  week  amount_power  \n",
              "0    7  2022     10    40     -0.880694  \n",
              "1    7  2022     10    40      0.134756  \n",
              "2    7  2022     10    40      0.926190  \n",
              "3    7  2022     10    40      0.743749  \n",
              "4    7  2022     10    40     -2.080376  \n",
              "\n",
              "[5 rows x 25 columns]"
            ]
          },
          "execution_count": 44,
          "metadata": {},
          "output_type": "execute_result"
        }
      ],
      "source": [
        "train_df.head(5)"
      ]
    },
    {
      "cell_type": "code",
      "execution_count": 47,
      "metadata": {},
      "outputs": [],
      "source": [
        "train_df.to_csv(\"preprocessed_train.csv\")\n",
        "val_df.to_csv(\"preprocessed_validation.csv\")\n",
        "test_df.to_csv(\"preprocessed_test.csv\")"
      ]
    }
  ],
  "metadata": {
    "colab": {
      "provenance": []
    },
    "kernelspec": {
      "display_name": "erdos_summer_2025",
      "language": "python",
      "name": "python3"
    },
    "language_info": {
      "codemirror_mode": {
        "name": "ipython",
        "version": 3
      },
      "file_extension": ".py",
      "mimetype": "text/x-python",
      "name": "python",
      "nbconvert_exporter": "python",
      "pygments_lexer": "ipython3",
      "version": "3.12.3"
    }
  },
  "nbformat": 4,
  "nbformat_minor": 0
}
