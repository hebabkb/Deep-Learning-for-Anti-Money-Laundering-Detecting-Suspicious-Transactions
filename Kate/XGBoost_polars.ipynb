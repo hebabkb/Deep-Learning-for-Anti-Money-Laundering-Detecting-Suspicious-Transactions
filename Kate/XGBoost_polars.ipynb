{
  "nbformat": 4,
  "nbformat_minor": 0,
  "metadata": {
    "colab": {
      "provenance": []
    },
    "kernelspec": {
      "name": "python3",
      "display_name": "Python 3"
    },
    "language_info": {
      "name": "python"
    }
  },
  "cells": [
    {
      "cell_type": "markdown",
      "source": [
        "# XGBoost using polars"
      ],
      "metadata": {
        "id": "mf9c77p-RNVg"
      }
    },
    {
      "cell_type": "markdown",
      "source": [
        "**Import data from Kaggle**"
      ],
      "metadata": {
        "id": "F9TFF-wHxD60"
      }
    },
    {
      "cell_type": "code",
      "execution_count": 1,
      "metadata": {
        "colab": {
          "base_uri": "https://localhost:8080/",
          "height": 91
        },
        "id": "ZuCwQt6UwN0U",
        "outputId": "36e13c08-9e45-4584-d2fa-b0abdf264a7f"
      },
      "outputs": [
        {
          "output_type": "display_data",
          "data": {
            "text/plain": [
              "<IPython.core.display.HTML object>"
            ],
            "text/html": [
              "\n",
              "     <input type=\"file\" id=\"files-e28d6417-7c32-4738-9774-7395025439d4\" name=\"files[]\" multiple disabled\n",
              "        style=\"border:none\" />\n",
              "     <output id=\"result-e28d6417-7c32-4738-9774-7395025439d4\">\n",
              "      Upload widget is only available when the cell has been executed in the\n",
              "      current browser session. Please rerun this cell to enable.\n",
              "      </output>\n",
              "      <script>// Copyright 2017 Google LLC\n",
              "//\n",
              "// Licensed under the Apache License, Version 2.0 (the \"License\");\n",
              "// you may not use this file except in compliance with the License.\n",
              "// You may obtain a copy of the License at\n",
              "//\n",
              "//      http://www.apache.org/licenses/LICENSE-2.0\n",
              "//\n",
              "// Unless required by applicable law or agreed to in writing, software\n",
              "// distributed under the License is distributed on an \"AS IS\" BASIS,\n",
              "// WITHOUT WARRANTIES OR CONDITIONS OF ANY KIND, either express or implied.\n",
              "// See the License for the specific language governing permissions and\n",
              "// limitations under the License.\n",
              "\n",
              "/**\n",
              " * @fileoverview Helpers for google.colab Python module.\n",
              " */\n",
              "(function(scope) {\n",
              "function span(text, styleAttributes = {}) {\n",
              "  const element = document.createElement('span');\n",
              "  element.textContent = text;\n",
              "  for (const key of Object.keys(styleAttributes)) {\n",
              "    element.style[key] = styleAttributes[key];\n",
              "  }\n",
              "  return element;\n",
              "}\n",
              "\n",
              "// Max number of bytes which will be uploaded at a time.\n",
              "const MAX_PAYLOAD_SIZE = 100 * 1024;\n",
              "\n",
              "function _uploadFiles(inputId, outputId) {\n",
              "  const steps = uploadFilesStep(inputId, outputId);\n",
              "  const outputElement = document.getElementById(outputId);\n",
              "  // Cache steps on the outputElement to make it available for the next call\n",
              "  // to uploadFilesContinue from Python.\n",
              "  outputElement.steps = steps;\n",
              "\n",
              "  return _uploadFilesContinue(outputId);\n",
              "}\n",
              "\n",
              "// This is roughly an async generator (not supported in the browser yet),\n",
              "// where there are multiple asynchronous steps and the Python side is going\n",
              "// to poll for completion of each step.\n",
              "// This uses a Promise to block the python side on completion of each step,\n",
              "// then passes the result of the previous step as the input to the next step.\n",
              "function _uploadFilesContinue(outputId) {\n",
              "  const outputElement = document.getElementById(outputId);\n",
              "  const steps = outputElement.steps;\n",
              "\n",
              "  const next = steps.next(outputElement.lastPromiseValue);\n",
              "  return Promise.resolve(next.value.promise).then((value) => {\n",
              "    // Cache the last promise value to make it available to the next\n",
              "    // step of the generator.\n",
              "    outputElement.lastPromiseValue = value;\n",
              "    return next.value.response;\n",
              "  });\n",
              "}\n",
              "\n",
              "/**\n",
              " * Generator function which is called between each async step of the upload\n",
              " * process.\n",
              " * @param {string} inputId Element ID of the input file picker element.\n",
              " * @param {string} outputId Element ID of the output display.\n",
              " * @return {!Iterable<!Object>} Iterable of next steps.\n",
              " */\n",
              "function* uploadFilesStep(inputId, outputId) {\n",
              "  const inputElement = document.getElementById(inputId);\n",
              "  inputElement.disabled = false;\n",
              "\n",
              "  const outputElement = document.getElementById(outputId);\n",
              "  outputElement.innerHTML = '';\n",
              "\n",
              "  const pickedPromise = new Promise((resolve) => {\n",
              "    inputElement.addEventListener('change', (e) => {\n",
              "      resolve(e.target.files);\n",
              "    });\n",
              "  });\n",
              "\n",
              "  const cancel = document.createElement('button');\n",
              "  inputElement.parentElement.appendChild(cancel);\n",
              "  cancel.textContent = 'Cancel upload';\n",
              "  const cancelPromise = new Promise((resolve) => {\n",
              "    cancel.onclick = () => {\n",
              "      resolve(null);\n",
              "    };\n",
              "  });\n",
              "\n",
              "  // Wait for the user to pick the files.\n",
              "  const files = yield {\n",
              "    promise: Promise.race([pickedPromise, cancelPromise]),\n",
              "    response: {\n",
              "      action: 'starting',\n",
              "    }\n",
              "  };\n",
              "\n",
              "  cancel.remove();\n",
              "\n",
              "  // Disable the input element since further picks are not allowed.\n",
              "  inputElement.disabled = true;\n",
              "\n",
              "  if (!files) {\n",
              "    return {\n",
              "      response: {\n",
              "        action: 'complete',\n",
              "      }\n",
              "    };\n",
              "  }\n",
              "\n",
              "  for (const file of files) {\n",
              "    const li = document.createElement('li');\n",
              "    li.append(span(file.name, {fontWeight: 'bold'}));\n",
              "    li.append(span(\n",
              "        `(${file.type || 'n/a'}) - ${file.size} bytes, ` +\n",
              "        `last modified: ${\n",
              "            file.lastModifiedDate ? file.lastModifiedDate.toLocaleDateString() :\n",
              "                                    'n/a'} - `));\n",
              "    const percent = span('0% done');\n",
              "    li.appendChild(percent);\n",
              "\n",
              "    outputElement.appendChild(li);\n",
              "\n",
              "    const fileDataPromise = new Promise((resolve) => {\n",
              "      const reader = new FileReader();\n",
              "      reader.onload = (e) => {\n",
              "        resolve(e.target.result);\n",
              "      };\n",
              "      reader.readAsArrayBuffer(file);\n",
              "    });\n",
              "    // Wait for the data to be ready.\n",
              "    let fileData = yield {\n",
              "      promise: fileDataPromise,\n",
              "      response: {\n",
              "        action: 'continue',\n",
              "      }\n",
              "    };\n",
              "\n",
              "    // Use a chunked sending to avoid message size limits. See b/62115660.\n",
              "    let position = 0;\n",
              "    do {\n",
              "      const length = Math.min(fileData.byteLength - position, MAX_PAYLOAD_SIZE);\n",
              "      const chunk = new Uint8Array(fileData, position, length);\n",
              "      position += length;\n",
              "\n",
              "      const base64 = btoa(String.fromCharCode.apply(null, chunk));\n",
              "      yield {\n",
              "        response: {\n",
              "          action: 'append',\n",
              "          file: file.name,\n",
              "          data: base64,\n",
              "        },\n",
              "      };\n",
              "\n",
              "      let percentDone = fileData.byteLength === 0 ?\n",
              "          100 :\n",
              "          Math.round((position / fileData.byteLength) * 100);\n",
              "      percent.textContent = `${percentDone}% done`;\n",
              "\n",
              "    } while (position < fileData.byteLength);\n",
              "  }\n",
              "\n",
              "  // All done.\n",
              "  yield {\n",
              "    response: {\n",
              "      action: 'complete',\n",
              "    }\n",
              "  };\n",
              "}\n",
              "\n",
              "scope.google = scope.google || {};\n",
              "scope.google.colab = scope.google.colab || {};\n",
              "scope.google.colab._files = {\n",
              "  _uploadFiles,\n",
              "  _uploadFilesContinue,\n",
              "};\n",
              "})(self);\n",
              "</script> "
            ]
          },
          "metadata": {}
        },
        {
          "output_type": "stream",
          "name": "stdout",
          "text": [
            "Saving kaggle.json to kaggle.json\n"
          ]
        },
        {
          "output_type": "execute_result",
          "data": {
            "text/plain": [
              "{'kaggle.json': b'{\"username\":\"phuongkhanh21\",\"key\":\"0fd6eb70e1509aad441adeb76f0dfff2\"}'}"
            ]
          },
          "metadata": {},
          "execution_count": 1
        }
      ],
      "source": [
        "from google.colab import files\n",
        "files.upload()"
      ]
    },
    {
      "cell_type": "code",
      "source": [
        "import os\n",
        "os.makedirs('/root/.kaggle', exist_ok=True)\n",
        "!mv kaggle.json /root/.kaggle/\n",
        "!chmod 600 /root/.kaggle/kaggle.json\n",
        "\n",
        "!kaggle datasets download -d berkanoztas/synthetic-transaction-monitoring-dataset-aml\n",
        "\n",
        "import zipfile\n",
        "\n",
        "with zipfile.ZipFile(\"synthetic-transaction-monitoring-dataset-aml.zip\", 'r') as zip_ref:\n",
        "    zip_ref.extractall(\"synthetic_transaction_data\")"
      ],
      "metadata": {
        "colab": {
          "base_uri": "https://localhost:8080/"
        },
        "id": "7Z57LoIHxCxf",
        "outputId": "7fa50add-e9df-48c0-d602-4def62b311c6"
      },
      "execution_count": 2,
      "outputs": [
        {
          "output_type": "stream",
          "name": "stdout",
          "text": [
            "Dataset URL: https://www.kaggle.com/datasets/berkanoztas/synthetic-transaction-monitoring-dataset-aml\n",
            "License(s): CC-BY-NC-SA-4.0\n",
            "Downloading synthetic-transaction-monitoring-dataset-aml.zip to /content\n",
            " 60% 115M/193M [00:00<00:00, 1.20GB/s]\n",
            "100% 193M/193M [00:00<00:00, 1.03GB/s]\n"
          ]
        }
      ]
    },
    {
      "cell_type": "code",
      "source": [
        "import pandas as pd\n",
        "import polars as pl\n",
        "from datetime import timedelta"
      ],
      "metadata": {
        "id": "GuiNZw7sxVZ-"
      },
      "execution_count": 3,
      "outputs": []
    },
    {
      "cell_type": "code",
      "source": [
        "os.listdir(\"synthetic_transaction_data\")\n",
        "df = pl.read_csv(\"synthetic_transaction_data/SAML-D.csv\")\n",
        "df.head(5)"
      ],
      "metadata": {
        "colab": {
          "base_uri": "https://localhost:8080/",
          "height": 361
        },
        "id": "fNfTVscTxTJH",
        "outputId": "e84c9ede-f9e7-4045-8fe0-fc2e042df86b"
      },
      "execution_count": 4,
      "outputs": [
        {
          "output_type": "execute_result",
          "data": {
            "text/plain": [
              "shape: (5, 12)\n",
              "┌──────────┬───────────┬───────────┬───────────┬───┬───────────┬───────────┬───────────┬───────────┐\n",
              "│ Time     ┆ Date      ┆ Sender_ac ┆ Receiver_ ┆ … ┆ Receiver_ ┆ Payment_t ┆ Is_launde ┆ Launderin │\n",
              "│ ---      ┆ ---       ┆ count     ┆ account   ┆   ┆ bank_loca ┆ ype       ┆ ring      ┆ g_type    │\n",
              "│ str      ┆ str       ┆ ---       ┆ ---       ┆   ┆ tion      ┆ ---       ┆ ---       ┆ ---       │\n",
              "│          ┆           ┆ i64       ┆ i64       ┆   ┆ ---       ┆ str       ┆ i64       ┆ str       │\n",
              "│          ┆           ┆           ┆           ┆   ┆ str       ┆           ┆           ┆           │\n",
              "╞══════════╪═══════════╪═══════════╪═══════════╪═══╪═══════════╪═══════════╪═══════════╪═══════════╡\n",
              "│ 10:35:19 ┆ 2022-10-0 ┆ 872473195 ┆ 276935542 ┆ … ┆ UK        ┆ Cash      ┆ 0         ┆ Normal_Ca │\n",
              "│          ┆ 7         ┆ 5         ┆ 6         ┆   ┆           ┆ Deposit   ┆           ┆ sh_Deposi │\n",
              "│          ┆           ┆           ┆           ┆   ┆           ┆           ┆           ┆ ts        │\n",
              "│ 10:35:20 ┆ 2022-10-0 ┆ 149198906 ┆ 840125533 ┆ … ┆ UAE       ┆ Cross-bor ┆ 0         ┆ Normal_Fa │\n",
              "│          ┆ 7         ┆ 4         ┆ 5         ┆   ┆           ┆ der       ┆           ┆ n_Out     │\n",
              "│ 10:35:20 ┆ 2022-10-0 ┆ 287305149 ┆ 440476700 ┆ … ┆ UK        ┆ Cheque    ┆ 0         ┆ Normal_Sm │\n",
              "│          ┆ 7         ┆           ┆ 2         ┆   ┆           ┆           ┆           ┆ all_Fan_O │\n",
              "│          ┆           ┆           ┆           ┆   ┆           ┆           ┆           ┆ ut        │\n",
              "│ 10:35:21 ┆ 2022-10-0 ┆ 537665243 ┆ 960042022 ┆ … ┆ UK        ┆ ACH       ┆ 0         ┆ Normal_Fa │\n",
              "│          ┆ 7         ┆ 7         ┆ 0         ┆   ┆           ┆           ┆           ┆ n_In      │\n",
              "│ 10:35:21 ┆ 2022-10-0 ┆ 961418617 ┆ 380333697 ┆ … ┆ UK        ┆ Cash      ┆ 0         ┆ Normal_Ca │\n",
              "│          ┆ 7         ┆ 8         ┆ 2         ┆   ┆           ┆ Deposit   ┆           ┆ sh_Deposi │\n",
              "│          ┆           ┆           ┆           ┆   ┆           ┆           ┆           ┆ ts        │\n",
              "└──────────┴───────────┴───────────┴───────────┴───┴───────────┴───────────┴───────────┴───────────┘"
            ],
            "text/html": [
              "<div><style>\n",
              ".dataframe > thead > tr,\n",
              ".dataframe > tbody > tr {\n",
              "  text-align: right;\n",
              "  white-space: pre-wrap;\n",
              "}\n",
              "</style>\n",
              "<small>shape: (5, 12)</small><table border=\"1\" class=\"dataframe\"><thead><tr><th>Time</th><th>Date</th><th>Sender_account</th><th>Receiver_account</th><th>Amount</th><th>Payment_currency</th><th>Received_currency</th><th>Sender_bank_location</th><th>Receiver_bank_location</th><th>Payment_type</th><th>Is_laundering</th><th>Laundering_type</th></tr><tr><td>str</td><td>str</td><td>i64</td><td>i64</td><td>f64</td><td>str</td><td>str</td><td>str</td><td>str</td><td>str</td><td>i64</td><td>str</td></tr></thead><tbody><tr><td>&quot;10:35:19&quot;</td><td>&quot;2022-10-07&quot;</td><td>8724731955</td><td>2769355426</td><td>1459.15</td><td>&quot;UK pounds&quot;</td><td>&quot;UK pounds&quot;</td><td>&quot;UK&quot;</td><td>&quot;UK&quot;</td><td>&quot;Cash Deposit&quot;</td><td>0</td><td>&quot;Normal_Cash_Deposits&quot;</td></tr><tr><td>&quot;10:35:20&quot;</td><td>&quot;2022-10-07&quot;</td><td>1491989064</td><td>8401255335</td><td>6019.64</td><td>&quot;UK pounds&quot;</td><td>&quot;Dirham&quot;</td><td>&quot;UK&quot;</td><td>&quot;UAE&quot;</td><td>&quot;Cross-border&quot;</td><td>0</td><td>&quot;Normal_Fan_Out&quot;</td></tr><tr><td>&quot;10:35:20&quot;</td><td>&quot;2022-10-07&quot;</td><td>287305149</td><td>4404767002</td><td>14328.44</td><td>&quot;UK pounds&quot;</td><td>&quot;UK pounds&quot;</td><td>&quot;UK&quot;</td><td>&quot;UK&quot;</td><td>&quot;Cheque&quot;</td><td>0</td><td>&quot;Normal_Small_Fan_Out&quot;</td></tr><tr><td>&quot;10:35:21&quot;</td><td>&quot;2022-10-07&quot;</td><td>5376652437</td><td>9600420220</td><td>11895.0</td><td>&quot;UK pounds&quot;</td><td>&quot;UK pounds&quot;</td><td>&quot;UK&quot;</td><td>&quot;UK&quot;</td><td>&quot;ACH&quot;</td><td>0</td><td>&quot;Normal_Fan_In&quot;</td></tr><tr><td>&quot;10:35:21&quot;</td><td>&quot;2022-10-07&quot;</td><td>9614186178</td><td>3803336972</td><td>115.25</td><td>&quot;UK pounds&quot;</td><td>&quot;UK pounds&quot;</td><td>&quot;UK&quot;</td><td>&quot;UK&quot;</td><td>&quot;Cash Deposit&quot;</td><td>0</td><td>&quot;Normal_Cash_Deposits&quot;</td></tr></tbody></table></div>"
            ]
          },
          "metadata": {},
          "execution_count": 4
        }
      ]
    },
    {
      "cell_type": "markdown",
      "source": [
        "**Conver \"Date\" and \"Time\" to datetime**"
      ],
      "metadata": {
        "id": "GrOQwHSfxycU"
      }
    },
    {
      "cell_type": "code",
      "source": [
        "df = df.with_columns(\n",
        "    pl.col(\"Date\").str.strptime(pl.Date, \"%Y-%m-%d\").alias(\"Date\"),\n",
        "    pl.col(\"Time\").str.strptime(pl.Time, \"%H:%M:%S\").alias(\"Time\")\n",
        ")\n",
        "df.head()"
      ],
      "metadata": {
        "colab": {
          "base_uri": "https://localhost:8080/",
          "height": 361
        },
        "id": "hXHPi0yGxx4D",
        "outputId": "f1c0861a-a478-4c0d-fd95-7a6264ea263a"
      },
      "execution_count": 5,
      "outputs": [
        {
          "output_type": "execute_result",
          "data": {
            "text/plain": [
              "shape: (5, 12)\n",
              "┌──────────┬───────────┬───────────┬───────────┬───┬───────────┬───────────┬───────────┬───────────┐\n",
              "│ Time     ┆ Date      ┆ Sender_ac ┆ Receiver_ ┆ … ┆ Receiver_ ┆ Payment_t ┆ Is_launde ┆ Launderin │\n",
              "│ ---      ┆ ---       ┆ count     ┆ account   ┆   ┆ bank_loca ┆ ype       ┆ ring      ┆ g_type    │\n",
              "│ time     ┆ date      ┆ ---       ┆ ---       ┆   ┆ tion      ┆ ---       ┆ ---       ┆ ---       │\n",
              "│          ┆           ┆ i64       ┆ i64       ┆   ┆ ---       ┆ str       ┆ i64       ┆ str       │\n",
              "│          ┆           ┆           ┆           ┆   ┆ str       ┆           ┆           ┆           │\n",
              "╞══════════╪═══════════╪═══════════╪═══════════╪═══╪═══════════╪═══════════╪═══════════╪═══════════╡\n",
              "│ 10:35:19 ┆ 2022-10-0 ┆ 872473195 ┆ 276935542 ┆ … ┆ UK        ┆ Cash      ┆ 0         ┆ Normal_Ca │\n",
              "│          ┆ 7         ┆ 5         ┆ 6         ┆   ┆           ┆ Deposit   ┆           ┆ sh_Deposi │\n",
              "│          ┆           ┆           ┆           ┆   ┆           ┆           ┆           ┆ ts        │\n",
              "│ 10:35:20 ┆ 2022-10-0 ┆ 149198906 ┆ 840125533 ┆ … ┆ UAE       ┆ Cross-bor ┆ 0         ┆ Normal_Fa │\n",
              "│          ┆ 7         ┆ 4         ┆ 5         ┆   ┆           ┆ der       ┆           ┆ n_Out     │\n",
              "│ 10:35:20 ┆ 2022-10-0 ┆ 287305149 ┆ 440476700 ┆ … ┆ UK        ┆ Cheque    ┆ 0         ┆ Normal_Sm │\n",
              "│          ┆ 7         ┆           ┆ 2         ┆   ┆           ┆           ┆           ┆ all_Fan_O │\n",
              "│          ┆           ┆           ┆           ┆   ┆           ┆           ┆           ┆ ut        │\n",
              "│ 10:35:21 ┆ 2022-10-0 ┆ 537665243 ┆ 960042022 ┆ … ┆ UK        ┆ ACH       ┆ 0         ┆ Normal_Fa │\n",
              "│          ┆ 7         ┆ 7         ┆ 0         ┆   ┆           ┆           ┆           ┆ n_In      │\n",
              "│ 10:35:21 ┆ 2022-10-0 ┆ 961418617 ┆ 380333697 ┆ … ┆ UK        ┆ Cash      ┆ 0         ┆ Normal_Ca │\n",
              "│          ┆ 7         ┆ 8         ┆ 2         ┆   ┆           ┆ Deposit   ┆           ┆ sh_Deposi │\n",
              "│          ┆           ┆           ┆           ┆   ┆           ┆           ┆           ┆ ts        │\n",
              "└──────────┴───────────┴───────────┴───────────┴───┴───────────┴───────────┴───────────┴───────────┘"
            ],
            "text/html": [
              "<div><style>\n",
              ".dataframe > thead > tr,\n",
              ".dataframe > tbody > tr {\n",
              "  text-align: right;\n",
              "  white-space: pre-wrap;\n",
              "}\n",
              "</style>\n",
              "<small>shape: (5, 12)</small><table border=\"1\" class=\"dataframe\"><thead><tr><th>Time</th><th>Date</th><th>Sender_account</th><th>Receiver_account</th><th>Amount</th><th>Payment_currency</th><th>Received_currency</th><th>Sender_bank_location</th><th>Receiver_bank_location</th><th>Payment_type</th><th>Is_laundering</th><th>Laundering_type</th></tr><tr><td>time</td><td>date</td><td>i64</td><td>i64</td><td>f64</td><td>str</td><td>str</td><td>str</td><td>str</td><td>str</td><td>i64</td><td>str</td></tr></thead><tbody><tr><td>10:35:19</td><td>2022-10-07</td><td>8724731955</td><td>2769355426</td><td>1459.15</td><td>&quot;UK pounds&quot;</td><td>&quot;UK pounds&quot;</td><td>&quot;UK&quot;</td><td>&quot;UK&quot;</td><td>&quot;Cash Deposit&quot;</td><td>0</td><td>&quot;Normal_Cash_Deposits&quot;</td></tr><tr><td>10:35:20</td><td>2022-10-07</td><td>1491989064</td><td>8401255335</td><td>6019.64</td><td>&quot;UK pounds&quot;</td><td>&quot;Dirham&quot;</td><td>&quot;UK&quot;</td><td>&quot;UAE&quot;</td><td>&quot;Cross-border&quot;</td><td>0</td><td>&quot;Normal_Fan_Out&quot;</td></tr><tr><td>10:35:20</td><td>2022-10-07</td><td>287305149</td><td>4404767002</td><td>14328.44</td><td>&quot;UK pounds&quot;</td><td>&quot;UK pounds&quot;</td><td>&quot;UK&quot;</td><td>&quot;UK&quot;</td><td>&quot;Cheque&quot;</td><td>0</td><td>&quot;Normal_Small_Fan_Out&quot;</td></tr><tr><td>10:35:21</td><td>2022-10-07</td><td>5376652437</td><td>9600420220</td><td>11895.0</td><td>&quot;UK pounds&quot;</td><td>&quot;UK pounds&quot;</td><td>&quot;UK&quot;</td><td>&quot;UK&quot;</td><td>&quot;ACH&quot;</td><td>0</td><td>&quot;Normal_Fan_In&quot;</td></tr><tr><td>10:35:21</td><td>2022-10-07</td><td>9614186178</td><td>3803336972</td><td>115.25</td><td>&quot;UK pounds&quot;</td><td>&quot;UK pounds&quot;</td><td>&quot;UK&quot;</td><td>&quot;UK&quot;</td><td>&quot;Cash Deposit&quot;</td><td>0</td><td>&quot;Normal_Cash_Deposits&quot;</td></tr></tbody></table></div>"
            ]
          },
          "metadata": {},
          "execution_count": 5
        }
      ]
    },
    {
      "cell_type": "code",
      "source": [
        "# dropping column Laundering_type\n",
        "df = df.drop(\"Laundering_type\")"
      ],
      "metadata": {
        "id": "c5u-VRZLyUuM"
      },
      "execution_count": 6,
      "outputs": []
    },
    {
      "cell_type": "code",
      "source": [
        "def custom_split_polars(df: pl.DataFrame, validation_dt: int = 70, test_dt: int = 35):\n",
        "    \"\"\"\n",
        "    Split a Polars DataFrame into train/validation/test by calendar-day cutoffs\n",
        "    measured backwards from the dataset max Date.\n",
        "\n",
        "    Parameters\n",
        "    - df: polars.DataFrame with a datetime column named \"Date\" (string or datetime OK)\n",
        "    - validation_dt: int days for validation window (e.g., 70)\n",
        "    - test_dt: int days for test window (e.g., 35)\n",
        "\n",
        "    Returns\n",
        "    - train_df, validation_df, test_df  (all eager polars.DataFrame)\n",
        "    \"\"\"\n",
        "    # ensure Date is a datetime type: try to get max, otherwise parse strings to Datetime\n",
        "    try:\n",
        "        max_date = df.select(pl.col(\"Date\").max()).to_series()[0]\n",
        "    except Exception:\n",
        "        df = df.with_column(pl.col(\"Date\").str.strptime(pl.Datetime, fmt=None).alias(\"Date\"))\n",
        "        max_date = df.select(pl.col(\"Date\").max()).to_series()[0]\n",
        "\n",
        "    test_cutoff = max_date - timedelta(days=test_dt)\n",
        "    validation_cutoff = max_date - timedelta(days=validation_dt)\n",
        "\n",
        "    test_set = df.filter(pl.col(\"Date\") >= pl.lit(test_cutoff))\n",
        "    validation_set = df.filter(\n",
        "        (pl.col(\"Date\") >= pl.lit(validation_cutoff)) & (pl.col(\"Date\") < pl.lit(test_cutoff))\n",
        "    )\n",
        "    train_set = df.filter(pl.col(\"Date\") < pl.lit(validation_cutoff))\n",
        "\n",
        "    return train_set, validation_set, test_set"
      ],
      "metadata": {
        "id": "fbftgJaywPye"
      },
      "execution_count": 7,
      "outputs": []
    },
    {
      "cell_type": "code",
      "source": [
        "df_train, df_val, df_test = custom_split_polars(df)"
      ],
      "metadata": {
        "id": "EzoMLhxJxZ6_"
      },
      "execution_count": 8,
      "outputs": []
    },
    {
      "cell_type": "code",
      "source": [
        "df_train = df_train.vstack(df_val)"
      ],
      "metadata": {
        "id": "cFPT_qx9Rsi_"
      },
      "execution_count": 9,
      "outputs": []
    },
    {
      "cell_type": "markdown",
      "source": [
        "**Recast**"
      ],
      "metadata": {
        "id": "Gbmb61q0yfml"
      }
    },
    {
      "cell_type": "code",
      "source": [
        "'''\n",
        "We recast the integer‑based columns following the logic rules outlined in the paper.\n",
        "\"Explainable Feature Engineering for Multi-class Money Laundering Classification\"\n",
        "This recasting is performed to optimize storage efficiency and reduce overall memory consumption.\"\n",
        "Excluding \"Sender_account\" and \"Receiver_account\" variables.\n",
        "'''\n",
        "\n",
        "def recast(df):\n",
        "    exclude = ['Sender_account', 'Receiver_account']\n",
        "\n",
        "    for col in df.columns:\n",
        "        if col not in exclude:\n",
        "            dtype = df[col].dtype\n",
        "            if dtype in (pl.Int64, pl.Int32):\n",
        "              maxval = df[col].max()\n",
        "              if maxval:\n",
        "                  if maxval < 127:\n",
        "                      df = df.with_columns(df[col].cast(pl.Int8).alias(col))\n",
        "                  elif maxval < 32767:\n",
        "                      df = df.with_columns(df[col].cast(pl.Int16).alias(col))\n",
        "                  elif maxval < 2147483647:\n",
        "                      df = df.with_columns(df[col].cast(pl.Int32).alias(col))\n",
        "\n",
        "    return df"
      ],
      "metadata": {
        "id": "XVpJljqOyOI5"
      },
      "execution_count": 10,
      "outputs": []
    },
    {
      "cell_type": "code",
      "source": [
        "df_train = recast(df_train)"
      ],
      "metadata": {
        "id": "z2Lbl9-5yg7D"
      },
      "execution_count": 11,
      "outputs": []
    },
    {
      "cell_type": "code",
      "source": [
        "df_train.head()"
      ],
      "metadata": {
        "colab": {
          "base_uri": "https://localhost:8080/",
          "height": 255
        },
        "id": "As-Lk5T-ylel",
        "outputId": "1fd5bf6c-06ec-4aef-efb6-9495771be65c"
      },
      "execution_count": 12,
      "outputs": [
        {
          "output_type": "execute_result",
          "data": {
            "text/plain": [
              "shape: (5, 11)\n",
              "┌──────────┬───────────┬───────────┬───────────┬───┬───────────┬───────────┬───────────┬───────────┐\n",
              "│ Time     ┆ Date      ┆ Sender_ac ┆ Receiver_ ┆ … ┆ Sender_ba ┆ Receiver_ ┆ Payment_t ┆ Is_launde │\n",
              "│ ---      ┆ ---       ┆ count     ┆ account   ┆   ┆ nk_locati ┆ bank_loca ┆ ype       ┆ ring      │\n",
              "│ time     ┆ date      ┆ ---       ┆ ---       ┆   ┆ on        ┆ tion      ┆ ---       ┆ ---       │\n",
              "│          ┆           ┆ i64       ┆ i64       ┆   ┆ ---       ┆ ---       ┆ str       ┆ i8        │\n",
              "│          ┆           ┆           ┆           ┆   ┆ str       ┆ str       ┆           ┆           │\n",
              "╞══════════╪═══════════╪═══════════╪═══════════╪═══╪═══════════╪═══════════╪═══════════╪═══════════╡\n",
              "│ 10:35:19 ┆ 2022-10-0 ┆ 872473195 ┆ 276935542 ┆ … ┆ UK        ┆ UK        ┆ Cash      ┆ 0         │\n",
              "│          ┆ 7         ┆ 5         ┆ 6         ┆   ┆           ┆           ┆ Deposit   ┆           │\n",
              "│ 10:35:20 ┆ 2022-10-0 ┆ 149198906 ┆ 840125533 ┆ … ┆ UK        ┆ UAE       ┆ Cross-bor ┆ 0         │\n",
              "│          ┆ 7         ┆ 4         ┆ 5         ┆   ┆           ┆           ┆ der       ┆           │\n",
              "│ 10:35:20 ┆ 2022-10-0 ┆ 287305149 ┆ 440476700 ┆ … ┆ UK        ┆ UK        ┆ Cheque    ┆ 0         │\n",
              "│          ┆ 7         ┆           ┆ 2         ┆   ┆           ┆           ┆           ┆           │\n",
              "│ 10:35:21 ┆ 2022-10-0 ┆ 537665243 ┆ 960042022 ┆ … ┆ UK        ┆ UK        ┆ ACH       ┆ 0         │\n",
              "│          ┆ 7         ┆ 7         ┆ 0         ┆   ┆           ┆           ┆           ┆           │\n",
              "│ 10:35:21 ┆ 2022-10-0 ┆ 961418617 ┆ 380333697 ┆ … ┆ UK        ┆ UK        ┆ Cash      ┆ 0         │\n",
              "│          ┆ 7         ┆ 8         ┆ 2         ┆   ┆           ┆           ┆ Deposit   ┆           │\n",
              "└──────────┴───────────┴───────────┴───────────┴───┴───────────┴───────────┴───────────┴───────────┘"
            ],
            "text/html": [
              "<div><style>\n",
              ".dataframe > thead > tr,\n",
              ".dataframe > tbody > tr {\n",
              "  text-align: right;\n",
              "  white-space: pre-wrap;\n",
              "}\n",
              "</style>\n",
              "<small>shape: (5, 11)</small><table border=\"1\" class=\"dataframe\"><thead><tr><th>Time</th><th>Date</th><th>Sender_account</th><th>Receiver_account</th><th>Amount</th><th>Payment_currency</th><th>Received_currency</th><th>Sender_bank_location</th><th>Receiver_bank_location</th><th>Payment_type</th><th>Is_laundering</th></tr><tr><td>time</td><td>date</td><td>i64</td><td>i64</td><td>f64</td><td>str</td><td>str</td><td>str</td><td>str</td><td>str</td><td>i8</td></tr></thead><tbody><tr><td>10:35:19</td><td>2022-10-07</td><td>8724731955</td><td>2769355426</td><td>1459.15</td><td>&quot;UK pounds&quot;</td><td>&quot;UK pounds&quot;</td><td>&quot;UK&quot;</td><td>&quot;UK&quot;</td><td>&quot;Cash Deposit&quot;</td><td>0</td></tr><tr><td>10:35:20</td><td>2022-10-07</td><td>1491989064</td><td>8401255335</td><td>6019.64</td><td>&quot;UK pounds&quot;</td><td>&quot;Dirham&quot;</td><td>&quot;UK&quot;</td><td>&quot;UAE&quot;</td><td>&quot;Cross-border&quot;</td><td>0</td></tr><tr><td>10:35:20</td><td>2022-10-07</td><td>287305149</td><td>4404767002</td><td>14328.44</td><td>&quot;UK pounds&quot;</td><td>&quot;UK pounds&quot;</td><td>&quot;UK&quot;</td><td>&quot;UK&quot;</td><td>&quot;Cheque&quot;</td><td>0</td></tr><tr><td>10:35:21</td><td>2022-10-07</td><td>5376652437</td><td>9600420220</td><td>11895.0</td><td>&quot;UK pounds&quot;</td><td>&quot;UK pounds&quot;</td><td>&quot;UK&quot;</td><td>&quot;UK&quot;</td><td>&quot;ACH&quot;</td><td>0</td></tr><tr><td>10:35:21</td><td>2022-10-07</td><td>9614186178</td><td>3803336972</td><td>115.25</td><td>&quot;UK pounds&quot;</td><td>&quot;UK pounds&quot;</td><td>&quot;UK&quot;</td><td>&quot;UK&quot;</td><td>&quot;Cash Deposit&quot;</td><td>0</td></tr></tbody></table></div>"
            ]
          },
          "metadata": {},
          "execution_count": 12
        }
      ]
    },
    {
      "cell_type": "markdown",
      "source": [
        "**Temporal features**"
      ],
      "metadata": {
        "id": "FYjWMq6FC7FH"
      }
    },
    {
      "cell_type": "code",
      "source": [
        "def temporal_features(df):\n",
        "\n",
        "    return df.with_columns([\n",
        "        df[\"Date\"].dt.year().alias(\"year\"),\n",
        "        df[\"Date\"].dt.month().alias(\"month\"),\n",
        "        df[\"Date\"].dt.day().alias(\"day_of_month\"),\n",
        "        df[\"Date\"].dt.weekday().alias(\"day_of_week\"),\n",
        "        df[\"Date\"].dt.ordinal_day().alias(\"day_of_year\"),\n",
        "        df[\"Time\"].dt.hour().alias(\"hour\"),\n",
        "        df[\"Time\"].dt.minute().alias(\"minute\"),\n",
        "        df[\"Time\"].dt.second().alias(\"second\"),\n",
        "    ])"
      ],
      "metadata": {
        "id": "nEDTwFV721By"
      },
      "execution_count": 13,
      "outputs": []
    },
    {
      "cell_type": "code",
      "source": [
        "df_train = temporal_features(df_train)"
      ],
      "metadata": {
        "id": "yRfgUbO4DGqT"
      },
      "execution_count": 14,
      "outputs": []
    },
    {
      "cell_type": "markdown",
      "source": [
        "**Transaction Risk Features**"
      ],
      "metadata": {
        "id": "TuhxfQ9_H9PV"
      }
    },
    {
      "cell_type": "code",
      "source": [
        "high_risk_countries = ['Mexico', 'Turkey', 'Morocco', 'UAE']"
      ],
      "metadata": {
        "id": "fVgMhVyUDJsD"
      },
      "execution_count": 15,
      "outputs": []
    },
    {
      "cell_type": "code",
      "source": [
        "def risk_features(df):\n",
        "\n",
        "    return df.with_columns([\n",
        "        (df[\"Payment_currency\"] != df[\"Received_currency\"]).cast(pl.Int8).alias(\"currency_mismatch\"),\n",
        "        (df[\"Payment_type\"] == \"Cross-border\").cast(pl.Int8).alias(\"cross_border\"),\n",
        "        df[\"Sender_bank_location\"].is_in(high_risk_countries).cast(pl.Int8).alias(\"high_risk_sender\"),\n",
        "        df[\"Receiver_bank_location\"].is_in(high_risk_countries).cast(pl.Int8).alias(\"high_risk_receiver\")])"
      ],
      "metadata": {
        "id": "xsXDGOAlH_t9"
      },
      "execution_count": 16,
      "outputs": []
    },
    {
      "cell_type": "code",
      "source": [
        "df_train = risk_features(df_train)"
      ],
      "metadata": {
        "id": "z5714Rh0IFL-"
      },
      "execution_count": 17,
      "outputs": []
    },
    {
      "cell_type": "markdown",
      "source": [
        "**build_window_features_lazy**\n",
        "\n",
        "- Function name: build_window_features_lazy\n",
        "- One-line purpose: Computes 30‑day rolling window features (for example, fanin_30d, fanout_30d) on a LazyFrame in a calendar-aligned, memory-efficient way."
      ],
      "metadata": {
        "id": "x0pdGbOAIQ7V"
      }
    },
    {
      "cell_type": "code",
      "source": [
        "import polars as pl\n",
        "\n",
        "def build_window_features_lazy(\n",
        "    df,\n",
        "    specs,\n",
        "    date_col=\"Date\",\n",
        "    sender_col=\"Sender_account\",\n",
        "    receiver_col=\"Receiver_account\",\n",
        "    amount_col=\"Amount\",\n",
        "    index_name=\"__row_idx\",\n",
        "    label_choice=\"left\",\n",
        "):\n",
        "    lf = df.lazy() if isinstance(df, pl.DataFrame) else df\n",
        "    lf = lf.with_columns(pl.arange(0, pl.len()).over(pl.lit(True)).alias(index_name))\n",
        "    out_lf = lf\n",
        "\n",
        "    for spec in specs:\n",
        "        kind = spec.get(\"kind\", \"rolling\")\n",
        "\n",
        "        if kind == \"rolling\":\n",
        "            # existing rolling logic (no change)\n",
        "            name = spec[\"name\"]\n",
        "            direction = spec[\"type\"]  # \"fanin\" or \"fanout\"\n",
        "            period_days = int(spec[\"period_days\"])\n",
        "            every = spec.get(\"every\", \"1d\")\n",
        "\n",
        "            if direction == \"fanin\":\n",
        "                group_by = receiver_col\n",
        "                agg_on = sender_col\n",
        "            else:\n",
        "                group_by = sender_col\n",
        "                agg_on = receiver_col\n",
        "\n",
        "            win_label = label_choice\n",
        "            strategy = \"forward\" if win_label == \"left\" else \"backward\"\n",
        "\n",
        "            right = (\n",
        "                lf\n",
        "                .sort([group_by, date_col])\n",
        "                .group_by_dynamic(\n",
        "                    index_column=date_col,\n",
        "                    every=every,\n",
        "                    period=f\"{period_days}d\",\n",
        "                    group_by=group_by,\n",
        "                    closed=\"both\",\n",
        "                    label=win_label\n",
        "                )\n",
        "                .agg(pl.col(agg_on).n_unique().alias(name))\n",
        "                .sort([group_by, date_col])\n",
        "            )\n",
        "\n",
        "            left = out_lf.sort([group_by, date_col])\n",
        "\n",
        "            out_lf = left.join_asof(\n",
        "                right,\n",
        "                left_on=date_col,\n",
        "                right_on=date_col,\n",
        "                by=group_by,\n",
        "                strategy=strategy,\n",
        "            )\n",
        "\n",
        "        elif kind == \"monthly\":\n",
        "            # existing monthly logic (no change)\n",
        "            name = spec[\"name\"]\n",
        "            side = spec.get(\"side\", \"receive\")\n",
        "            group_col = receiver_col if side == \"receive\" else sender_col\n",
        "\n",
        "            monthly_agg = (\n",
        "                lf\n",
        "                .with_columns(pl.col(date_col).dt.truncate(\"1mo\").alias(\"__month\"))\n",
        "                .group_by([group_col, \"__month\"])\n",
        "                .agg(pl.col(amount_col).sum().alias(name))\n",
        "            )\n",
        "\n",
        "            out_lf = (\n",
        "                out_lf\n",
        "                .with_columns(pl.col(date_col).dt.truncate(\"1mo\").alias(\"__month\"))\n",
        "                .join(monthly_agg, on=[group_col, \"__month\"], how=\"left\")\n",
        "                .drop(\"__month\")\n",
        "            )\n",
        "\n",
        "        elif kind == \"daily_pair_count\":\n",
        "            # NEW: back_and_forth_transfers (exact-match on day + pair)\n",
        "            name = spec[\"name\"]  # e.g., \"back_and_forth_transfers\"\n",
        "            # day key = calendar day (truncate to 1 day)\n",
        "            day_key = \"__day\"\n",
        "            # compute counts per sender/receiver/day using lf (lazy)\n",
        "            pair_daily_agg = (\n",
        "                lf\n",
        "                .with_columns(pl.col(date_col).dt.truncate(\"1d\").alias(day_key))\n",
        "                .group_by([sender_col, receiver_col, day_key])\n",
        "                .agg(pl.len().alias(name))  # .len() counts rows in group\n",
        "            )\n",
        "\n",
        "            # attach day key to working frame and join exact on pair + day\n",
        "            out_lf = (\n",
        "                out_lf\n",
        "                .with_columns(pl.col(date_col).dt.truncate(\"1d\").alias(day_key))\n",
        "                .join(pair_daily_agg, on=[sender_col, receiver_col, day_key], how=\"left\")\n",
        "                .fill_null(0)       # optional: replace nulls with 0\n",
        "                .with_columns(pl.col(name).cast(pl.Int64))  # ensure integer type\n",
        "                .drop(day_key)\n",
        "            )\n",
        "\n",
        "        else:\n",
        "            raise ValueError(\"spec kind must be 'rolling', 'monthly', or 'daily_pair_count'\")\n",
        "\n",
        "    return out_lf"
      ],
      "metadata": {
        "id": "PnBffjV-IHck"
      },
      "execution_count": 18,
      "outputs": []
    },
    {
      "cell_type": "code",
      "source": [
        "specs = [\n",
        "    {\"name\":\"fanin_30d\", \"kind\":\"rolling\", \"type\":\"fanin\", \"period_days\":30, \"every\":\"1d\"},\n",
        "    {\"name\":\"fanout_30d\", \"kind\":\"rolling\", \"type\":\"fanout\", \"period_days\":30, \"every\":\"1d\"},\n",
        "    {\"name\":\"daily_recieve\", \"kind\":\"rolling\", \"type\":\"fanin\", \"period_days\":1, \"every\":\"1d\"},\n",
        "    {\"name\":\"monthly_receive\", \"kind\":\"monthly\", \"side\":\"receive\"},\n",
        "    {\"name\":\"monthly_send\",    \"kind\":\"monthly\", \"side\":\"send\"},\n",
        "    {\"name\":\"back_and_forth_transfers\", \"kind\":\"daily_pair_count\"},\n",
        "]\n",
        "lazy_with_features = build_window_features_lazy(df_train, specs, amount_col=\"Amount\", label_choice=\"left\")\n"
      ],
      "metadata": {
        "id": "BXwoiroLImy1"
      },
      "execution_count": 19,
      "outputs": []
    },
    {
      "cell_type": "code",
      "source": [
        "plan = (\n",
        "    lazy_with_features\n",
        "    .sort([\"Sender_account\", \"Date\"])\n",
        "    .with_columns([pl.col(\"Sender_account\").set_sorted(), pl.col(\"Date\").set_sorted()])\n",
        ")\n",
        "df_streamed = plan.collect(engine=\"streaming\")\n",
        "df_train = df_streamed.sort(\"__row_idx\").drop(\"__row_idx\")"
      ],
      "metadata": {
        "colab": {
          "base_uri": "https://localhost:8080/"
        },
        "id": "8kREKNRnJFd8",
        "outputId": "4e38a760-a4d1-4787-91c4-a8617a24c79c"
      },
      "execution_count": 20,
      "outputs": [
        {
          "output_type": "stream",
          "name": "stderr",
          "text": [
            "/tmp/ipython-input-2168608404.py:6: UserWarning: Sortedness of columns cannot be checked when 'by' groups provided\n",
            "  df_streamed = plan.collect(engine=\"streaming\")\n"
          ]
        }
      ]
    },
    {
      "cell_type": "code",
      "source": [
        "df_train.head()"
      ],
      "metadata": {
        "colab": {
          "base_uri": "https://localhost:8080/",
          "height": 361
        },
        "id": "0fGf7dyUJXyK",
        "outputId": "a6cfe87e-478f-4f84-9b45-5cbba36f71c8"
      },
      "execution_count": 21,
      "outputs": [
        {
          "output_type": "execute_result",
          "data": {
            "text/plain": [
              "shape: (5, 29)\n",
              "┌──────────┬───────────┬───────────┬───────────┬───┬───────────┬───────────┬───────────┬───────────┐\n",
              "│ Time     ┆ Date      ┆ Sender_ac ┆ Receiver_ ┆ … ┆ daily_rec ┆ monthly_r ┆ monthly_s ┆ back_and_ │\n",
              "│ ---      ┆ ---       ┆ count     ┆ account   ┆   ┆ ieve      ┆ eceive    ┆ end       ┆ forth_tra │\n",
              "│ time     ┆ date      ┆ ---       ┆ ---       ┆   ┆ ---       ┆ ---       ┆ ---       ┆ nsfers    │\n",
              "│          ┆           ┆ i64       ┆ i64       ┆   ┆ u32       ┆ f64       ┆ f64       ┆ ---       │\n",
              "│          ┆           ┆           ┆           ┆   ┆           ┆           ┆           ┆ i64       │\n",
              "╞══════════╪═══════════╪═══════════╪═══════════╪═══╪═══════════╪═══════════╪═══════════╪═══════════╡\n",
              "│ 10:35:19 ┆ 2022-10-0 ┆ 872473195 ┆ 276935542 ┆ … ┆ 1         ┆ 1459.15   ┆ 1459.15   ┆ 1         │\n",
              "│          ┆ 7         ┆ 5         ┆ 6         ┆   ┆           ┆           ┆           ┆           │\n",
              "│ 10:35:20 ┆ 2022-10-0 ┆ 149198906 ┆ 840125533 ┆ … ┆ 1         ┆ 72252.38  ┆ 1.0918e6  ┆ 12        │\n",
              "│          ┆ 7         ┆ 4         ┆ 5         ┆   ┆           ┆           ┆           ┆           │\n",
              "│ 10:35:20 ┆ 2022-10-0 ┆ 287305149 ┆ 440476700 ┆ … ┆ 1         ┆ 14328.44  ┆ 181662.45 ┆ 1         │\n",
              "│          ┆ 7         ┆           ┆ 2         ┆   ┆           ┆           ┆           ┆           │\n",
              "│ 10:35:21 ┆ 2022-10-0 ┆ 537665243 ┆ 960042022 ┆ … ┆ 9         ┆ 885090.99 ┆ 107439.96 ┆ 9         │\n",
              "│          ┆ 7         ┆ 7         ┆ 0         ┆   ┆           ┆           ┆           ┆           │\n",
              "│ 10:35:21 ┆ 2022-10-0 ┆ 961418617 ┆ 380333697 ┆ … ┆ 1         ┆ 5010.29   ┆ 3342.19   ┆ 1         │\n",
              "│          ┆ 7         ┆ 8         ┆ 2         ┆   ┆           ┆           ┆           ┆           │\n",
              "└──────────┴───────────┴───────────┴───────────┴───┴───────────┴───────────┴───────────┴───────────┘"
            ],
            "text/html": [
              "<div><style>\n",
              ".dataframe > thead > tr,\n",
              ".dataframe > tbody > tr {\n",
              "  text-align: right;\n",
              "  white-space: pre-wrap;\n",
              "}\n",
              "</style>\n",
              "<small>shape: (5, 29)</small><table border=\"1\" class=\"dataframe\"><thead><tr><th>Time</th><th>Date</th><th>Sender_account</th><th>Receiver_account</th><th>Amount</th><th>Payment_currency</th><th>Received_currency</th><th>Sender_bank_location</th><th>Receiver_bank_location</th><th>Payment_type</th><th>Is_laundering</th><th>year</th><th>month</th><th>day_of_month</th><th>day_of_week</th><th>day_of_year</th><th>hour</th><th>minute</th><th>second</th><th>currency_mismatch</th><th>cross_border</th><th>high_risk_sender</th><th>high_risk_receiver</th><th>fanin_30d</th><th>fanout_30d</th><th>daily_recieve</th><th>monthly_receive</th><th>monthly_send</th><th>back_and_forth_transfers</th></tr><tr><td>time</td><td>date</td><td>i64</td><td>i64</td><td>f64</td><td>str</td><td>str</td><td>str</td><td>str</td><td>str</td><td>i8</td><td>i32</td><td>i8</td><td>i8</td><td>i8</td><td>i16</td><td>i8</td><td>i8</td><td>i8</td><td>i8</td><td>i8</td><td>i8</td><td>i8</td><td>u32</td><td>u32</td><td>u32</td><td>f64</td><td>f64</td><td>i64</td></tr></thead><tbody><tr><td>10:35:19</td><td>2022-10-07</td><td>8724731955</td><td>2769355426</td><td>1459.15</td><td>&quot;UK pounds&quot;</td><td>&quot;UK pounds&quot;</td><td>&quot;UK&quot;</td><td>&quot;UK&quot;</td><td>&quot;Cash Deposit&quot;</td><td>0</td><td>2022</td><td>10</td><td>7</td><td>5</td><td>280</td><td>10</td><td>35</td><td>19</td><td>0</td><td>0</td><td>0</td><td>0</td><td>2</td><td>1</td><td>1</td><td>1459.15</td><td>1459.15</td><td>1</td></tr><tr><td>10:35:20</td><td>2022-10-07</td><td>1491989064</td><td>8401255335</td><td>6019.64</td><td>&quot;UK pounds&quot;</td><td>&quot;Dirham&quot;</td><td>&quot;UK&quot;</td><td>&quot;UAE&quot;</td><td>&quot;Cross-border&quot;</td><td>0</td><td>2022</td><td>10</td><td>7</td><td>5</td><td>280</td><td>10</td><td>35</td><td>20</td><td>1</td><td>1</td><td>0</td><td>1</td><td>1</td><td>29</td><td>1</td><td>72252.38</td><td>1.0918e6</td><td>12</td></tr><tr><td>10:35:20</td><td>2022-10-07</td><td>287305149</td><td>4404767002</td><td>14328.44</td><td>&quot;UK pounds&quot;</td><td>&quot;UK pounds&quot;</td><td>&quot;UK&quot;</td><td>&quot;UK&quot;</td><td>&quot;Cheque&quot;</td><td>0</td><td>2022</td><td>10</td><td>7</td><td>5</td><td>280</td><td>10</td><td>35</td><td>20</td><td>0</td><td>0</td><td>0</td><td>0</td><td>1</td><td>12</td><td>1</td><td>14328.44</td><td>181662.45</td><td>1</td></tr><tr><td>10:35:21</td><td>2022-10-07</td><td>5376652437</td><td>9600420220</td><td>11895.0</td><td>&quot;UK pounds&quot;</td><td>&quot;UK pounds&quot;</td><td>&quot;UK&quot;</td><td>&quot;UK&quot;</td><td>&quot;ACH&quot;</td><td>0</td><td>2022</td><td>10</td><td>7</td><td>5</td><td>280</td><td>10</td><td>35</td><td>21</td><td>0</td><td>0</td><td>0</td><td>0</td><td>11</td><td>1</td><td>9</td><td>885090.99</td><td>107439.96</td><td>9</td></tr><tr><td>10:35:21</td><td>2022-10-07</td><td>9614186178</td><td>3803336972</td><td>115.25</td><td>&quot;UK pounds&quot;</td><td>&quot;UK pounds&quot;</td><td>&quot;UK&quot;</td><td>&quot;UK&quot;</td><td>&quot;Cash Deposit&quot;</td><td>0</td><td>2022</td><td>10</td><td>7</td><td>5</td><td>280</td><td>10</td><td>35</td><td>21</td><td>0</td><td>0</td><td>0</td><td>0</td><td>3</td><td>1</td><td>1</td><td>5010.29</td><td>3342.19</td><td>1</td></tr></tbody></table></div>"
            ]
          },
          "metadata": {},
          "execution_count": 21
        }
      ]
    },
    {
      "cell_type": "markdown",
      "source": [
        "**compute_derived_features_lazy**\n",
        "\n",
        "- Function name: compute_derived_features_lazy\n",
        "- One-line purpose: Compute derived features on a Polars LazyFrame by combining existing windowed features (for example, use fanin_30d and fanout_30d to produce ratio and normalized features) while preserving laziness and dtype consistency."
      ],
      "metadata": {
        "id": "DMvfbPwaKSoN"
      }
    },
    {
      "cell_type": "code",
      "source": [
        "from typing import List, Dict\n",
        "\n",
        "def compute_derived_features_lazy(\n",
        "    lf: pl.LazyFrame,\n",
        "    *,\n",
        "    fanin_col: str = \"fanin_30d\",\n",
        "    fanout_col: str = \"fanout_30d\",\n",
        "    daily_receive_col: str = \"daily_receive\",\n",
        "    monthly_receive_col: str = \"monthly_receive\",\n",
        "    monthly_send_col: str = \"monthly_send\",\n",
        "    amount_col: str = \"Amount\",\n",
        "    sender_col: str = \"Sender_account\",\n",
        "    receiver_col: str = \"Receiver_account\",\n",
        "    index_name: str = \"__row_idx\",\n",
        ") -> pl.LazyFrame:\n",
        "    \"\"\"\n",
        "    Take a LazyFrame and return a LazyFrame with derived features:\n",
        "      - fan_in_out_ratio (safe division, 0 when denom missing or zero)\n",
        "      - fanin_intensity_ratio (fanin_30d / daily_receive, 0 when denom missing or zero)\n",
        "      - amount_dispersion_std (per-sender std of Amount, filled 0 when null)\n",
        "      - sent_to_received_ratio_monthly (monthly_receive / monthly_send, 0 when denom missing or zero)\n",
        "\n",
        "    If `daily_receive` is not present in lf.schema(), it is computed lazily as the\n",
        "    per-receiver unique-senders per calendar day (dt.truncate(\"1d\")) and joined back.\n",
        "    The function is fully lazy; call .collect(...) when ready.\n",
        "    \"\"\"\n",
        "    # ensure lazy input\n",
        "    lf = lf if isinstance(lf, pl.LazyFrame) else lf.lazy()\n",
        "\n",
        "    # Attempt to read schema; if unavailable assume missing and compute\n",
        "    try:\n",
        "        schema = lf.schema()\n",
        "        has_daily = daily_receive_col in schema\n",
        "    except Exception:\n",
        "        has_daily = False\n",
        "\n",
        "    # If daily_receive missing, compute it lazily (exact day bucket of unique senders per receiver)\n",
        "    if not has_daily:\n",
        "        day_key = \"__day_for_daily_receive\"\n",
        "        daily_receive_agg = (\n",
        "            lf\n",
        "            .with_columns(pl.col(\"Date\").dt.truncate(\"1d\").alias(day_key))\n",
        "            .group_by([receiver_col, day_key])\n",
        "            .agg(pl.col(sender_col).n_unique().alias(daily_receive_col))\n",
        "        )\n",
        "        lf = (\n",
        "            lf\n",
        "            .with_columns(pl.col(\"Date\").dt.truncate(\"1d\").alias(day_key))\n",
        "            .join(daily_receive_agg, on=[receiver_col, day_key], how=\"left\")\n",
        "            .drop(day_key)\n",
        "        )\n",
        "\n",
        "    # safe division helper expression\n",
        "    def safe_div_expr(num: str, den: str, out_name: str):\n",
        "        return (\n",
        "            pl.when(pl.col(den).is_null() | (pl.col(den) == 0))\n",
        "              .then(0.0)\n",
        "              .otherwise(pl.col(num).cast(pl.Float64) / pl.col(den).cast(pl.Float64))\n",
        "              .alias(out_name)\n",
        "        )\n",
        "\n",
        "    fan_in_out_expr = safe_div_expr(fanin_col, fanout_col, \"fan_in_out_ratio\")\n",
        "    fanin_intensity_expr = safe_div_expr(fanin_col, daily_receive_col, \"fanin_intensity_ratio\")\n",
        "    sent_to_received_monthly_expr = safe_div_expr(monthly_receive_col, monthly_send_col, \"sent_to_received_ratio_monthly\")\n",
        "\n",
        "    # per-sender std aggregation (lazy) and join back\n",
        "    sender_std_agg = (\n",
        "        lf\n",
        "        .select([sender_col, amount_col])\n",
        "        .group_by(sender_col)\n",
        "        .agg(pl.col(amount_col).std().alias(\"__amount_std\"))\n",
        "    )\n",
        "\n",
        "    out = (\n",
        "        lf\n",
        "        .join(sender_std_agg, on=sender_col, how=\"left\")\n",
        "        .with_columns(\n",
        "            pl.col(\"__amount_std\").cast(pl.Float64).fill_null(0.0).alias(\"amount_dispersion_std\")\n",
        "        )\n",
        "        .drop(\"__amount_std\")\n",
        "        .with_columns([\n",
        "            fan_in_out_expr,\n",
        "            fanin_intensity_expr,\n",
        "            sent_to_received_monthly_expr\n",
        "        ])\n",
        "    )\n",
        "\n",
        "    return out"
      ],
      "metadata": {
        "id": "T0-veF0_KRdY"
      },
      "execution_count": 22,
      "outputs": []
    },
    {
      "cell_type": "code",
      "source": [
        "lazy_with_derived = compute_derived_features_lazy(lazy_with_features)\n",
        "\n",
        "# Before streaming collect: pick a primary grouping ordering that matches your rolling computations.\n",
        "# If most rolling features used Receiver_account then Date, use that; otherwise use the grouping you chose.\n",
        "plan_derived = (\n",
        "    lazy_with_derived\n",
        "    .sort([\"Sender_account\", \"Date\"])\n",
        "    .with_columns([pl.col(\"Sender_account\").set_sorted(), pl.col(\"Date\").set_sorted()])\n",
        ")\n",
        "\n",
        "df_streamed = plan_derived.collect(engine=\"streaming\")\n",
        "df_train = df_streamed.sort(\"__row_idx\").drop(\"__row_idx\")"
      ],
      "metadata": {
        "colab": {
          "base_uri": "https://localhost:8080/"
        },
        "id": "uKPJHFHsK2ZX",
        "outputId": "c908384f-c3a5-41eb-bccd-5073513ccdc5"
      },
      "execution_count": 23,
      "outputs": [
        {
          "output_type": "stream",
          "name": "stderr",
          "text": [
            "/tmp/ipython-input-1341853613.py:32: PerformanceWarning: Resolving the schema of a LazyFrame is a potentially expensive operation. Use `LazyFrame.collect_schema()` to get the schema without this warning.\n",
            "  schema = lf.schema()\n",
            "/tmp/ipython-input-1873375239.py:11: UserWarning: Sortedness of columns cannot be checked when 'by' groups provided\n",
            "  df_streamed = plan_derived.collect(engine=\"streaming\")\n"
          ]
        }
      ]
    },
    {
      "cell_type": "code",
      "source": [
        "df_train.head()"
      ],
      "metadata": {
        "colab": {
          "base_uri": "https://localhost:8080/",
          "height": 361
        },
        "id": "_XeWxzaMLAZP",
        "outputId": "920cab33-0618-4189-c616-a16acc69ac59"
      },
      "execution_count": 24,
      "outputs": [
        {
          "output_type": "execute_result",
          "data": {
            "text/plain": [
              "shape: (5, 34)\n",
              "┌──────────┬───────────┬───────────┬───────────┬───┬───────────┬───────────┬───────────┬───────────┐\n",
              "│ Time     ┆ Date      ┆ Sender_ac ┆ Receiver_ ┆ … ┆ amount_di ┆ fan_in_ou ┆ fanin_int ┆ sent_to_r │\n",
              "│ ---      ┆ ---       ┆ count     ┆ account   ┆   ┆ spersion_ ┆ t_ratio   ┆ ensity_ra ┆ eceived_r │\n",
              "│ time     ┆ date      ┆ ---       ┆ ---       ┆   ┆ std       ┆ ---       ┆ tio       ┆ atio_mont │\n",
              "│          ┆           ┆ i64       ┆ i64       ┆   ┆ ---       ┆ f64       ┆ ---       ┆ hly       │\n",
              "│          ┆           ┆           ┆           ┆   ┆ f64       ┆           ┆ f64       ┆ ---       │\n",
              "│          ┆           ┆           ┆           ┆   ┆           ┆           ┆           ┆ f64       │\n",
              "╞══════════╪═══════════╪═══════════╪═══════════╪═══╪═══════════╪═══════════╪═══════════╪═══════════╡\n",
              "│ 10:35:19 ┆ 2022-10-0 ┆ 872473195 ┆ 276935542 ┆ … ┆ 1919.8432 ┆ 2.0       ┆ 2.0       ┆ 1.0       │\n",
              "│          ┆ 7         ┆ 5         ┆ 6         ┆   ┆ 22        ┆           ┆           ┆           │\n",
              "│ 10:35:20 ┆ 2022-10-0 ┆ 149198906 ┆ 840125533 ┆ … ┆ 26007.711 ┆ 0.034483  ┆ 1.0       ┆ 0.066176  │\n",
              "│          ┆ 7         ┆ 4         ┆ 5         ┆   ┆ 545       ┆           ┆           ┆           │\n",
              "│ 10:35:20 ┆ 2022-10-0 ┆ 287305149 ┆ 440476700 ┆ … ┆ 19858.452 ┆ 0.083333  ┆ 1.0       ┆ 0.078874  │\n",
              "│          ┆ 7         ┆           ┆ 2         ┆   ┆ 212       ┆           ┆           ┆           │\n",
              "│ 10:35:21 ┆ 2022-10-0 ┆ 537665243 ┆ 960042022 ┆ … ┆ 79.885556 ┆ 11.0      ┆ 1.222222  ┆ 8.238006  │\n",
              "│          ┆ 7         ┆ 7         ┆ 0         ┆   ┆           ┆           ┆           ┆           │\n",
              "│ 10:35:21 ┆ 2022-10-0 ┆ 961418617 ┆ 380333697 ┆ … ┆ 892.28110 ┆ 3.0       ┆ 3.0       ┆ 1.499104  │\n",
              "│          ┆ 7         ┆ 8         ┆ 2         ┆   ┆ 8         ┆           ┆           ┆           │\n",
              "└──────────┴───────────┴───────────┴───────────┴───┴───────────┴───────────┴───────────┴───────────┘"
            ],
            "text/html": [
              "<div><style>\n",
              ".dataframe > thead > tr,\n",
              ".dataframe > tbody > tr {\n",
              "  text-align: right;\n",
              "  white-space: pre-wrap;\n",
              "}\n",
              "</style>\n",
              "<small>shape: (5, 34)</small><table border=\"1\" class=\"dataframe\"><thead><tr><th>Time</th><th>Date</th><th>Sender_account</th><th>Receiver_account</th><th>Amount</th><th>Payment_currency</th><th>Received_currency</th><th>Sender_bank_location</th><th>Receiver_bank_location</th><th>Payment_type</th><th>Is_laundering</th><th>year</th><th>month</th><th>day_of_month</th><th>day_of_week</th><th>day_of_year</th><th>hour</th><th>minute</th><th>second</th><th>currency_mismatch</th><th>cross_border</th><th>high_risk_sender</th><th>high_risk_receiver</th><th>fanin_30d</th><th>fanout_30d</th><th>daily_recieve</th><th>monthly_receive</th><th>monthly_send</th><th>back_and_forth_transfers</th><th>daily_receive</th><th>amount_dispersion_std</th><th>fan_in_out_ratio</th><th>fanin_intensity_ratio</th><th>sent_to_received_ratio_monthly</th></tr><tr><td>time</td><td>date</td><td>i64</td><td>i64</td><td>f64</td><td>str</td><td>str</td><td>str</td><td>str</td><td>str</td><td>i8</td><td>i32</td><td>i8</td><td>i8</td><td>i8</td><td>i16</td><td>i8</td><td>i8</td><td>i8</td><td>i8</td><td>i8</td><td>i8</td><td>i8</td><td>u32</td><td>u32</td><td>u32</td><td>f64</td><td>f64</td><td>i64</td><td>u32</td><td>f64</td><td>f64</td><td>f64</td><td>f64</td></tr></thead><tbody><tr><td>10:35:19</td><td>2022-10-07</td><td>8724731955</td><td>2769355426</td><td>1459.15</td><td>&quot;UK pounds&quot;</td><td>&quot;UK pounds&quot;</td><td>&quot;UK&quot;</td><td>&quot;UK&quot;</td><td>&quot;Cash Deposit&quot;</td><td>0</td><td>2022</td><td>10</td><td>7</td><td>5</td><td>280</td><td>10</td><td>35</td><td>19</td><td>0</td><td>0</td><td>0</td><td>0</td><td>2</td><td>1</td><td>1</td><td>1459.15</td><td>1459.15</td><td>1</td><td>1</td><td>1919.843222</td><td>2.0</td><td>2.0</td><td>1.0</td></tr><tr><td>10:35:20</td><td>2022-10-07</td><td>1491989064</td><td>8401255335</td><td>6019.64</td><td>&quot;UK pounds&quot;</td><td>&quot;Dirham&quot;</td><td>&quot;UK&quot;</td><td>&quot;UAE&quot;</td><td>&quot;Cross-border&quot;</td><td>0</td><td>2022</td><td>10</td><td>7</td><td>5</td><td>280</td><td>10</td><td>35</td><td>20</td><td>1</td><td>1</td><td>0</td><td>1</td><td>1</td><td>29</td><td>1</td><td>72252.38</td><td>1.0918e6</td><td>12</td><td>1</td><td>26007.711545</td><td>0.034483</td><td>1.0</td><td>0.066176</td></tr><tr><td>10:35:20</td><td>2022-10-07</td><td>287305149</td><td>4404767002</td><td>14328.44</td><td>&quot;UK pounds&quot;</td><td>&quot;UK pounds&quot;</td><td>&quot;UK&quot;</td><td>&quot;UK&quot;</td><td>&quot;Cheque&quot;</td><td>0</td><td>2022</td><td>10</td><td>7</td><td>5</td><td>280</td><td>10</td><td>35</td><td>20</td><td>0</td><td>0</td><td>0</td><td>0</td><td>1</td><td>12</td><td>1</td><td>14328.44</td><td>181662.45</td><td>1</td><td>1</td><td>19858.452212</td><td>0.083333</td><td>1.0</td><td>0.078874</td></tr><tr><td>10:35:21</td><td>2022-10-07</td><td>5376652437</td><td>9600420220</td><td>11895.0</td><td>&quot;UK pounds&quot;</td><td>&quot;UK pounds&quot;</td><td>&quot;UK&quot;</td><td>&quot;UK&quot;</td><td>&quot;ACH&quot;</td><td>0</td><td>2022</td><td>10</td><td>7</td><td>5</td><td>280</td><td>10</td><td>35</td><td>21</td><td>0</td><td>0</td><td>0</td><td>0</td><td>11</td><td>1</td><td>9</td><td>885090.99</td><td>107439.96</td><td>9</td><td>9</td><td>79.885556</td><td>11.0</td><td>1.222222</td><td>8.238006</td></tr><tr><td>10:35:21</td><td>2022-10-07</td><td>9614186178</td><td>3803336972</td><td>115.25</td><td>&quot;UK pounds&quot;</td><td>&quot;UK pounds&quot;</td><td>&quot;UK&quot;</td><td>&quot;UK&quot;</td><td>&quot;Cash Deposit&quot;</td><td>0</td><td>2022</td><td>10</td><td>7</td><td>5</td><td>280</td><td>10</td><td>35</td><td>21</td><td>0</td><td>0</td><td>0</td><td>0</td><td>3</td><td>1</td><td>1</td><td>5010.29</td><td>3342.19</td><td>1</td><td>1</td><td>892.281108</td><td>3.0</td><td>3.0</td><td>1.499104</td></tr></tbody></table></div>"
            ]
          },
          "metadata": {},
          "execution_count": 24
        }
      ]
    },
    {
      "cell_type": "markdown",
      "source": [
        "**Circular transaction count**"
      ],
      "metadata": {
        "id": "3Kj0yNfuBBEJ"
      }
    },
    {
      "cell_type": "code",
      "source": [
        "!pip install rustworkx"
      ],
      "metadata": {
        "colab": {
          "base_uri": "https://localhost:8080/"
        },
        "id": "KHk7e1qNBFlG",
        "outputId": "8889cf20-cf49-4af2-cb34-22a2453761e3"
      },
      "execution_count": 25,
      "outputs": [
        {
          "output_type": "stream",
          "name": "stdout",
          "text": [
            "Collecting rustworkx\n",
            "  Downloading rustworkx-0.17.1-cp39-abi3-manylinux_2_17_x86_64.manylinux2014_x86_64.whl.metadata (10 kB)\n",
            "Requirement already satisfied: numpy<3,>=1.16.0 in /usr/local/lib/python3.12/dist-packages (from rustworkx) (2.0.2)\n",
            "Downloading rustworkx-0.17.1-cp39-abi3-manylinux_2_17_x86_64.manylinux2014_x86_64.whl (2.2 MB)\n",
            "\u001b[?25l   \u001b[90m━━━━━━━━━━━━━━━━━━━━━━━━━━━━━━━━━━━━━━━━\u001b[0m \u001b[32m0.0/2.2 MB\u001b[0m \u001b[31m?\u001b[0m eta \u001b[36m-:--:--\u001b[0m\r\u001b[2K   \u001b[91m━━━━\u001b[0m\u001b[90m╺\u001b[0m\u001b[90m━━━━━━━━━━━━━━━━━━━━━━━━━━━━━━━━━━━\u001b[0m \u001b[32m0.2/2.2 MB\u001b[0m \u001b[31m6.5 MB/s\u001b[0m eta \u001b[36m0:00:01\u001b[0m\r\u001b[2K   \u001b[91m━━━━━━━━━━━━━━━━━━━━━━━━━━━━━━━━━━━━\u001b[0m\u001b[90m╺\u001b[0m\u001b[90m━━━\u001b[0m \u001b[32m2.0/2.2 MB\u001b[0m \u001b[31m25.3 MB/s\u001b[0m eta \u001b[36m0:00:01\u001b[0m\r\u001b[2K   \u001b[90m━━━━━━━━━━━━━━━━━━━━━━━━━━━━━━━━━━━━━━━━\u001b[0m \u001b[32m2.2/2.2 MB\u001b[0m \u001b[31m21.4 MB/s\u001b[0m eta \u001b[36m0:00:00\u001b[0m\n",
            "\u001b[?25hInstalling collected packages: rustworkx\n",
            "Successfully installed rustworkx-0.17.1\n"
          ]
        }
      ]
    },
    {
      "cell_type": "code",
      "source": [
        "import rustworkx as rx\n",
        "\n",
        "def circular_transaction_feature(df:pl.DataFrame):\n",
        "    # Iterate over monthly groups\n",
        "    results = []\n",
        "    for (year, month), group in df.group_by([\"year\", \"month\"]):\n",
        "        res = circular_count_monthly(group, year, month)\n",
        "        if res.height > 0:\n",
        "            results.append(res)\n",
        "\n",
        "    # Combine all results\n",
        "    out_rx = pl.concat(results, how=\"vertical\") if results else pl.DataFrame()\n",
        "\n",
        "    # Join back to original df\n",
        "    df_result = (\n",
        "        df.join(out_rx, on=[\"Sender_account\", \"year\", \"month\"], how=\"left\")\n",
        "        .with_columns(\n",
        "            pl.col(\"circular_transaction_count\").fill_null(0)\n",
        "        )\n",
        "    )\n",
        "    return df_result\n",
        "\n",
        "def circular_count_monthly(pdf, year, month):\n",
        "    edges = list(zip(pdf[\"Sender_account\"], pdf[\"Receiver_account\"]))\n",
        "    if not edges:\n",
        "        return empty_month_frame()\n",
        "\n",
        "    G = rx.PyDiGraph()\n",
        "    node_idx = {}\n",
        "    for u, v in edges:\n",
        "        if u not in node_idx:\n",
        "            node_idx[u] = G.add_node(u)\n",
        "        if v not in node_idx:\n",
        "            node_idx[v] = G.add_node(v)\n",
        "        G.add_edge(node_idx[u], node_idx[v], None)\n",
        "\n",
        "    cycles = rx.simple_cycles(G)\n",
        "\n",
        "    counter = {}\n",
        "    for cyc in cycles:\n",
        "        cyc_nodes = [G[node] for node in cyc]\n",
        "        for node in cyc_nodes:\n",
        "            counter[node] = counter.get(node, 0) + 1\n",
        "\n",
        "    return pl.DataFrame({\n",
        "        \"Sender_account\": list(counter.keys()),\n",
        "        \"circular_transaction_count\": list(counter.values()),\n",
        "        \"year\": [year] * len(counter),\n",
        "        \"month\": [month] * len(counter)\n",
        "    })"
      ],
      "metadata": {
        "id": "wLzONn2aBOQo"
      },
      "execution_count": 26,
      "outputs": []
    },
    {
      "cell_type": "code",
      "source": [
        "df_train = circular_transaction_feature(df_train)"
      ],
      "metadata": {
        "id": "mJDm7BL5B9qR"
      },
      "execution_count": 27,
      "outputs": []
    },
    {
      "cell_type": "code",
      "source": [
        "df_train.head()"
      ],
      "metadata": {
        "colab": {
          "base_uri": "https://localhost:8080/",
          "height": 361
        },
        "id": "llWu3L6WD8T6",
        "outputId": "0c90cccf-8ea1-429e-f934-e344712c36cf"
      },
      "execution_count": 28,
      "outputs": [
        {
          "output_type": "execute_result",
          "data": {
            "text/plain": [
              "shape: (5, 35)\n",
              "┌──────────┬───────────┬───────────┬───────────┬───┬───────────┬───────────┬───────────┬───────────┐\n",
              "│ Time     ┆ Date      ┆ Sender_ac ┆ Receiver_ ┆ … ┆ fan_in_ou ┆ fanin_int ┆ sent_to_r ┆ circular_ │\n",
              "│ ---      ┆ ---       ┆ count     ┆ account   ┆   ┆ t_ratio   ┆ ensity_ra ┆ eceived_r ┆ transacti │\n",
              "│ time     ┆ date      ┆ ---       ┆ ---       ┆   ┆ ---       ┆ tio       ┆ atio_mont ┆ on_count  │\n",
              "│          ┆           ┆ i64       ┆ i64       ┆   ┆ f64       ┆ ---       ┆ hly       ┆ ---       │\n",
              "│          ┆           ┆           ┆           ┆   ┆           ┆ f64       ┆ ---       ┆ i64       │\n",
              "│          ┆           ┆           ┆           ┆   ┆           ┆           ┆ f64       ┆           │\n",
              "╞══════════╪═══════════╪═══════════╪═══════════╪═══╪═══════════╪═══════════╪═══════════╪═══════════╡\n",
              "│ 10:35:19 ┆ 2022-10-0 ┆ 872473195 ┆ 276935542 ┆ … ┆ 2.0       ┆ 2.0       ┆ 1.0       ┆ 0         │\n",
              "│          ┆ 7         ┆ 5         ┆ 6         ┆   ┆           ┆           ┆           ┆           │\n",
              "│ 10:35:20 ┆ 2022-10-0 ┆ 149198906 ┆ 840125533 ┆ … ┆ 0.034483  ┆ 1.0       ┆ 0.066176  ┆ 0         │\n",
              "│          ┆ 7         ┆ 4         ┆ 5         ┆   ┆           ┆           ┆           ┆           │\n",
              "│ 10:35:20 ┆ 2022-10-0 ┆ 287305149 ┆ 440476700 ┆ … ┆ 0.083333  ┆ 1.0       ┆ 0.078874  ┆ 0         │\n",
              "│          ┆ 7         ┆           ┆ 2         ┆   ┆           ┆           ┆           ┆           │\n",
              "│ 10:35:21 ┆ 2022-10-0 ┆ 537665243 ┆ 960042022 ┆ … ┆ 11.0      ┆ 1.222222  ┆ 8.238006  ┆ 0         │\n",
              "│          ┆ 7         ┆ 7         ┆ 0         ┆   ┆           ┆           ┆           ┆           │\n",
              "│ 10:35:21 ┆ 2022-10-0 ┆ 961418617 ┆ 380333697 ┆ … ┆ 3.0       ┆ 3.0       ┆ 1.499104  ┆ 0         │\n",
              "│          ┆ 7         ┆ 8         ┆ 2         ┆   ┆           ┆           ┆           ┆           │\n",
              "└──────────┴───────────┴───────────┴───────────┴───┴───────────┴───────────┴───────────┴───────────┘"
            ],
            "text/html": [
              "<div><style>\n",
              ".dataframe > thead > tr,\n",
              ".dataframe > tbody > tr {\n",
              "  text-align: right;\n",
              "  white-space: pre-wrap;\n",
              "}\n",
              "</style>\n",
              "<small>shape: (5, 35)</small><table border=\"1\" class=\"dataframe\"><thead><tr><th>Time</th><th>Date</th><th>Sender_account</th><th>Receiver_account</th><th>Amount</th><th>Payment_currency</th><th>Received_currency</th><th>Sender_bank_location</th><th>Receiver_bank_location</th><th>Payment_type</th><th>Is_laundering</th><th>year</th><th>month</th><th>day_of_month</th><th>day_of_week</th><th>day_of_year</th><th>hour</th><th>minute</th><th>second</th><th>currency_mismatch</th><th>cross_border</th><th>high_risk_sender</th><th>high_risk_receiver</th><th>fanin_30d</th><th>fanout_30d</th><th>daily_recieve</th><th>monthly_receive</th><th>monthly_send</th><th>back_and_forth_transfers</th><th>daily_receive</th><th>amount_dispersion_std</th><th>fan_in_out_ratio</th><th>fanin_intensity_ratio</th><th>sent_to_received_ratio_monthly</th><th>circular_transaction_count</th></tr><tr><td>time</td><td>date</td><td>i64</td><td>i64</td><td>f64</td><td>str</td><td>str</td><td>str</td><td>str</td><td>str</td><td>i8</td><td>i32</td><td>i8</td><td>i8</td><td>i8</td><td>i16</td><td>i8</td><td>i8</td><td>i8</td><td>i8</td><td>i8</td><td>i8</td><td>i8</td><td>u32</td><td>u32</td><td>u32</td><td>f64</td><td>f64</td><td>i64</td><td>u32</td><td>f64</td><td>f64</td><td>f64</td><td>f64</td><td>i64</td></tr></thead><tbody><tr><td>10:35:19</td><td>2022-10-07</td><td>8724731955</td><td>2769355426</td><td>1459.15</td><td>&quot;UK pounds&quot;</td><td>&quot;UK pounds&quot;</td><td>&quot;UK&quot;</td><td>&quot;UK&quot;</td><td>&quot;Cash Deposit&quot;</td><td>0</td><td>2022</td><td>10</td><td>7</td><td>5</td><td>280</td><td>10</td><td>35</td><td>19</td><td>0</td><td>0</td><td>0</td><td>0</td><td>2</td><td>1</td><td>1</td><td>1459.15</td><td>1459.15</td><td>1</td><td>1</td><td>1919.843222</td><td>2.0</td><td>2.0</td><td>1.0</td><td>0</td></tr><tr><td>10:35:20</td><td>2022-10-07</td><td>1491989064</td><td>8401255335</td><td>6019.64</td><td>&quot;UK pounds&quot;</td><td>&quot;Dirham&quot;</td><td>&quot;UK&quot;</td><td>&quot;UAE&quot;</td><td>&quot;Cross-border&quot;</td><td>0</td><td>2022</td><td>10</td><td>7</td><td>5</td><td>280</td><td>10</td><td>35</td><td>20</td><td>1</td><td>1</td><td>0</td><td>1</td><td>1</td><td>29</td><td>1</td><td>72252.38</td><td>1.0918e6</td><td>12</td><td>1</td><td>26007.711545</td><td>0.034483</td><td>1.0</td><td>0.066176</td><td>0</td></tr><tr><td>10:35:20</td><td>2022-10-07</td><td>287305149</td><td>4404767002</td><td>14328.44</td><td>&quot;UK pounds&quot;</td><td>&quot;UK pounds&quot;</td><td>&quot;UK&quot;</td><td>&quot;UK&quot;</td><td>&quot;Cheque&quot;</td><td>0</td><td>2022</td><td>10</td><td>7</td><td>5</td><td>280</td><td>10</td><td>35</td><td>20</td><td>0</td><td>0</td><td>0</td><td>0</td><td>1</td><td>12</td><td>1</td><td>14328.44</td><td>181662.45</td><td>1</td><td>1</td><td>19858.452212</td><td>0.083333</td><td>1.0</td><td>0.078874</td><td>0</td></tr><tr><td>10:35:21</td><td>2022-10-07</td><td>5376652437</td><td>9600420220</td><td>11895.0</td><td>&quot;UK pounds&quot;</td><td>&quot;UK pounds&quot;</td><td>&quot;UK&quot;</td><td>&quot;UK&quot;</td><td>&quot;ACH&quot;</td><td>0</td><td>2022</td><td>10</td><td>7</td><td>5</td><td>280</td><td>10</td><td>35</td><td>21</td><td>0</td><td>0</td><td>0</td><td>0</td><td>11</td><td>1</td><td>9</td><td>885090.99</td><td>107439.96</td><td>9</td><td>9</td><td>79.885556</td><td>11.0</td><td>1.222222</td><td>8.238006</td><td>0</td></tr><tr><td>10:35:21</td><td>2022-10-07</td><td>9614186178</td><td>3803336972</td><td>115.25</td><td>&quot;UK pounds&quot;</td><td>&quot;UK pounds&quot;</td><td>&quot;UK&quot;</td><td>&quot;UK&quot;</td><td>&quot;Cash Deposit&quot;</td><td>0</td><td>2022</td><td>10</td><td>7</td><td>5</td><td>280</td><td>10</td><td>35</td><td>21</td><td>0</td><td>0</td><td>0</td><td>0</td><td>3</td><td>1</td><td>1</td><td>5010.29</td><td>3342.19</td><td>1</td><td>1</td><td>892.281108</td><td>3.0</td><td>3.0</td><td>1.499104</td><td>0</td></tr></tbody></table></div>"
            ]
          },
          "metadata": {},
          "execution_count": 28
        }
      ]
    },
    {
      "cell_type": "code",
      "source": [
        "df_train = recast(df_train)\n",
        "df_train.head()"
      ],
      "metadata": {
        "colab": {
          "base_uri": "https://localhost:8080/",
          "height": 361
        },
        "id": "QQw5mRQzKg-w",
        "outputId": "8d820499-9c1c-4ede-b891-013e1f2b5c73"
      },
      "execution_count": 29,
      "outputs": [
        {
          "output_type": "execute_result",
          "data": {
            "text/plain": [
              "shape: (5, 35)\n",
              "┌──────────┬───────────┬───────────┬───────────┬───┬───────────┬───────────┬───────────┬───────────┐\n",
              "│ Time     ┆ Date      ┆ Sender_ac ┆ Receiver_ ┆ … ┆ fan_in_ou ┆ fanin_int ┆ sent_to_r ┆ circular_ │\n",
              "│ ---      ┆ ---       ┆ count     ┆ account   ┆   ┆ t_ratio   ┆ ensity_ra ┆ eceived_r ┆ transacti │\n",
              "│ time     ┆ date      ┆ ---       ┆ ---       ┆   ┆ ---       ┆ tio       ┆ atio_mont ┆ on_count  │\n",
              "│          ┆           ┆ i64       ┆ i64       ┆   ┆ f64       ┆ ---       ┆ hly       ┆ ---       │\n",
              "│          ┆           ┆           ┆           ┆   ┆           ┆ f64       ┆ ---       ┆ i8        │\n",
              "│          ┆           ┆           ┆           ┆   ┆           ┆           ┆ f64       ┆           │\n",
              "╞══════════╪═══════════╪═══════════╪═══════════╪═══╪═══════════╪═══════════╪═══════════╪═══════════╡\n",
              "│ 10:35:19 ┆ 2022-10-0 ┆ 872473195 ┆ 276935542 ┆ … ┆ 2.0       ┆ 2.0       ┆ 1.0       ┆ 0         │\n",
              "│          ┆ 7         ┆ 5         ┆ 6         ┆   ┆           ┆           ┆           ┆           │\n",
              "│ 10:35:20 ┆ 2022-10-0 ┆ 149198906 ┆ 840125533 ┆ … ┆ 0.034483  ┆ 1.0       ┆ 0.066176  ┆ 0         │\n",
              "│          ┆ 7         ┆ 4         ┆ 5         ┆   ┆           ┆           ┆           ┆           │\n",
              "│ 10:35:20 ┆ 2022-10-0 ┆ 287305149 ┆ 440476700 ┆ … ┆ 0.083333  ┆ 1.0       ┆ 0.078874  ┆ 0         │\n",
              "│          ┆ 7         ┆           ┆ 2         ┆   ┆           ┆           ┆           ┆           │\n",
              "│ 10:35:21 ┆ 2022-10-0 ┆ 537665243 ┆ 960042022 ┆ … ┆ 11.0      ┆ 1.222222  ┆ 8.238006  ┆ 0         │\n",
              "│          ┆ 7         ┆ 7         ┆ 0         ┆   ┆           ┆           ┆           ┆           │\n",
              "│ 10:35:21 ┆ 2022-10-0 ┆ 961418617 ┆ 380333697 ┆ … ┆ 3.0       ┆ 3.0       ┆ 1.499104  ┆ 0         │\n",
              "│          ┆ 7         ┆ 8         ┆ 2         ┆   ┆           ┆           ┆           ┆           │\n",
              "└──────────┴───────────┴───────────┴───────────┴───┴───────────┴───────────┴───────────┴───────────┘"
            ],
            "text/html": [
              "<div><style>\n",
              ".dataframe > thead > tr,\n",
              ".dataframe > tbody > tr {\n",
              "  text-align: right;\n",
              "  white-space: pre-wrap;\n",
              "}\n",
              "</style>\n",
              "<small>shape: (5, 35)</small><table border=\"1\" class=\"dataframe\"><thead><tr><th>Time</th><th>Date</th><th>Sender_account</th><th>Receiver_account</th><th>Amount</th><th>Payment_currency</th><th>Received_currency</th><th>Sender_bank_location</th><th>Receiver_bank_location</th><th>Payment_type</th><th>Is_laundering</th><th>year</th><th>month</th><th>day_of_month</th><th>day_of_week</th><th>day_of_year</th><th>hour</th><th>minute</th><th>second</th><th>currency_mismatch</th><th>cross_border</th><th>high_risk_sender</th><th>high_risk_receiver</th><th>fanin_30d</th><th>fanout_30d</th><th>daily_recieve</th><th>monthly_receive</th><th>monthly_send</th><th>back_and_forth_transfers</th><th>daily_receive</th><th>amount_dispersion_std</th><th>fan_in_out_ratio</th><th>fanin_intensity_ratio</th><th>sent_to_received_ratio_monthly</th><th>circular_transaction_count</th></tr><tr><td>time</td><td>date</td><td>i64</td><td>i64</td><td>f64</td><td>str</td><td>str</td><td>str</td><td>str</td><td>str</td><td>i8</td><td>i16</td><td>i8</td><td>i8</td><td>i8</td><td>i16</td><td>i8</td><td>i8</td><td>i8</td><td>i8</td><td>i8</td><td>i8</td><td>i8</td><td>u32</td><td>u32</td><td>u32</td><td>f64</td><td>f64</td><td>i8</td><td>u32</td><td>f64</td><td>f64</td><td>f64</td><td>f64</td><td>i8</td></tr></thead><tbody><tr><td>10:35:19</td><td>2022-10-07</td><td>8724731955</td><td>2769355426</td><td>1459.15</td><td>&quot;UK pounds&quot;</td><td>&quot;UK pounds&quot;</td><td>&quot;UK&quot;</td><td>&quot;UK&quot;</td><td>&quot;Cash Deposit&quot;</td><td>0</td><td>2022</td><td>10</td><td>7</td><td>5</td><td>280</td><td>10</td><td>35</td><td>19</td><td>0</td><td>0</td><td>0</td><td>0</td><td>2</td><td>1</td><td>1</td><td>1459.15</td><td>1459.15</td><td>1</td><td>1</td><td>1919.843222</td><td>2.0</td><td>2.0</td><td>1.0</td><td>0</td></tr><tr><td>10:35:20</td><td>2022-10-07</td><td>1491989064</td><td>8401255335</td><td>6019.64</td><td>&quot;UK pounds&quot;</td><td>&quot;Dirham&quot;</td><td>&quot;UK&quot;</td><td>&quot;UAE&quot;</td><td>&quot;Cross-border&quot;</td><td>0</td><td>2022</td><td>10</td><td>7</td><td>5</td><td>280</td><td>10</td><td>35</td><td>20</td><td>1</td><td>1</td><td>0</td><td>1</td><td>1</td><td>29</td><td>1</td><td>72252.38</td><td>1.0918e6</td><td>12</td><td>1</td><td>26007.711545</td><td>0.034483</td><td>1.0</td><td>0.066176</td><td>0</td></tr><tr><td>10:35:20</td><td>2022-10-07</td><td>287305149</td><td>4404767002</td><td>14328.44</td><td>&quot;UK pounds&quot;</td><td>&quot;UK pounds&quot;</td><td>&quot;UK&quot;</td><td>&quot;UK&quot;</td><td>&quot;Cheque&quot;</td><td>0</td><td>2022</td><td>10</td><td>7</td><td>5</td><td>280</td><td>10</td><td>35</td><td>20</td><td>0</td><td>0</td><td>0</td><td>0</td><td>1</td><td>12</td><td>1</td><td>14328.44</td><td>181662.45</td><td>1</td><td>1</td><td>19858.452212</td><td>0.083333</td><td>1.0</td><td>0.078874</td><td>0</td></tr><tr><td>10:35:21</td><td>2022-10-07</td><td>5376652437</td><td>9600420220</td><td>11895.0</td><td>&quot;UK pounds&quot;</td><td>&quot;UK pounds&quot;</td><td>&quot;UK&quot;</td><td>&quot;UK&quot;</td><td>&quot;ACH&quot;</td><td>0</td><td>2022</td><td>10</td><td>7</td><td>5</td><td>280</td><td>10</td><td>35</td><td>21</td><td>0</td><td>0</td><td>0</td><td>0</td><td>11</td><td>1</td><td>9</td><td>885090.99</td><td>107439.96</td><td>9</td><td>9</td><td>79.885556</td><td>11.0</td><td>1.222222</td><td>8.238006</td><td>0</td></tr><tr><td>10:35:21</td><td>2022-10-07</td><td>9614186178</td><td>3803336972</td><td>115.25</td><td>&quot;UK pounds&quot;</td><td>&quot;UK pounds&quot;</td><td>&quot;UK&quot;</td><td>&quot;UK&quot;</td><td>&quot;Cash Deposit&quot;</td><td>0</td><td>2022</td><td>10</td><td>7</td><td>5</td><td>280</td><td>10</td><td>35</td><td>21</td><td>0</td><td>0</td><td>0</td><td>0</td><td>3</td><td>1</td><td>1</td><td>5010.29</td><td>3342.19</td><td>1</td><td>1</td><td>892.281108</td><td>3.0</td><td>3.0</td><td>1.499104</td><td>0</td></tr></tbody></table></div>"
            ]
          },
          "metadata": {},
          "execution_count": 29
        }
      ]
    },
    {
      "cell_type": "markdown",
      "source": [
        "**XGBoost**"
      ],
      "metadata": {
        "id": "TGsNe76hRQD0"
      }
    },
    {
      "cell_type": "code",
      "source": [
        "import xgboost as xgb\n",
        "from xgboost import XGBClassifier\n",
        "from sklearn.metrics import f1_score, accuracy_score, confusion_matrix, classification_report, roc_auc_score, precision_score, recall_score, precision_recall_curve\n",
        "import itertools\n",
        "import pandas as pd"
      ],
      "metadata": {
        "id": "ZINyH0VLN1Yg"
      },
      "execution_count": 30,
      "outputs": []
    },
    {
      "cell_type": "code",
      "source": [
        "opt_features = ['Amount', 'year', 'day_of_month', 'day_of_week',  'hour', 'minute', 'second',\n",
        "            'currency_mismatch', 'high_risk_sender', 'high_risk_receiver',\n",
        "            'fanin_30d', 'fanin_intensity_ratio', 'amount_dispersion_std',\n",
        "            'sent_to_received_ratio_monthly', 'back_and_forth_transfers',\n",
        "            'circular_transaction_count', 'Is_laundering']"
      ],
      "metadata": {
        "id": "8DaKdAIFhTYF"
      },
      "execution_count": 31,
      "outputs": []
    },
    {
      "cell_type": "code",
      "source": [
        "df_test = temporal_features(df_test)\n",
        "df_test = risk_features(df_test)"
      ],
      "metadata": {
        "id": "4Aki__57RYh3"
      },
      "execution_count": 32,
      "outputs": []
    },
    {
      "cell_type": "code",
      "source": [
        "lazy_with_features_test = build_window_features_lazy(df_test, specs, amount_col=\"Amount\", label_choice=\"left\")\n",
        "plan = (\n",
        "    lazy_with_features_test\n",
        "    .sort([\"Sender_account\", \"Date\"])\n",
        "    .with_columns([pl.col(\"Sender_account\").set_sorted(), pl.col(\"Date\").set_sorted()])\n",
        ")\n",
        "df_streamed_test = plan.collect(engine=\"streaming\")\n",
        "df_test = df_streamed_test.sort(\"__row_idx\").drop(\"__row_idx\")"
      ],
      "metadata": {
        "id": "YZMjVYx3R0jv",
        "colab": {
          "base_uri": "https://localhost:8080/"
        },
        "outputId": "00c2b18f-f60b-451d-f740-aa4aa401c6ad"
      },
      "execution_count": 33,
      "outputs": [
        {
          "output_type": "stream",
          "name": "stderr",
          "text": [
            "/tmp/ipython-input-2390568763.py:7: UserWarning: Sortedness of columns cannot be checked when 'by' groups provided\n",
            "  df_streamed_test = plan.collect(engine=\"streaming\")\n"
          ]
        }
      ]
    },
    {
      "cell_type": "code",
      "source": [
        "lazy_with_derived_test = compute_derived_features_lazy(lazy_with_features_test)\n",
        "\n",
        "# Before streaming collect: pick a primary grouping ordering that matches your rolling computations.\n",
        "# If most rolling features used Receiver_account then Date, use that; otherwise use the grouping you chose.\n",
        "plan_derived_test = (\n",
        "    lazy_with_derived_test\n",
        "    .sort([\"Sender_account\", \"Date\"])\n",
        "    .with_columns([pl.col(\"Sender_account\").set_sorted(), pl.col(\"Date\").set_sorted()])\n",
        ")\n",
        "\n",
        "df_streamed_test = plan_derived_test.collect(engine=\"streaming\")\n",
        "df_test = df_streamed_test.sort(\"__row_idx\").drop(\"__row_idx\")"
      ],
      "metadata": {
        "id": "hVw56oBSSHDn",
        "colab": {
          "base_uri": "https://localhost:8080/"
        },
        "outputId": "f8df9cc9-3e21-4dd0-aabc-ac5669d22b7b"
      },
      "execution_count": 34,
      "outputs": [
        {
          "output_type": "stream",
          "name": "stderr",
          "text": [
            "/tmp/ipython-input-1341853613.py:32: PerformanceWarning: Resolving the schema of a LazyFrame is a potentially expensive operation. Use `LazyFrame.collect_schema()` to get the schema without this warning.\n",
            "  schema = lf.schema()\n",
            "/tmp/ipython-input-668496989.py:11: UserWarning: Sortedness of columns cannot be checked when 'by' groups provided\n",
            "  df_streamed_test = plan_derived_test.collect(engine=\"streaming\")\n"
          ]
        }
      ]
    },
    {
      "cell_type": "code",
      "source": [
        "df_test.head()"
      ],
      "metadata": {
        "id": "PEt4_p2NTB1M",
        "colab": {
          "base_uri": "https://localhost:8080/",
          "height": 361
        },
        "outputId": "20b747ba-e55f-4f35-9d86-bed0eeafc3ee"
      },
      "execution_count": 35,
      "outputs": [
        {
          "output_type": "execute_result",
          "data": {
            "text/plain": [
              "shape: (5, 34)\n",
              "┌──────────┬───────────┬───────────┬───────────┬───┬───────────┬───────────┬───────────┬───────────┐\n",
              "│ Time     ┆ Date      ┆ Sender_ac ┆ Receiver_ ┆ … ┆ amount_di ┆ fan_in_ou ┆ fanin_int ┆ sent_to_r │\n",
              "│ ---      ┆ ---       ┆ count     ┆ account   ┆   ┆ spersion_ ┆ t_ratio   ┆ ensity_ra ┆ eceived_r │\n",
              "│ time     ┆ date      ┆ ---       ┆ ---       ┆   ┆ std       ┆ ---       ┆ tio       ┆ atio_mont │\n",
              "│          ┆           ┆ i64       ┆ i64       ┆   ┆ ---       ┆ f64       ┆ ---       ┆ hly       │\n",
              "│          ┆           ┆           ┆           ┆   ┆ f64       ┆           ┆ f64       ┆ ---       │\n",
              "│          ┆           ┆           ┆           ┆   ┆           ┆           ┆           ┆ f64       │\n",
              "╞══════════╪═══════════╪═══════════╪═══════════╪═══╪═══════════╪═══════════╪═══════════╪═══════════╡\n",
              "│ 00:00:01 ┆ 2023-07-1 ┆ 341147855 ┆ 633951398 ┆ … ┆ 7532.1393 ┆ 0.030303  ┆ 1.0       ┆ 0.042073  │\n",
              "│          ┆ 9         ┆ 8         ┆           ┆   ┆ 27        ┆           ┆           ┆           │\n",
              "│ 00:00:09 ┆ 2023-07-1 ┆ 103718057 ┆ 834731430 ┆ … ┆ 183.01953 ┆ 18.0      ┆ 1.058824  ┆ 9.543232  │\n",
              "│          ┆ 9         ┆ 1         ┆ 7         ┆   ┆ 4         ┆           ┆           ┆           │\n",
              "│ 00:00:14 ┆ 2023-07-1 ┆ 669730368 ┆ 989851243 ┆ … ┆ 5669.9987 ┆ 0.045455  ┆ 1.0       ┆ 0.200976  │\n",
              "│          ┆ 9         ┆ 9         ┆ 4         ┆   ┆ 04        ┆           ┆           ┆           │\n",
              "│ 00:00:21 ┆ 2023-07-1 ┆ 83270720  ┆ 200796531 ┆ … ┆ 77071.234 ┆ 0.066667  ┆ 1.0       ┆ 0.018297  │\n",
              "│          ┆ 9         ┆           ┆ 9         ┆   ┆ 5         ┆           ┆           ┆           │\n",
              "│ 00:00:26 ┆ 2023-07-1 ┆ 215577760 ┆ 600608873 ┆ … ┆ 4393.7417 ┆ 0.05      ┆ 1.0       ┆ 0.278183  │\n",
              "│          ┆ 9         ┆ 5         ┆ 2         ┆   ┆ 46        ┆           ┆           ┆           │\n",
              "└──────────┴───────────┴───────────┴───────────┴───┴───────────┴───────────┴───────────┴───────────┘"
            ],
            "text/html": [
              "<div><style>\n",
              ".dataframe > thead > tr,\n",
              ".dataframe > tbody > tr {\n",
              "  text-align: right;\n",
              "  white-space: pre-wrap;\n",
              "}\n",
              "</style>\n",
              "<small>shape: (5, 34)</small><table border=\"1\" class=\"dataframe\"><thead><tr><th>Time</th><th>Date</th><th>Sender_account</th><th>Receiver_account</th><th>Amount</th><th>Payment_currency</th><th>Received_currency</th><th>Sender_bank_location</th><th>Receiver_bank_location</th><th>Payment_type</th><th>Is_laundering</th><th>year</th><th>month</th><th>day_of_month</th><th>day_of_week</th><th>day_of_year</th><th>hour</th><th>minute</th><th>second</th><th>currency_mismatch</th><th>cross_border</th><th>high_risk_sender</th><th>high_risk_receiver</th><th>fanin_30d</th><th>fanout_30d</th><th>daily_recieve</th><th>monthly_receive</th><th>monthly_send</th><th>back_and_forth_transfers</th><th>daily_receive</th><th>amount_dispersion_std</th><th>fan_in_out_ratio</th><th>fanin_intensity_ratio</th><th>sent_to_received_ratio_monthly</th></tr><tr><td>time</td><td>date</td><td>i64</td><td>i64</td><td>f64</td><td>str</td><td>str</td><td>str</td><td>str</td><td>str</td><td>i64</td><td>i32</td><td>i8</td><td>i8</td><td>i8</td><td>i16</td><td>i8</td><td>i8</td><td>i8</td><td>i8</td><td>i8</td><td>i8</td><td>i8</td><td>u32</td><td>u32</td><td>u32</td><td>f64</td><td>f64</td><td>i64</td><td>u32</td><td>f64</td><td>f64</td><td>f64</td><td>f64</td></tr></thead><tbody><tr><td>00:00:01</td><td>2023-07-19</td><td>3411478558</td><td>633951398</td><td>7471.56</td><td>&quot;UK pounds&quot;</td><td>&quot;UK pounds&quot;</td><td>&quot;UK&quot;</td><td>&quot;UK&quot;</td><td>&quot;Debit card&quot;</td><td>0</td><td>2023</td><td>7</td><td>19</td><td>3</td><td>200</td><td>0</td><td>0</td><td>1</td><td>0</td><td>0</td><td>0</td><td>0</td><td>1</td><td>33</td><td>1</td><td>96911.4</td><td>2.3034e6</td><td>13</td><td>1</td><td>7532.139327</td><td>0.030303</td><td>1.0</td><td>0.042073</td></tr><tr><td>00:00:09</td><td>2023-07-19</td><td>1037180571</td><td>8347314307</td><td>17651.18</td><td>&quot;Pakistani rupee&quot;</td><td>&quot;UK pounds&quot;</td><td>&quot;Pakistan&quot;</td><td>&quot;UK&quot;</td><td>&quot;Cross-border&quot;</td><td>0</td><td>2023</td><td>7</td><td>19</td><td>3</td><td>200</td><td>0</td><td>0</td><td>9</td><td>1</td><td>1</td><td>0</td><td>0</td><td>18</td><td>1</td><td>17</td><td>2.0053e6</td><td>210131.26</td><td>12</td><td>17</td><td>183.019534</td><td>18.0</td><td>1.058824</td><td>9.543232</td></tr><tr><td>00:00:14</td><td>2023-07-19</td><td>6697303689</td><td>9898512434</td><td>14453.42</td><td>&quot;UK pounds&quot;</td><td>&quot;UK pounds&quot;</td><td>&quot;UK&quot;</td><td>&quot;UK&quot;</td><td>&quot;Debit card&quot;</td><td>0</td><td>2023</td><td>7</td><td>19</td><td>3</td><td>200</td><td>0</td><td>0</td><td>14</td><td>0</td><td>0</td><td>0</td><td>0</td><td>1</td><td>22</td><td>1</td><td>188214.74</td><td>936502.04</td><td>13</td><td>1</td><td>5669.998704</td><td>0.045455</td><td>1.0</td><td>0.200976</td></tr><tr><td>00:00:21</td><td>2023-07-19</td><td>83270720</td><td>2007965319</td><td>1393.64</td><td>&quot;UK pounds&quot;</td><td>&quot;UK pounds&quot;</td><td>&quot;UK&quot;</td><td>&quot;UK&quot;</td><td>&quot;Debit card&quot;</td><td>0</td><td>2023</td><td>7</td><td>19</td><td>3</td><td>200</td><td>0</td><td>0</td><td>21</td><td>0</td><td>0</td><td>0</td><td>0</td><td>1</td><td>15</td><td>1</td><td>1393.64</td><td>76166.11</td><td>1</td><td>1</td><td>77071.2345</td><td>0.066667</td><td>1.0</td><td>0.018297</td></tr><tr><td>00:00:26</td><td>2023-07-19</td><td>2155777605</td><td>6006088732</td><td>14836.12</td><td>&quot;Turkish lira&quot;</td><td>&quot;UK pounds&quot;</td><td>&quot;UK&quot;</td><td>&quot;UK&quot;</td><td>&quot;Cheque&quot;</td><td>0</td><td>2023</td><td>7</td><td>19</td><td>3</td><td>200</td><td>0</td><td>0</td><td>26</td><td>1</td><td>0</td><td>0</td><td>0</td><td>1</td><td>20</td><td>1</td><td>14836.12</td><td>53332.15</td><td>1</td><td>1</td><td>4393.741746</td><td>0.05</td><td>1.0</td><td>0.278183</td></tr></tbody></table></div>"
            ]
          },
          "metadata": {},
          "execution_count": 35
        }
      ]
    },
    {
      "cell_type": "code",
      "source": [
        "df_test = circular_transaction_feature(df_test)"
      ],
      "metadata": {
        "id": "dfo_90f9lhyp"
      },
      "execution_count": 36,
      "outputs": []
    },
    {
      "cell_type": "code",
      "source": [
        "df_test = recast(df_test)\n",
        "df_test.head()"
      ],
      "metadata": {
        "id": "qYqd_CeNX2NF",
        "colab": {
          "base_uri": "https://localhost:8080/",
          "height": 361
        },
        "outputId": "ea0b8c01-01d0-4c99-d11f-e76daa1613e5"
      },
      "execution_count": 37,
      "outputs": [
        {
          "output_type": "execute_result",
          "data": {
            "text/plain": [
              "shape: (5, 35)\n",
              "┌──────────┬───────────┬───────────┬───────────┬───┬───────────┬───────────┬───────────┬───────────┐\n",
              "│ Time     ┆ Date      ┆ Sender_ac ┆ Receiver_ ┆ … ┆ fan_in_ou ┆ fanin_int ┆ sent_to_r ┆ circular_ │\n",
              "│ ---      ┆ ---       ┆ count     ┆ account   ┆   ┆ t_ratio   ┆ ensity_ra ┆ eceived_r ┆ transacti │\n",
              "│ time     ┆ date      ┆ ---       ┆ ---       ┆   ┆ ---       ┆ tio       ┆ atio_mont ┆ on_count  │\n",
              "│          ┆           ┆ i64       ┆ i64       ┆   ┆ f64       ┆ ---       ┆ hly       ┆ ---       │\n",
              "│          ┆           ┆           ┆           ┆   ┆           ┆ f64       ┆ ---       ┆ i8        │\n",
              "│          ┆           ┆           ┆           ┆   ┆           ┆           ┆ f64       ┆           │\n",
              "╞══════════╪═══════════╪═══════════╪═══════════╪═══╪═══════════╪═══════════╪═══════════╪═══════════╡\n",
              "│ 00:00:01 ┆ 2023-07-1 ┆ 341147855 ┆ 633951398 ┆ … ┆ 0.030303  ┆ 1.0       ┆ 0.042073  ┆ 0         │\n",
              "│          ┆ 9         ┆ 8         ┆           ┆   ┆           ┆           ┆           ┆           │\n",
              "│ 00:00:09 ┆ 2023-07-1 ┆ 103718057 ┆ 834731430 ┆ … ┆ 18.0      ┆ 1.058824  ┆ 9.543232  ┆ 0         │\n",
              "│          ┆ 9         ┆ 1         ┆ 7         ┆   ┆           ┆           ┆           ┆           │\n",
              "│ 00:00:14 ┆ 2023-07-1 ┆ 669730368 ┆ 989851243 ┆ … ┆ 0.045455  ┆ 1.0       ┆ 0.200976  ┆ 0         │\n",
              "│          ┆ 9         ┆ 9         ┆ 4         ┆   ┆           ┆           ┆           ┆           │\n",
              "│ 00:00:21 ┆ 2023-07-1 ┆ 83270720  ┆ 200796531 ┆ … ┆ 0.066667  ┆ 1.0       ┆ 0.018297  ┆ 0         │\n",
              "│          ┆ 9         ┆           ┆ 9         ┆   ┆           ┆           ┆           ┆           │\n",
              "│ 00:00:26 ┆ 2023-07-1 ┆ 215577760 ┆ 600608873 ┆ … ┆ 0.05      ┆ 1.0       ┆ 0.278183  ┆ 0         │\n",
              "│          ┆ 9         ┆ 5         ┆ 2         ┆   ┆           ┆           ┆           ┆           │\n",
              "└──────────┴───────────┴───────────┴───────────┴───┴───────────┴───────────┴───────────┴───────────┘"
            ],
            "text/html": [
              "<div><style>\n",
              ".dataframe > thead > tr,\n",
              ".dataframe > tbody > tr {\n",
              "  text-align: right;\n",
              "  white-space: pre-wrap;\n",
              "}\n",
              "</style>\n",
              "<small>shape: (5, 35)</small><table border=\"1\" class=\"dataframe\"><thead><tr><th>Time</th><th>Date</th><th>Sender_account</th><th>Receiver_account</th><th>Amount</th><th>Payment_currency</th><th>Received_currency</th><th>Sender_bank_location</th><th>Receiver_bank_location</th><th>Payment_type</th><th>Is_laundering</th><th>year</th><th>month</th><th>day_of_month</th><th>day_of_week</th><th>day_of_year</th><th>hour</th><th>minute</th><th>second</th><th>currency_mismatch</th><th>cross_border</th><th>high_risk_sender</th><th>high_risk_receiver</th><th>fanin_30d</th><th>fanout_30d</th><th>daily_recieve</th><th>monthly_receive</th><th>monthly_send</th><th>back_and_forth_transfers</th><th>daily_receive</th><th>amount_dispersion_std</th><th>fan_in_out_ratio</th><th>fanin_intensity_ratio</th><th>sent_to_received_ratio_monthly</th><th>circular_transaction_count</th></tr><tr><td>time</td><td>date</td><td>i64</td><td>i64</td><td>f64</td><td>str</td><td>str</td><td>str</td><td>str</td><td>str</td><td>i8</td><td>i16</td><td>i8</td><td>i8</td><td>i8</td><td>i16</td><td>i8</td><td>i8</td><td>i8</td><td>i8</td><td>i8</td><td>i8</td><td>i8</td><td>u32</td><td>u32</td><td>u32</td><td>f64</td><td>f64</td><td>i8</td><td>u32</td><td>f64</td><td>f64</td><td>f64</td><td>f64</td><td>i8</td></tr></thead><tbody><tr><td>00:00:01</td><td>2023-07-19</td><td>3411478558</td><td>633951398</td><td>7471.56</td><td>&quot;UK pounds&quot;</td><td>&quot;UK pounds&quot;</td><td>&quot;UK&quot;</td><td>&quot;UK&quot;</td><td>&quot;Debit card&quot;</td><td>0</td><td>2023</td><td>7</td><td>19</td><td>3</td><td>200</td><td>0</td><td>0</td><td>1</td><td>0</td><td>0</td><td>0</td><td>0</td><td>1</td><td>33</td><td>1</td><td>96911.4</td><td>2.3034e6</td><td>13</td><td>1</td><td>7532.139327</td><td>0.030303</td><td>1.0</td><td>0.042073</td><td>0</td></tr><tr><td>00:00:09</td><td>2023-07-19</td><td>1037180571</td><td>8347314307</td><td>17651.18</td><td>&quot;Pakistani rupee&quot;</td><td>&quot;UK pounds&quot;</td><td>&quot;Pakistan&quot;</td><td>&quot;UK&quot;</td><td>&quot;Cross-border&quot;</td><td>0</td><td>2023</td><td>7</td><td>19</td><td>3</td><td>200</td><td>0</td><td>0</td><td>9</td><td>1</td><td>1</td><td>0</td><td>0</td><td>18</td><td>1</td><td>17</td><td>2.0053e6</td><td>210131.26</td><td>12</td><td>17</td><td>183.019534</td><td>18.0</td><td>1.058824</td><td>9.543232</td><td>0</td></tr><tr><td>00:00:14</td><td>2023-07-19</td><td>6697303689</td><td>9898512434</td><td>14453.42</td><td>&quot;UK pounds&quot;</td><td>&quot;UK pounds&quot;</td><td>&quot;UK&quot;</td><td>&quot;UK&quot;</td><td>&quot;Debit card&quot;</td><td>0</td><td>2023</td><td>7</td><td>19</td><td>3</td><td>200</td><td>0</td><td>0</td><td>14</td><td>0</td><td>0</td><td>0</td><td>0</td><td>1</td><td>22</td><td>1</td><td>188214.74</td><td>936502.04</td><td>13</td><td>1</td><td>5669.998704</td><td>0.045455</td><td>1.0</td><td>0.200976</td><td>0</td></tr><tr><td>00:00:21</td><td>2023-07-19</td><td>83270720</td><td>2007965319</td><td>1393.64</td><td>&quot;UK pounds&quot;</td><td>&quot;UK pounds&quot;</td><td>&quot;UK&quot;</td><td>&quot;UK&quot;</td><td>&quot;Debit card&quot;</td><td>0</td><td>2023</td><td>7</td><td>19</td><td>3</td><td>200</td><td>0</td><td>0</td><td>21</td><td>0</td><td>0</td><td>0</td><td>0</td><td>1</td><td>15</td><td>1</td><td>1393.64</td><td>76166.11</td><td>1</td><td>1</td><td>77071.2345</td><td>0.066667</td><td>1.0</td><td>0.018297</td><td>0</td></tr><tr><td>00:00:26</td><td>2023-07-19</td><td>2155777605</td><td>6006088732</td><td>14836.12</td><td>&quot;Turkish lira&quot;</td><td>&quot;UK pounds&quot;</td><td>&quot;UK&quot;</td><td>&quot;UK&quot;</td><td>&quot;Cheque&quot;</td><td>0</td><td>2023</td><td>7</td><td>19</td><td>3</td><td>200</td><td>0</td><td>0</td><td>26</td><td>1</td><td>0</td><td>0</td><td>0</td><td>1</td><td>20</td><td>1</td><td>14836.12</td><td>53332.15</td><td>1</td><td>1</td><td>4393.741746</td><td>0.05</td><td>1.0</td><td>0.278183</td><td>0</td></tr></tbody></table></div>"
            ]
          },
          "metadata": {},
          "execution_count": 37
        }
      ]
    },
    {
      "cell_type": "markdown",
      "source": [
        "**Training XGBoost model**\n",
        "\n",
        "From the hyperparameter-tuning process, the best combination is:\n",
        "- max_depth: 3\n",
        "- learning_rate: 0.1\n",
        "- subsample: 0.3 (1)"
      ],
      "metadata": {
        "id": "ahOx1C04rYHE"
      }
    },
    {
      "cell_type": "code",
      "source": [
        "opt_features = ['Amount', 'year', 'day_of_month', 'day_of_week',  'hour', 'minute', 'second',\n",
        "            'currency_mismatch', 'high_risk_sender', 'high_risk_receiver',\n",
        "            'fanin_30d', 'fanin_intensity_ratio', 'amount_dispersion_std',\n",
        "            'sent_to_received_ratio_monthly', 'back_and_forth_transfers',\n",
        "            'circular_transaction_count', 'Is_laundering']"
      ],
      "metadata": {
        "id": "qNWeNTxgspN9"
      },
      "execution_count": 38,
      "outputs": []
    },
    {
      "cell_type": "code",
      "source": [
        "# Configuration\n",
        "features = opt_features[:-1]\n",
        "target = opt_features[-1]\n",
        "early_stopping_rounds = 50\n",
        "num_boost_round = 500\n",
        "verbose_eval = False        # set to integer for logging every k rounds"
      ],
      "metadata": {
        "id": "whyHTi1lsu0T"
      },
      "execution_count": 39,
      "outputs": []
    },
    {
      "cell_type": "code",
      "source": [
        "# 1) Convert Polars -> NumPy once (casting to float32)\n",
        "#    Handle missing values and simple categorical encoding if needed.\n",
        "def polars_to_numpy_for_xgb(df_pl: pl.DataFrame, features, target):\n",
        "    # Ensure numeric features; cast numeric-like to Float32\n",
        "    X_df = df_pl.select([pl.col(c).cast(pl.Float32).alias(c) for c in features])\n",
        "    y_arr = df_pl.select(pl.col(target)).to_numpy().ravel()\n",
        "    X_arr = X_df.to_numpy()\n",
        "    return X_arr, y_arr\n",
        "\n",
        "X_train, y_train = polars_to_numpy_for_xgb(df_train, features, target)\n",
        "X_test, y_test = polars_to_numpy_for_xgb(df_test, features, target)"
      ],
      "metadata": {
        "id": "5ptOr16esh7d"
      },
      "execution_count": 40,
      "outputs": []
    },
    {
      "cell_type": "code",
      "source": [
        "# 2) Build DMatrix once per dataset (faster than rebuilding inside loop)\n",
        "dtrain = xgb.DMatrix(X_train, label=y_train, feature_names=features)\n",
        "dtest = xgb.DMatrix(X_test, label=y_test, feature_names=features)\n",
        "watchlist = [(dtrain, \"train\"), (dtest, \"eval\")]"
      ],
      "metadata": {
        "id": "NxEw-XvqtKcq"
      },
      "execution_count": 41,
      "outputs": []
    },
    {
      "cell_type": "code",
      "source": [
        "params = {\n",
        "        \"max_depth\": 3,\n",
        "        \"eta\": 0.1,                 # alias for learning_rate in xgb.train params\n",
        "        \"subsample\": 1,             #0.3,\n",
        "        \"objective\": \"binary:logistic\",\n",
        "        \"eval_metric\": \"logloss\",\n",
        "        \"seed\": 42,\n",
        "        \"verbosity\": 0,\n",
        "        \"nthread\": -1\n",
        "    }"
      ],
      "metadata": {
        "id": "EoFwhGNOr-V8"
      },
      "execution_count": 42,
      "outputs": []
    },
    {
      "cell_type": "code",
      "source": [
        "final_model = xgb.train(\n",
        "        params,\n",
        "        dtrain,\n",
        "        num_boost_round=num_boost_round,\n",
        "        evals=watchlist,\n",
        "        verbose_eval=verbose_eval\n",
        "    )"
      ],
      "metadata": {
        "id": "JtzTq_UNsJze"
      },
      "execution_count": 43,
      "outputs": []
    },
    {
      "cell_type": "code",
      "source": [
        "y_test"
      ],
      "metadata": {
        "colab": {
          "base_uri": "https://localhost:8080/"
        },
        "id": "74Sc9ImAwnkz",
        "outputId": "ea19bada-60a5-4233-e778-e9fa2bad922d"
      },
      "execution_count": 44,
      "outputs": [
        {
          "output_type": "execute_result",
          "data": {
            "text/plain": [
              "array([0, 0, 0, ..., 0, 0, 0], dtype=int8)"
            ]
          },
          "metadata": {},
          "execution_count": 44
        }
      ]
    },
    {
      "cell_type": "code",
      "source": [
        "preds_proba = final_model.predict(dtest)\n",
        "preds = (preds_proba > 0.5).astype(int)"
      ],
      "metadata": {
        "id": "5EhlaYHHtlgW"
      },
      "execution_count": 45,
      "outputs": []
    },
    {
      "cell_type": "code",
      "source": [
        "import matplotlib.pyplot as plt\n",
        "import seaborn as sns\n",
        "from sklearn.metrics import precision_recall_curve, auc, roc_curve, roc_auc_score, average_precision_score"
      ],
      "metadata": {
        "id": "vJZbf_C92TJs"
      },
      "execution_count": 46,
      "outputs": []
    },
    {
      "cell_type": "code",
      "source": [
        "# Confusion Matrix\n",
        "cm = confusion_matrix(y_test, preds)\n",
        "\n",
        "plt.figure(figsize=(8, 6))\n",
        "sns.heatmap(cm, annot=True, fmt='d', cmap='Blues',\n",
        "            xticklabels=['Normal', 'High-Risk'],\n",
        "            yticklabels=['Normal', 'High-Risk'])\n",
        "plt.title('Confusion Matrix - Test Set', fontsize=14, fontweight='bold')\n",
        "plt.ylabel('Actual')\n",
        "plt.xlabel('Predicted')\n",
        "plt.show()"
      ],
      "metadata": {
        "colab": {
          "base_uri": "https://localhost:8080/",
          "height": 565
        },
        "id": "OH6FDInbvKX6",
        "outputId": "f2e44c89-5385-4521-ce01-c468f3c41250"
      },
      "execution_count": 47,
      "outputs": [
        {
          "output_type": "display_data",
          "data": {
            "text/plain": [
              "<Figure size 800x600 with 2 Axes>"
            ],
            "image/png": "[encoded data removed]"
          },
          "metadata": {}
        }
      ]
    },
    {
      "cell_type": "code",
      "source": [
        "# Precision-Recall Curve\n",
        "precision, recall, thresholds_pr = precision_recall_curve(y_test, preds_proba)\n",
        "test_auc = auc(recall, precision)\n",
        "avg_prec = average_precision_score(y_test, preds_proba)\n",
        "\n",
        "\n",
        "plt.figure(figsize=(10, 6))\n",
        "plt.plot(recall, precision, linewidth=2, label=f'Average Precision = {avg_prec:.4f}')\n",
        "plt.xlabel('Recall', fontsize=12)\n",
        "plt.ylabel('Precision', fontsize=12)\n",
        "plt.title('Precision-Recall Curve', fontsize=14, fontweight='bold')\n",
        "plt.legend()\n",
        "plt.grid(alpha=0.3)\n",
        "plt.show()"
      ],
      "metadata": {
        "colab": {
          "base_uri": "https://localhost:8080/",
          "height": 569
        },
        "id": "vjJ86QJ5vSOY",
        "outputId": "f30cd54a-f56a-4263-d444-793958cd8d21"
      },
      "execution_count": 48,
      "outputs": [
        {
          "output_type": "display_data",
          "data": {
            "text/plain": [
              "<Figure size 1000x600 with 1 Axes>"
            ],
            "image/png": "[encoded data removed]"
          },
          "metadata": {}
        }
      ]
    },
    {
      "cell_type": "code",
      "source": [
        "# True Positve Rate - False Positive Rate\n",
        "fpr, tpr, thresholds = roc_curve(y_test, preds_proba)\n",
        "roc_auc = auc(fpr, tpr)\n",
        "\n",
        "plt.figure(figsize=(10, 6))\n",
        "plt.plot(fpr, tpr, linewidth=2, label=f'AUC-ROC = {roc_auc:.4f}')\n",
        "plt.xlabel('False Positive Rate', fontsize=12)\n",
        "plt.ylabel('True Positive Rate', fontsize=12)\n",
        "plt.title('ROC Curve', fontsize=14, fontweight='bold')\n",
        "plt.legend()\n",
        "plt.grid(alpha=0.3)\n",
        "plt.show()"
      ],
      "metadata": {
        "colab": {
          "base_uri": "https://localhost:8080/",
          "height": 569
        },
        "id": "zIUplIFQ7FWP",
        "outputId": "b5574549-33ce-4290-e27c-7b6f05e37a21"
      },
      "execution_count": 49,
      "outputs": [
        {
          "output_type": "display_data",
          "data": {
            "text/plain": [
              "<Figure size 1000x600 with 1 Axes>"
            ],
            "image/png": "[encoded data removed]"
          },
          "metadata": {}
        }
      ]
    },
    {
      "cell_type": "code",
      "source": [
        "preds"
      ],
      "metadata": {
        "colab": {
          "base_uri": "https://localhost:8080/"
        },
        "id": "qHA7zzZlwiH5",
        "outputId": "a80ed24c-613c-4f10-e195-6485c4489012"
      },
      "execution_count": 50,
      "outputs": [
        {
          "output_type": "execute_result",
          "data": {
            "text/plain": [
              "array([0, 0, 0, ..., 0, 0, 0])"
            ]
          },
          "metadata": {},
          "execution_count": 50
        }
      ]
    },
    {
      "cell_type": "code",
      "source": [
        "report_dict = classification_report(y_test, preds, output_dict=True)\n",
        "report_df = pd.DataFrame(report_dict)\n",
        "report_df"
      ],
      "metadata": {
        "colab": {
          "base_uri": "https://localhost:8080/",
          "height": 175
        },
        "id": "gEIxKwQMuhJv",
        "outputId": "305c12da-7f2d-46f0-b963-d792f043139b"
      },
      "execution_count": 51,
      "outputs": [
        {
          "output_type": "execute_result",
          "data": {
            "text/plain": [
              "                      0            1  accuracy     macro avg  weighted avg\n",
              "precision  9.992960e-01     0.787022  0.999172  8.931588e-01  9.990492e-01\n",
              "recall     9.998756e-01     0.394825  0.999172  6.973502e-01  9.991722e-01\n",
              "f1-score   9.995857e-01     0.525848  0.999172  7.627167e-01  9.990349e-01\n",
              "support    1.029190e+06  1198.000000  0.999172  1.030388e+06  1.030388e+06"
            ],
            "text/html": [
              "\n",
              "  <div id=\"df-7375a5e9-a6e8-4ae5-b37e-3b1d3da278d0\" class=\"colab-df-container\">\n",
              "    <div>\n",
              "<style scoped>\n",
              "    .dataframe tbody tr th:only-of-type {\n",
              "        vertical-align: middle;\n",
              "    }\n",
              "\n",
              "    .dataframe tbody tr th {\n",
              "        vertical-align: top;\n",
              "    }\n",
              "\n",
              "    .dataframe thead th {\n",
              "        text-align: right;\n",
              "    }\n",
              "</style>\n",
              "<table border=\"1\" class=\"dataframe\">\n",
              "  <thead>\n",
              "    <tr style=\"text-align: right;\">\n",
              "      <th></th>\n",
              "      <th>0</th>\n",
              "      <th>1</th>\n",
              "      <th>accuracy</th>\n",
              "      <th>macro avg</th>\n",
              "      <th>weighted avg</th>\n",
              "    </tr>\n",
              "  </thead>\n",
              "  <tbody>\n",
              "    <tr>\n",
              "      <th>precision</th>\n",
              "      <td>9.992960e-01</td>\n",
              "      <td>0.787022</td>\n",
              "      <td>0.999172</td>\n",
              "      <td>8.931588e-01</td>\n",
              "      <td>9.990492e-01</td>\n",
              "    </tr>\n",
              "    <tr>\n",
              "      <th>recall</th>\n",
              "      <td>9.998756e-01</td>\n",
              "      <td>0.394825</td>\n",
              "      <td>0.999172</td>\n",
              "      <td>6.973502e-01</td>\n",
              "      <td>9.991722e-01</td>\n",
              "    </tr>\n",
              "    <tr>\n",
              "      <th>f1-score</th>\n",
              "      <td>9.995857e-01</td>\n",
              "      <td>0.525848</td>\n",
              "      <td>0.999172</td>\n",
              "      <td>7.627167e-01</td>\n",
              "      <td>9.990349e-01</td>\n",
              "    </tr>\n",
              "    <tr>\n",
              "      <th>support</th>\n",
              "      <td>1.029190e+06</td>\n",
              "      <td>1198.000000</td>\n",
              "      <td>0.999172</td>\n",
              "      <td>1.030388e+06</td>\n",
              "      <td>1.030388e+06</td>\n",
              "    </tr>\n",
              "  </tbody>\n",
              "</table>\n",
              "</div>\n",
              "    <div class=\"colab-df-buttons\">\n",
              "\n",
              "  <div class=\"colab-df-container\">\n",
              "    <button class=\"colab-df-convert\" onclick=\"convertToInteractive('df-7375a5e9-a6e8-4ae5-b37e-3b1d3da278d0')\"\n",
              "            title=\"Convert this dataframe to an interactive table.\"\n",
              "            style=\"display:none;\">\n",
              "\n",
              "  <svg xmlns=\"http://www.w3.org/2000/svg\" height=\"24px\" viewBox=\"0 -960 960 960\">\n",
              "    <path d=\"M120-120v-720h720v720H120Zm60-500h600v-160H180v160Zm220 220h160v-160H400v160Zm0 220h160v-160H400v160ZM180-400h160v-160H180v160Zm440 0h160v-160H620v160ZM180-180h160v-160H180v160Zm440 0h160v-160H620v160Z\"/>\n",
              "  </svg>\n",
              "    </button>\n",
              "\n",
              "  <style>\n",
              "    .colab-df-container {\n",
              "      display:flex;\n",
              "      gap: 12px;\n",
              "    }\n",
              "\n",
              "    .colab-df-convert {\n",
              "      background-color: #E8F0FE;\n",
              "      border: none;\n",
              "      border-radius: 50%;\n",
              "      cursor: pointer;\n",
              "      display: none;\n",
              "      fill: #1967D2;\n",
              "      height: 32px;\n",
              "      padding: 0 0 0 0;\n",
              "      width: 32px;\n",
              "    }\n",
              "\n",
              "    .colab-df-convert:hover {\n",
              "      background-color: #E2EBFA;\n",
              "      box-shadow: 0px 1px 2px rgba(60, 64, 67, 0.3), 0px 1px 3px 1px rgba(60, 64, 67, 0.15);\n",
              "      fill: #174EA6;\n",
              "    }\n",
              "\n",
              "    .colab-df-buttons div {\n",
              "      margin-bottom: 4px;\n",
              "    }\n",
              "\n",
              "    [theme=dark] .colab-df-convert {\n",
              "      background-color: #3B4455;\n",
              "      fill: #D2E3FC;\n",
              "    }\n",
              "\n",
              "    [theme=dark] .colab-df-convert:hover {\n",
              "      background-color: #434B5C;\n",
              "      box-shadow: 0px 1px 3px 1px rgba(0, 0, 0, 0.15);\n",
              "      filter: drop-shadow(0px 1px 2px rgba(0, 0, 0, 0.3));\n",
              "      fill: #FFFFFF;\n",
              "    }\n",
              "  </style>\n",
              "\n",
              "    <script>\n",
              "      const buttonEl =\n",
              "        document.querySelector('#df-7375a5e9-a6e8-4ae5-b37e-3b1d3da278d0 button.colab-df-convert');\n",
              "      buttonEl.style.display =\n",
              "        google.colab.kernel.accessAllowed ? 'block' : 'none';\n",
              "\n",
              "      async function convertToInteractive(key) {\n",
              "        const element = document.querySelector('#df-7375a5e9-a6e8-4ae5-b37e-3b1d3da278d0');\n",
              "        const dataTable =\n",
              "          await google.colab.kernel.invokeFunction('convertToInteractive',\n",
              "                                                    [key], {});\n",
              "        if (!dataTable) return;\n",
              "\n",
              "        const docLinkHtml = 'Like what you see? Visit the ' +\n",
              "          '<a target=\"_blank\" href=https://colab.research.google.com/notebooks/data_table.ipynb>data table notebook</a>'\n",
              "          + ' to learn more about interactive tables.';\n",
              "        element.innerHTML = '';\n",
              "        dataTable['output_type'] = 'display_data';\n",
              "        await google.colab.output.renderOutput(dataTable, element);\n",
              "        const docLink = document.createElement('div');\n",
              "        docLink.innerHTML = docLinkHtml;\n",
              "        element.appendChild(docLink);\n",
              "      }\n",
              "    </script>\n",
              "  </div>\n",
              "\n",
              "\n",
              "    <div id=\"df-a9f62c0d-e7ac-4a15-9b45-d5b30f2171c9\">\n",
              "      <button class=\"colab-df-quickchart\" onclick=\"quickchart('df-a9f62c0d-e7ac-4a15-9b45-d5b30f2171c9')\"\n",
              "                title=\"Suggest charts\"\n",
              "                style=\"display:none;\">\n",
              "\n",
              "<svg xmlns=\"http://www.w3.org/2000/svg\" height=\"24px\"viewBox=\"0 0 24 24\"\n",
              "     width=\"24px\">\n",
              "    <g>\n",
              "        <path d=\"M19 3H5c-1.1 0-2 .9-2 2v14c0 1.1.9 2 2 2h14c1.1 0 2-.9 2-2V5c0-1.1-.9-2-2-2zM9 17H7v-7h2v7zm4 0h-2V7h2v10zm4 0h-2v-4h2v4z\"/>\n",
              "    </g>\n",
              "</svg>\n",
              "      </button>\n",
              "\n",
              "<style>\n",
              "  .colab-df-quickchart {\n",
              "      --bg-color: #E8F0FE;\n",
              "      --fill-color: #1967D2;\n",
              "      --hover-bg-color: #E2EBFA;\n",
              "      --hover-fill-color: #174EA6;\n",
              "      --disabled-fill-color: #AAA;\n",
              "      --disabled-bg-color: #DDD;\n",
              "  }\n",
              "\n",
              "  [theme=dark] .colab-df-quickchart {\n",
              "      --bg-color: #3B4455;\n",
              "      --fill-color: #D2E3FC;\n",
              "      --hover-bg-color: #434B5C;\n",
              "      --hover-fill-color: #FFFFFF;\n",
              "      --disabled-bg-color: #3B4455;\n",
              "      --disabled-fill-color: #666;\n",
              "  }\n",
              "\n",
              "  .colab-df-quickchart {\n",
              "    background-color: var(--bg-color);\n",
              "    border: none;\n",
              "    border-radius: 50%;\n",
              "    cursor: pointer;\n",
              "    display: none;\n",
              "    fill: var(--fill-color);\n",
              "    height: 32px;\n",
              "    padding: 0;\n",
              "    width: 32px;\n",
              "  }\n",
              "\n",
              "  .colab-df-quickchart:hover {\n",
              "    background-color: var(--hover-bg-color);\n",
              "    box-shadow: 0 1px 2px rgba(60, 64, 67, 0.3), 0 1px 3px 1px rgba(60, 64, 67, 0.15);\n",
              "    fill: var(--button-hover-fill-color);\n",
              "  }\n",
              "\n",
              "  .colab-df-quickchart-complete:disabled,\n",
              "  .colab-df-quickchart-complete:disabled:hover {\n",
              "    background-color: var(--disabled-bg-color);\n",
              "    fill: var(--disabled-fill-color);\n",
              "    box-shadow: none;\n",
              "  }\n",
              "\n",
              "  .colab-df-spinner {\n",
              "    border: 2px solid var(--fill-color);\n",
              "    border-color: transparent;\n",
              "    border-bottom-color: var(--fill-color);\n",
              "    animation:\n",
              "      spin 1s steps(1) infinite;\n",
              "  }\n",
              "\n",
              "  @keyframes spin {\n",
              "    0% {\n",
              "      border-color: transparent;\n",
              "      border-bottom-color: var(--fill-color);\n",
              "      border-left-color: var(--fill-color);\n",
              "    }\n",
              "    20% {\n",
              "      border-color: transparent;\n",
              "      border-left-color: var(--fill-color);\n",
              "      border-top-color: var(--fill-color);\n",
              "    }\n",
              "    30% {\n",
              "      border-color: transparent;\n",
              "      border-left-color: var(--fill-color);\n",
              "      border-top-color: var(--fill-color);\n",
              "      border-right-color: var(--fill-color);\n",
              "    }\n",
              "    40% {\n",
              "      border-color: transparent;\n",
              "      border-right-color: var(--fill-color);\n",
              "      border-top-color: var(--fill-color);\n",
              "    }\n",
              "    60% {\n",
              "      border-color: transparent;\n",
              "      border-right-color: var(--fill-color);\n",
              "    }\n",
              "    80% {\n",
              "      border-color: transparent;\n",
              "      border-right-color: var(--fill-color);\n",
              "      border-bottom-color: var(--fill-color);\n",
              "    }\n",
              "    90% {\n",
              "      border-color: transparent;\n",
              "      border-bottom-color: var(--fill-color);\n",
              "    }\n",
              "  }\n",
              "</style>\n",
              "\n",
              "      <script>\n",
              "        async function quickchart(key) {\n",
              "          const quickchartButtonEl =\n",
              "            document.querySelector('#' + key + ' button');\n",
              "          quickchartButtonEl.disabled = true;  // To prevent multiple clicks.\n",
              "          quickchartButtonEl.classList.add('colab-df-spinner');\n",
              "          try {\n",
              "            const charts = await google.colab.kernel.invokeFunction(\n",
              "                'suggestCharts', [key], {});\n",
              "          } catch (error) {\n",
              "            console.error('Error during call to suggestCharts:', error);\n",
              "          }\n",
              "          quickchartButtonEl.classList.remove('colab-df-spinner');\n",
              "          quickchartButtonEl.classList.add('colab-df-quickchart-complete');\n",
              "        }\n",
              "        (() => {\n",
              "          let quickchartButtonEl =\n",
              "            document.querySelector('#df-a9f62c0d-e7ac-4a15-9b45-d5b30f2171c9 button');\n",
              "          quickchartButtonEl.style.display =\n",
              "            google.colab.kernel.accessAllowed ? 'block' : 'none';\n",
              "        })();\n",
              "      </script>\n",
              "    </div>\n",
              "\n",
              "  <div id=\"id_044f94f6-5445-4cfb-9649-bfc20fbef3f0\">\n",
              "    <style>\n",
              "      .colab-df-generate {\n",
              "        background-color: #E8F0FE;\n",
              "        border: none;\n",
              "        border-radius: 50%;\n",
              "        cursor: pointer;\n",
              "        display: none;\n",
              "        fill: #1967D2;\n",
              "        height: 32px;\n",
              "        padding: 0 0 0 0;\n",
              "        width: 32px;\n",
              "      }\n",
              "\n",
              "      .colab-df-generate:hover {\n",
              "        background-color: #E2EBFA;\n",
              "        box-shadow: 0px 1px 2px rgba(60, 64, 67, 0.3), 0px 1px 3px 1px rgba(60, 64, 67, 0.15);\n",
              "        fill: #174EA6;\n",
              "      }\n",
              "\n",
              "      [theme=dark] .colab-df-generate {\n",
              "        background-color: #3B4455;\n",
              "        fill: #D2E3FC;\n",
              "      }\n",
              "\n",
              "      [theme=dark] .colab-df-generate:hover {\n",
              "        background-color: #434B5C;\n",
              "        box-shadow: 0px 1px 3px 1px rgba(0, 0, 0, 0.15);\n",
              "        filter: drop-shadow(0px 1px 2px rgba(0, 0, 0, 0.3));\n",
              "        fill: #FFFFFF;\n",
              "      }\n",
              "    </style>\n",
              "    <button class=\"colab-df-generate\" onclick=\"generateWithVariable('report_df')\"\n",
              "            title=\"Generate code using this dataframe.\"\n",
              "            style=\"display:none;\">\n",
              "\n",
              "  <svg xmlns=\"http://www.w3.org/2000/svg\" height=\"24px\"viewBox=\"0 0 24 24\"\n",
              "       width=\"24px\">\n",
              "    <path d=\"M7,19H8.4L18.45,9,17,7.55,7,17.6ZM5,21V16.75L18.45,3.32a2,2,0,0,1,2.83,0l1.4,1.43a1.91,1.91,0,0,1,.58,1.4,1.91,1.91,0,0,1-.58,1.4L9.25,21ZM18.45,9,17,7.55Zm-12,3A5.31,5.31,0,0,0,4.9,8.1,5.31,5.31,0,0,0,1,6.5,5.31,5.31,0,0,0,4.9,4.9,5.31,5.31,0,0,0,6.5,1,5.31,5.31,0,0,0,8.1,4.9,5.31,5.31,0,0,0,12,6.5,5.46,5.46,0,0,0,6.5,12Z\"/>\n",
              "  </svg>\n",
              "    </button>\n",
              "    <script>\n",
              "      (() => {\n",
              "      const buttonEl =\n",
              "        document.querySelector('#id_044f94f6-5445-4cfb-9649-bfc20fbef3f0 button.colab-df-generate');\n",
              "      buttonEl.style.display =\n",
              "        google.colab.kernel.accessAllowed ? 'block' : 'none';\n",
              "\n",
              "      buttonEl.onclick = () => {\n",
              "        google.colab.notebook.generateWithVariable('report_df');\n",
              "      }\n",
              "      })();\n",
              "    </script>\n",
              "  </div>\n",
              "\n",
              "    </div>\n",
              "  </div>\n"
            ],
            "application/vnd.google.colaboratory.intrinsic+json": {
              "type": "dataframe",
              "variable_name": "report_df",
              "summary": "{\n  \"name\": \"report_df\",\n  \"rows\": 4,\n  \"fields\": [\n    {\n      \"column\": \"0\",\n      \"properties\": {\n        \"dtype\": \"number\",\n        \"std\": 514594.50020711374,\n        \"min\": 0.9992959709143736,\n        \"max\": 1029190.0,\n        \"num_unique_values\": 4,\n        \"samples\": [\n          0.9998756303500811,\n          1029190.0,\n          0.9992959709143736\n        ],\n        \"semantic_type\": \"\",\n        \"description\": \"\"\n      }\n    },\n    {\n      \"column\": \"1\",\n      \"properties\": {\n        \"dtype\": \"number\",\n        \"std\": 598.7154065234788,\n        \"min\": 0.39482470784641066,\n        \"max\": 1198.0,\n        \"num_unique_values\": 4,\n        \"samples\": [\n          0.39482470784641066,\n          1198.0,\n          0.7870216306156406\n        ],\n        \"semantic_type\": \"\",\n        \"description\": \"\"\n      }\n    },\n    {\n      \"column\": \"accuracy\",\n      \"properties\": {\n        \"dtype\": \"number\",\n        \"std\": 0.0,\n        \"min\": 0.9991721565080338,\n        \"max\": 0.9991721565080338,\n        \"num_unique_values\": 1,\n        \"samples\": [\n          0.9991721565080338\n        ],\n        \"semantic_type\": \"\",\n        \"description\": \"\"\n      }\n    },\n    {\n      \"column\": \"macro avg\",\n      \"properties\": {\n        \"dtype\": \"number\",\n        \"std\": 515193.6077957273,\n        \"min\": 0.6973501690982459,\n        \"max\": 1030388.0,\n        \"num_unique_values\": 4,\n        \"samples\": [\n          0.6973501690982459\n        ],\n        \"semantic_type\": \"\",\n        \"description\": \"\"\n      }\n    },\n    {\n      \"column\": \"weighted avg\",\n      \"properties\": {\n        \"dtype\": \"number\",\n        \"std\": 515193.5004572935,\n        \"min\": 0.999034916167507,\n        \"max\": 1030388.0,\n        \"num_unique_values\": 4,\n        \"samples\": [\n          0.9991721565080338\n        ],\n        \"semantic_type\": \"\",\n        \"description\": \"\"\n      }\n    }\n  ]\n}"
            }
          },
          "metadata": {},
          "execution_count": 51
        }
      ]
    },
    {
      "cell_type": "markdown",
      "source": [
        "**Shap**"
      ],
      "metadata": {
        "id": "qYMvYxNGyab_"
      }
    },
    {
      "cell_type": "code",
      "source": [
        "import shap"
      ],
      "metadata": {
        "id": "nh6vOQnowgvz"
      },
      "execution_count": 52,
      "outputs": []
    },
    {
      "cell_type": "code",
      "source": [
        "explainer = shap.TreeExplainer(final_model)"
      ],
      "metadata": {
        "id": "mstRVj5jycBR"
      },
      "execution_count": 53,
      "outputs": []
    },
    {
      "cell_type": "code",
      "source": [
        "shap_values = explainer.shap_values(X_test)\n",
        "expected_value = explainer.expected_value"
      ],
      "metadata": {
        "id": "K5ynWehezBvF"
      },
      "execution_count": 54,
      "outputs": []
    },
    {
      "cell_type": "code",
      "source": [
        "shap.summary_plot(shap_values, X_test, feature_names=opt_features[:-1])"
      ],
      "metadata": {
        "id": "LScB-VdUzGH9",
        "colab": {
          "base_uri": "https://localhost:8080/",
          "height": 797
        },
        "outputId": "f94229c5-f3bb-4436-f582-6fb7a493757e"
      },
      "execution_count": 55,
      "outputs": [
        {
          "output_type": "display_data",
          "data": {
            "text/plain": [
              "<Figure size 800x790 with 2 Axes>"
            ],
            "image/png": "[encoded data removed]"
          },
          "metadata": {}
        }
      ]
    },
    {
      "cell_type": "code",
      "source": [],
      "metadata": {
        "id": "MrUmXJ9F1dxY"
      },
      "execution_count": 55,
      "outputs": []
    }
  ]
}