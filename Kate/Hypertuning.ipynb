{
  "nbformat": 4,
  "nbformat_minor": 0,
  "metadata": {
    "colab": {
      "provenance": []
    },
    "kernelspec": {
      "name": "python3",
      "display_name": "Python 3"
    },
    "language_info": {
      "name": "python"
    }
  },
  "cells": [
    {
      "cell_type": "markdown",
      "source": [
        "**Import data from Kaggle**"
      ],
      "metadata": {
        "id": "F9TFF-wHxD60"
      }
    },
    {
      "cell_type": "code",
      "execution_count": 1,
      "metadata": {
        "colab": {
          "base_uri": "https://localhost:8080/",
          "height": 91
        },
        "id": "ZuCwQt6UwN0U",
        "outputId": "2bc0d52d-517c-495c-edc6-f65d119a6271"
      },
      "outputs": [
        {
          "output_type": "display_data",
          "data": {
            "text/plain": [
              "<IPython.core.display.HTML object>"
            ],
            "text/html": [
              "\n",
              "     <input type=\"file\" id=\"files-67b0bad1-eb82-4b70-92ab-c28d8e015685\" name=\"files[]\" multiple disabled\n",
              "        style=\"border:none\" />\n",
              "     <output id=\"result-67b0bad1-eb82-4b70-92ab-c28d8e015685\">\n",
              "      Upload widget is only available when the cell has been executed in the\n",
              "      current browser session. Please rerun this cell to enable.\n",
              "      </output>\n",
              "      <script>// Copyright 2017 Google LLC\n",
              "//\n",
              "// Licensed under the Apache License, Version 2.0 (the \"License\");\n",
              "// you may not use this file except in compliance with the License.\n",
              "// You may obtain a copy of the License at\n",
              "//\n",
              "//      http://www.apache.org/licenses/LICENSE-2.0\n",
              "//\n",
              "// Unless required by applicable law or agreed to in writing, software\n",
              "// distributed under the License is distributed on an \"AS IS\" BASIS,\n",
              "// WITHOUT WARRANTIES OR CONDITIONS OF ANY KIND, either express or implied.\n",
              "// See the License for the specific language governing permissions and\n",
              "// limitations under the License.\n",
              "\n",
              "/**\n",
              " * @fileoverview Helpers for google.colab Python module.\n",
              " */\n",
              "(function(scope) {\n",
              "function span(text, styleAttributes = {}) {\n",
              "  const element = document.createElement('span');\n",
              "  element.textContent = text;\n",
              "  for (const key of Object.keys(styleAttributes)) {\n",
              "    element.style[key] = styleAttributes[key];\n",
              "  }\n",
              "  return element;\n",
              "}\n",
              "\n",
              "// Max number of bytes which will be uploaded at a time.\n",
              "const MAX_PAYLOAD_SIZE = 100 * 1024;\n",
              "\n",
              "function _uploadFiles(inputId, outputId) {\n",
              "  const steps = uploadFilesStep(inputId, outputId);\n",
              "  const outputElement = document.getElementById(outputId);\n",
              "  // Cache steps on the outputElement to make it available for the next call\n",
              "  // to uploadFilesContinue from Python.\n",
              "  outputElement.steps = steps;\n",
              "\n",
              "  return _uploadFilesContinue(outputId);\n",
              "}\n",
              "\n",
              "// This is roughly an async generator (not supported in the browser yet),\n",
              "// where there are multiple asynchronous steps and the Python side is going\n",
              "// to poll for completion of each step.\n",
              "// This uses a Promise to block the python side on completion of each step,\n",
              "// then passes the result of the previous step as the input to the next step.\n",
              "function _uploadFilesContinue(outputId) {\n",
              "  const outputElement = document.getElementById(outputId);\n",
              "  const steps = outputElement.steps;\n",
              "\n",
              "  const next = steps.next(outputElement.lastPromiseValue);\n",
              "  return Promise.resolve(next.value.promise).then((value) => {\n",
              "    // Cache the last promise value to make it available to the next\n",
              "    // step of the generator.\n",
              "    outputElement.lastPromiseValue = value;\n",
              "    return next.value.response;\n",
              "  });\n",
              "}\n",
              "\n",
              "/**\n",
              " * Generator function which is called between each async step of the upload\n",
              " * process.\n",
              " * @param {string} inputId Element ID of the input file picker element.\n",
              " * @param {string} outputId Element ID of the output display.\n",
              " * @return {!Iterable<!Object>} Iterable of next steps.\n",
              " */\n",
              "function* uploadFilesStep(inputId, outputId) {\n",
              "  const inputElement = document.getElementById(inputId);\n",
              "  inputElement.disabled = false;\n",
              "\n",
              "  const outputElement = document.getElementById(outputId);\n",
              "  outputElement.innerHTML = '';\n",
              "\n",
              "  const pickedPromise = new Promise((resolve) => {\n",
              "    inputElement.addEventListener('change', (e) => {\n",
              "      resolve(e.target.files);\n",
              "    });\n",
              "  });\n",
              "\n",
              "  const cancel = document.createElement('button');\n",
              "  inputElement.parentElement.appendChild(cancel);\n",
              "  cancel.textContent = 'Cancel upload';\n",
              "  const cancelPromise = new Promise((resolve) => {\n",
              "    cancel.onclick = () => {\n",
              "      resolve(null);\n",
              "    };\n",
              "  });\n",
              "\n",
              "  // Wait for the user to pick the files.\n",
              "  const files = yield {\n",
              "    promise: Promise.race([pickedPromise, cancelPromise]),\n",
              "    response: {\n",
              "      action: 'starting',\n",
              "    }\n",
              "  };\n",
              "\n",
              "  cancel.remove();\n",
              "\n",
              "  // Disable the input element since further picks are not allowed.\n",
              "  inputElement.disabled = true;\n",
              "\n",
              "  if (!files) {\n",
              "    return {\n",
              "      response: {\n",
              "        action: 'complete',\n",
              "      }\n",
              "    };\n",
              "  }\n",
              "\n",
              "  for (const file of files) {\n",
              "    const li = document.createElement('li');\n",
              "    li.append(span(file.name, {fontWeight: 'bold'}));\n",
              "    li.append(span(\n",
              "        `(${file.type || 'n/a'}) - ${file.size} bytes, ` +\n",
              "        `last modified: ${\n",
              "            file.lastModifiedDate ? file.lastModifiedDate.toLocaleDateString() :\n",
              "                                    'n/a'} - `));\n",
              "    const percent = span('0% done');\n",
              "    li.appendChild(percent);\n",
              "\n",
              "    outputElement.appendChild(li);\n",
              "\n",
              "    const fileDataPromise = new Promise((resolve) => {\n",
              "      const reader = new FileReader();\n",
              "      reader.onload = (e) => {\n",
              "        resolve(e.target.result);\n",
              "      };\n",
              "      reader.readAsArrayBuffer(file);\n",
              "    });\n",
              "    // Wait for the data to be ready.\n",
              "    let fileData = yield {\n",
              "      promise: fileDataPromise,\n",
              "      response: {\n",
              "        action: 'continue',\n",
              "      }\n",
              "    };\n",
              "\n",
              "    // Use a chunked sending to avoid message size limits. See b/62115660.\n",
              "    let position = 0;\n",
              "    do {\n",
              "      const length = Math.min(fileData.byteLength - position, MAX_PAYLOAD_SIZE);\n",
              "      const chunk = new Uint8Array(fileData, position, length);\n",
              "      position += length;\n",
              "\n",
              "      const base64 = btoa(String.fromCharCode.apply(null, chunk));\n",
              "      yield {\n",
              "        response: {\n",
              "          action: 'append',\n",
              "          file: file.name,\n",
              "          data: base64,\n",
              "        },\n",
              "      };\n",
              "\n",
              "      let percentDone = fileData.byteLength === 0 ?\n",
              "          100 :\n",
              "          Math.round((position / fileData.byteLength) * 100);\n",
              "      percent.textContent = `${percentDone}% done`;\n",
              "\n",
              "    } while (position < fileData.byteLength);\n",
              "  }\n",
              "\n",
              "  // All done.\n",
              "  yield {\n",
              "    response: {\n",
              "      action: 'complete',\n",
              "    }\n",
              "  };\n",
              "}\n",
              "\n",
              "scope.google = scope.google || {};\n",
              "scope.google.colab = scope.google.colab || {};\n",
              "scope.google.colab._files = {\n",
              "  _uploadFiles,\n",
              "  _uploadFilesContinue,\n",
              "};\n",
              "})(self);\n",
              "</script> "
            ]
          },
          "metadata": {}
        },
        {
          "output_type": "stream",
          "name": "stdout",
          "text": [
            "Saving kaggle.json to kaggle.json\n"
          ]
        },
        {
          "output_type": "execute_result",
          "data": {
            "text/plain": [
              "{'kaggle.json': b'{\"username\":\"phuongkhanh21\",\"key\":\"0fd6eb70e1509aad441adeb76f0dfff2\"}'}"
            ]
          },
          "metadata": {},
          "execution_count": 1
        }
      ],
      "source": [
        "from google.colab import files\n",
        "files.upload()"
      ]
    },
    {
      "cell_type": "code",
      "source": [
        "import os\n",
        "os.makedirs('/root/.kaggle', exist_ok=True)\n",
        "!mv kaggle.json /root/.kaggle/\n",
        "!chmod 600 /root/.kaggle/kaggle.json\n",
        "\n",
        "!kaggle datasets download -d berkanoztas/synthetic-transaction-monitoring-dataset-aml\n",
        "\n",
        "import zipfile\n",
        "\n",
        "with zipfile.ZipFile(\"synthetic-transaction-monitoring-dataset-aml.zip\", 'r') as zip_ref:\n",
        "    zip_ref.extractall(\"synthetic_transaction_data\")"
      ],
      "metadata": {
        "colab": {
          "base_uri": "https://localhost:8080/"
        },
        "id": "7Z57LoIHxCxf",
        "outputId": "7f01a8cb-b3cf-48f8-9e90-ff81cf6a1fab"
      },
      "execution_count": 2,
      "outputs": [
        {
          "output_type": "stream",
          "name": "stdout",
          "text": [
            "Dataset URL: https://www.kaggle.com/datasets/berkanoztas/synthetic-transaction-monitoring-dataset-aml\n",
            "License(s): CC-BY-NC-SA-4.0\n",
            "synthetic-transaction-monitoring-dataset-aml.zip: Skipping, found more recently modified local copy (use --force to force download)\n"
          ]
        }
      ]
    },
    {
      "cell_type": "code",
      "source": [
        "import pandas as pd\n",
        "import polars as pl\n",
        "from datetime import timedelta"
      ],
      "metadata": {
        "id": "GuiNZw7sxVZ-"
      },
      "execution_count": 3,
      "outputs": []
    },
    {
      "cell_type": "code",
      "source": [
        "\n",
        "os.listdir(\"synthetic_transaction_data\")\n",
        "df = pl.read_csv(\"synthetic_transaction_data/SAML-D.csv\")\n",
        "df.head(5)"
      ],
      "metadata": {
        "colab": {
          "base_uri": "https://localhost:8080/",
          "height": 361
        },
        "id": "fNfTVscTxTJH",
        "outputId": "33d52cde-342f-49d5-a462-30c4ea2e0112"
      },
      "execution_count": 4,
      "outputs": [
        {
          "output_type": "execute_result",
          "data": {
            "text/plain": [
              "shape: (5, 12)\n",
              "┌──────────┬───────────┬───────────┬───────────┬───┬───────────┬───────────┬───────────┬───────────┐\n",
              "│ Time     ┆ Date      ┆ Sender_ac ┆ Receiver_ ┆ … ┆ Receiver_ ┆ Payment_t ┆ Is_launde ┆ Launderin │\n",
              "│ ---      ┆ ---       ┆ count     ┆ account   ┆   ┆ bank_loca ┆ ype       ┆ ring      ┆ g_type    │\n",
              "│ str      ┆ str       ┆ ---       ┆ ---       ┆   ┆ tion      ┆ ---       ┆ ---       ┆ ---       │\n",
              "│          ┆           ┆ i64       ┆ i64       ┆   ┆ ---       ┆ str       ┆ i64       ┆ str       │\n",
              "│          ┆           ┆           ┆           ┆   ┆ str       ┆           ┆           ┆           │\n",
              "╞══════════╪═══════════╪═══════════╪═══════════╪═══╪═══════════╪═══════════╪═══════════╪═══════════╡\n",
              "│ 10:35:19 ┆ 2022-10-0 ┆ 872473195 ┆ 276935542 ┆ … ┆ UK        ┆ Cash      ┆ 0         ┆ Normal_Ca │\n",
              "│          ┆ 7         ┆ 5         ┆ 6         ┆   ┆           ┆ Deposit   ┆           ┆ sh_Deposi │\n",
              "│          ┆           ┆           ┆           ┆   ┆           ┆           ┆           ┆ ts        │\n",
              "│ 10:35:20 ┆ 2022-10-0 ┆ 149198906 ┆ 840125533 ┆ … ┆ UAE       ┆ Cross-bor ┆ 0         ┆ Normal_Fa │\n",
              "│          ┆ 7         ┆ 4         ┆ 5         ┆   ┆           ┆ der       ┆           ┆ n_Out     │\n",
              "│ 10:35:20 ┆ 2022-10-0 ┆ 287305149 ┆ 440476700 ┆ … ┆ UK        ┆ Cheque    ┆ 0         ┆ Normal_Sm │\n",
              "│          ┆ 7         ┆           ┆ 2         ┆   ┆           ┆           ┆           ┆ all_Fan_O │\n",
              "│          ┆           ┆           ┆           ┆   ┆           ┆           ┆           ┆ ut        │\n",
              "│ 10:35:21 ┆ 2022-10-0 ┆ 537665243 ┆ 960042022 ┆ … ┆ UK        ┆ ACH       ┆ 0         ┆ Normal_Fa │\n",
              "│          ┆ 7         ┆ 7         ┆ 0         ┆   ┆           ┆           ┆           ┆ n_In      │\n",
              "│ 10:35:21 ┆ 2022-10-0 ┆ 961418617 ┆ 380333697 ┆ … ┆ UK        ┆ Cash      ┆ 0         ┆ Normal_Ca │\n",
              "│          ┆ 7         ┆ 8         ┆ 2         ┆   ┆           ┆ Deposit   ┆           ┆ sh_Deposi │\n",
              "│          ┆           ┆           ┆           ┆   ┆           ┆           ┆           ┆ ts        │\n",
              "└──────────┴───────────┴───────────┴───────────┴───┴───────────┴───────────┴───────────┴───────────┘"
            ],
            "text/html": [
              "<div><style>\n",
              ".dataframe > thead > tr,\n",
              ".dataframe > tbody > tr {\n",
              "  text-align: right;\n",
              "  white-space: pre-wrap;\n",
              "}\n",
              "</style>\n",
              "<small>shape: (5, 12)</small><table border=\"1\" class=\"dataframe\"><thead><tr><th>Time</th><th>Date</th><th>Sender_account</th><th>Receiver_account</th><th>Amount</th><th>Payment_currency</th><th>Received_currency</th><th>Sender_bank_location</th><th>Receiver_bank_location</th><th>Payment_type</th><th>Is_laundering</th><th>Laundering_type</th></tr><tr><td>str</td><td>str</td><td>i64</td><td>i64</td><td>f64</td><td>str</td><td>str</td><td>str</td><td>str</td><td>str</td><td>i64</td><td>str</td></tr></thead><tbody><tr><td>&quot;10:35:19&quot;</td><td>&quot;2022-10-07&quot;</td><td>8724731955</td><td>2769355426</td><td>1459.15</td><td>&quot;UK pounds&quot;</td><td>&quot;UK pounds&quot;</td><td>&quot;UK&quot;</td><td>&quot;UK&quot;</td><td>&quot;Cash Deposit&quot;</td><td>0</td><td>&quot;Normal_Cash_Deposits&quot;</td></tr><tr><td>&quot;10:35:20&quot;</td><td>&quot;2022-10-07&quot;</td><td>1491989064</td><td>8401255335</td><td>6019.64</td><td>&quot;UK pounds&quot;</td><td>&quot;Dirham&quot;</td><td>&quot;UK&quot;</td><td>&quot;UAE&quot;</td><td>&quot;Cross-border&quot;</td><td>0</td><td>&quot;Normal_Fan_Out&quot;</td></tr><tr><td>&quot;10:35:20&quot;</td><td>&quot;2022-10-07&quot;</td><td>287305149</td><td>4404767002</td><td>14328.44</td><td>&quot;UK pounds&quot;</td><td>&quot;UK pounds&quot;</td><td>&quot;UK&quot;</td><td>&quot;UK&quot;</td><td>&quot;Cheque&quot;</td><td>0</td><td>&quot;Normal_Small_Fan_Out&quot;</td></tr><tr><td>&quot;10:35:21&quot;</td><td>&quot;2022-10-07&quot;</td><td>5376652437</td><td>9600420220</td><td>11895.0</td><td>&quot;UK pounds&quot;</td><td>&quot;UK pounds&quot;</td><td>&quot;UK&quot;</td><td>&quot;UK&quot;</td><td>&quot;ACH&quot;</td><td>0</td><td>&quot;Normal_Fan_In&quot;</td></tr><tr><td>&quot;10:35:21&quot;</td><td>&quot;2022-10-07&quot;</td><td>9614186178</td><td>3803336972</td><td>115.25</td><td>&quot;UK pounds&quot;</td><td>&quot;UK pounds&quot;</td><td>&quot;UK&quot;</td><td>&quot;UK&quot;</td><td>&quot;Cash Deposit&quot;</td><td>0</td><td>&quot;Normal_Cash_Deposits&quot;</td></tr></tbody></table></div>"
            ]
          },
          "metadata": {},
          "execution_count": 4
        }
      ]
    },
    {
      "cell_type": "markdown",
      "source": [
        "**Conver \"Date\" and \"Time\" to datetime**"
      ],
      "metadata": {
        "id": "GrOQwHSfxycU"
      }
    },
    {
      "cell_type": "code",
      "source": [
        "df = df.with_columns(\n",
        "    pl.col(\"Date\").str.strptime(pl.Date, \"%Y-%m-%d\").alias(\"Date\"),\n",
        "    pl.col(\"Time\").str.strptime(pl.Time, \"%H:%M:%S\").alias(\"Time\")\n",
        ")\n",
        "df.head()"
      ],
      "metadata": {
        "colab": {
          "base_uri": "https://localhost:8080/",
          "height": 361
        },
        "id": "hXHPi0yGxx4D",
        "outputId": "a206cdca-2297-45da-eeef-f5d119e64454"
      },
      "execution_count": 5,
      "outputs": [
        {
          "output_type": "execute_result",
          "data": {
            "text/plain": [
              "shape: (5, 12)\n",
              "┌──────────┬───────────┬───────────┬───────────┬───┬───────────┬───────────┬───────────┬───────────┐\n",
              "│ Time     ┆ Date      ┆ Sender_ac ┆ Receiver_ ┆ … ┆ Receiver_ ┆ Payment_t ┆ Is_launde ┆ Launderin │\n",
              "│ ---      ┆ ---       ┆ count     ┆ account   ┆   ┆ bank_loca ┆ ype       ┆ ring      ┆ g_type    │\n",
              "│ time     ┆ date      ┆ ---       ┆ ---       ┆   ┆ tion      ┆ ---       ┆ ---       ┆ ---       │\n",
              "│          ┆           ┆ i64       ┆ i64       ┆   ┆ ---       ┆ str       ┆ i64       ┆ str       │\n",
              "│          ┆           ┆           ┆           ┆   ┆ str       ┆           ┆           ┆           │\n",
              "╞══════════╪═══════════╪═══════════╪═══════════╪═══╪═══════════╪═══════════╪═══════════╪═══════════╡\n",
              "│ 10:35:19 ┆ 2022-10-0 ┆ 872473195 ┆ 276935542 ┆ … ┆ UK        ┆ Cash      ┆ 0         ┆ Normal_Ca │\n",
              "│          ┆ 7         ┆ 5         ┆ 6         ┆   ┆           ┆ Deposit   ┆           ┆ sh_Deposi │\n",
              "│          ┆           ┆           ┆           ┆   ┆           ┆           ┆           ┆ ts        │\n",
              "│ 10:35:20 ┆ 2022-10-0 ┆ 149198906 ┆ 840125533 ┆ … ┆ UAE       ┆ Cross-bor ┆ 0         ┆ Normal_Fa │\n",
              "│          ┆ 7         ┆ 4         ┆ 5         ┆   ┆           ┆ der       ┆           ┆ n_Out     │\n",
              "│ 10:35:20 ┆ 2022-10-0 ┆ 287305149 ┆ 440476700 ┆ … ┆ UK        ┆ Cheque    ┆ 0         ┆ Normal_Sm │\n",
              "│          ┆ 7         ┆           ┆ 2         ┆   ┆           ┆           ┆           ┆ all_Fan_O │\n",
              "│          ┆           ┆           ┆           ┆   ┆           ┆           ┆           ┆ ut        │\n",
              "│ 10:35:21 ┆ 2022-10-0 ┆ 537665243 ┆ 960042022 ┆ … ┆ UK        ┆ ACH       ┆ 0         ┆ Normal_Fa │\n",
              "│          ┆ 7         ┆ 7         ┆ 0         ┆   ┆           ┆           ┆           ┆ n_In      │\n",
              "│ 10:35:21 ┆ 2022-10-0 ┆ 961418617 ┆ 380333697 ┆ … ┆ UK        ┆ Cash      ┆ 0         ┆ Normal_Ca │\n",
              "│          ┆ 7         ┆ 8         ┆ 2         ┆   ┆           ┆ Deposit   ┆           ┆ sh_Deposi │\n",
              "│          ┆           ┆           ┆           ┆   ┆           ┆           ┆           ┆ ts        │\n",
              "└──────────┴───────────┴───────────┴───────────┴───┴───────────┴───────────┴───────────┴───────────┘"
            ],
            "text/html": [
              "<div><style>\n",
              ".dataframe > thead > tr,\n",
              ".dataframe > tbody > tr {\n",
              "  text-align: right;\n",
              "  white-space: pre-wrap;\n",
              "}\n",
              "</style>\n",
              "<small>shape: (5, 12)</small><table border=\"1\" class=\"dataframe\"><thead><tr><th>Time</th><th>Date</th><th>Sender_account</th><th>Receiver_account</th><th>Amount</th><th>Payment_currency</th><th>Received_currency</th><th>Sender_bank_location</th><th>Receiver_bank_location</th><th>Payment_type</th><th>Is_laundering</th><th>Laundering_type</th></tr><tr><td>time</td><td>date</td><td>i64</td><td>i64</td><td>f64</td><td>str</td><td>str</td><td>str</td><td>str</td><td>str</td><td>i64</td><td>str</td></tr></thead><tbody><tr><td>10:35:19</td><td>2022-10-07</td><td>8724731955</td><td>2769355426</td><td>1459.15</td><td>&quot;UK pounds&quot;</td><td>&quot;UK pounds&quot;</td><td>&quot;UK&quot;</td><td>&quot;UK&quot;</td><td>&quot;Cash Deposit&quot;</td><td>0</td><td>&quot;Normal_Cash_Deposits&quot;</td></tr><tr><td>10:35:20</td><td>2022-10-07</td><td>1491989064</td><td>8401255335</td><td>6019.64</td><td>&quot;UK pounds&quot;</td><td>&quot;Dirham&quot;</td><td>&quot;UK&quot;</td><td>&quot;UAE&quot;</td><td>&quot;Cross-border&quot;</td><td>0</td><td>&quot;Normal_Fan_Out&quot;</td></tr><tr><td>10:35:20</td><td>2022-10-07</td><td>287305149</td><td>4404767002</td><td>14328.44</td><td>&quot;UK pounds&quot;</td><td>&quot;UK pounds&quot;</td><td>&quot;UK&quot;</td><td>&quot;UK&quot;</td><td>&quot;Cheque&quot;</td><td>0</td><td>&quot;Normal_Small_Fan_Out&quot;</td></tr><tr><td>10:35:21</td><td>2022-10-07</td><td>5376652437</td><td>9600420220</td><td>11895.0</td><td>&quot;UK pounds&quot;</td><td>&quot;UK pounds&quot;</td><td>&quot;UK&quot;</td><td>&quot;UK&quot;</td><td>&quot;ACH&quot;</td><td>0</td><td>&quot;Normal_Fan_In&quot;</td></tr><tr><td>10:35:21</td><td>2022-10-07</td><td>9614186178</td><td>3803336972</td><td>115.25</td><td>&quot;UK pounds&quot;</td><td>&quot;UK pounds&quot;</td><td>&quot;UK&quot;</td><td>&quot;UK&quot;</td><td>&quot;Cash Deposit&quot;</td><td>0</td><td>&quot;Normal_Cash_Deposits&quot;</td></tr></tbody></table></div>"
            ]
          },
          "metadata": {},
          "execution_count": 5
        }
      ]
    },
    {
      "cell_type": "code",
      "source": [
        "# dropping column Laundering_type\n",
        "df = df.drop(\"Laundering_type\")"
      ],
      "metadata": {
        "id": "c5u-VRZLyUuM"
      },
      "execution_count": 6,
      "outputs": []
    },
    {
      "cell_type": "code",
      "source": [
        "def custom_split_polars(df: pl.DataFrame, validation_dt: int = 70, test_dt: int = 35):\n",
        "    \"\"\"\n",
        "    Split a Polars DataFrame into train/validation/test by calendar-day cutoffs\n",
        "    measured backwards from the dataset max Date.\n",
        "\n",
        "    Parameters\n",
        "    - df: polars.DataFrame with a datetime column named \"Date\" (string or datetime OK)\n",
        "    - validation_dt: int days for validation window (e.g., 70)\n",
        "    - test_dt: int days for test window (e.g., 35)\n",
        "\n",
        "    Returns\n",
        "    - train_df, validation_df, test_df  (all eager polars.DataFrame)\n",
        "    \"\"\"\n",
        "    # ensure Date is a datetime type: try to get max, otherwise parse strings to Datetime\n",
        "    try:\n",
        "        max_date = df.select(pl.col(\"Date\").max()).to_series()[0]\n",
        "    except Exception:\n",
        "        df = df.with_column(pl.col(\"Date\").str.strptime(pl.Datetime, fmt=None).alias(\"Date\"))\n",
        "        max_date = df.select(pl.col(\"Date\").max()).to_series()[0]\n",
        "\n",
        "    test_cutoff = max_date - timedelta(days=test_dt)\n",
        "    validation_cutoff = max_date - timedelta(days=validation_dt)\n",
        "\n",
        "    test_set = df.filter(pl.col(\"Date\") >= pl.lit(test_cutoff))\n",
        "    validation_set = df.filter(\n",
        "        (pl.col(\"Date\") >= pl.lit(validation_cutoff)) & (pl.col(\"Date\") < pl.lit(test_cutoff))\n",
        "    )\n",
        "    train_set = df.filter(pl.col(\"Date\") < pl.lit(validation_cutoff))\n",
        "\n",
        "    return train_set, validation_set, test_set"
      ],
      "metadata": {
        "id": "fbftgJaywPye"
      },
      "execution_count": 7,
      "outputs": []
    },
    {
      "cell_type": "code",
      "source": [
        "df_train, df_val, df_test = custom_split_polars(df)"
      ],
      "metadata": {
        "id": "EzoMLhxJxZ6_"
      },
      "execution_count": 8,
      "outputs": []
    },
    {
      "cell_type": "code",
      "source": [
        "df_train.head()"
      ],
      "metadata": {
        "colab": {
          "base_uri": "https://localhost:8080/",
          "height": 255
        },
        "id": "QwYJ3aojx59M",
        "outputId": "3514255a-fe93-4b10-a24d-835f78b3e768"
      },
      "execution_count": 9,
      "outputs": [
        {
          "output_type": "execute_result",
          "data": {
            "text/plain": [
              "shape: (5, 11)\n",
              "┌──────────┬───────────┬───────────┬───────────┬───┬───────────┬───────────┬───────────┬───────────┐\n",
              "│ Time     ┆ Date      ┆ Sender_ac ┆ Receiver_ ┆ … ┆ Sender_ba ┆ Receiver_ ┆ Payment_t ┆ Is_launde │\n",
              "│ ---      ┆ ---       ┆ count     ┆ account   ┆   ┆ nk_locati ┆ bank_loca ┆ ype       ┆ ring      │\n",
              "│ time     ┆ date      ┆ ---       ┆ ---       ┆   ┆ on        ┆ tion      ┆ ---       ┆ ---       │\n",
              "│          ┆           ┆ i64       ┆ i64       ┆   ┆ ---       ┆ ---       ┆ str       ┆ i64       │\n",
              "│          ┆           ┆           ┆           ┆   ┆ str       ┆ str       ┆           ┆           │\n",
              "╞══════════╪═══════════╪═══════════╪═══════════╪═══╪═══════════╪═══════════╪═══════════╪═══════════╡\n",
              "│ 10:35:19 ┆ 2022-10-0 ┆ 872473195 ┆ 276935542 ┆ … ┆ UK        ┆ UK        ┆ Cash      ┆ 0         │\n",
              "│          ┆ 7         ┆ 5         ┆ 6         ┆   ┆           ┆           ┆ Deposit   ┆           │\n",
              "│ 10:35:20 ┆ 2022-10-0 ┆ 149198906 ┆ 840125533 ┆ … ┆ UK        ┆ UAE       ┆ Cross-bor ┆ 0         │\n",
              "│          ┆ 7         ┆ 4         ┆ 5         ┆   ┆           ┆           ┆ der       ┆           │\n",
              "│ 10:35:20 ┆ 2022-10-0 ┆ 287305149 ┆ 440476700 ┆ … ┆ UK        ┆ UK        ┆ Cheque    ┆ 0         │\n",
              "│          ┆ 7         ┆           ┆ 2         ┆   ┆           ┆           ┆           ┆           │\n",
              "│ 10:35:21 ┆ 2022-10-0 ┆ 537665243 ┆ 960042022 ┆ … ┆ UK        ┆ UK        ┆ ACH       ┆ 0         │\n",
              "│          ┆ 7         ┆ 7         ┆ 0         ┆   ┆           ┆           ┆           ┆           │\n",
              "│ 10:35:21 ┆ 2022-10-0 ┆ 961418617 ┆ 380333697 ┆ … ┆ UK        ┆ UK        ┆ Cash      ┆ 0         │\n",
              "│          ┆ 7         ┆ 8         ┆ 2         ┆   ┆           ┆           ┆ Deposit   ┆           │\n",
              "└──────────┴───────────┴───────────┴───────────┴───┴───────────┴───────────┴───────────┴───────────┘"
            ],
            "text/html": [
              "<div><style>\n",
              ".dataframe > thead > tr,\n",
              ".dataframe > tbody > tr {\n",
              "  text-align: right;\n",
              "  white-space: pre-wrap;\n",
              "}\n",
              "</style>\n",
              "<small>shape: (5, 11)</small><table border=\"1\" class=\"dataframe\"><thead><tr><th>Time</th><th>Date</th><th>Sender_account</th><th>Receiver_account</th><th>Amount</th><th>Payment_currency</th><th>Received_currency</th><th>Sender_bank_location</th><th>Receiver_bank_location</th><th>Payment_type</th><th>Is_laundering</th></tr><tr><td>time</td><td>date</td><td>i64</td><td>i64</td><td>f64</td><td>str</td><td>str</td><td>str</td><td>str</td><td>str</td><td>i64</td></tr></thead><tbody><tr><td>10:35:19</td><td>2022-10-07</td><td>8724731955</td><td>2769355426</td><td>1459.15</td><td>&quot;UK pounds&quot;</td><td>&quot;UK pounds&quot;</td><td>&quot;UK&quot;</td><td>&quot;UK&quot;</td><td>&quot;Cash Deposit&quot;</td><td>0</td></tr><tr><td>10:35:20</td><td>2022-10-07</td><td>1491989064</td><td>8401255335</td><td>6019.64</td><td>&quot;UK pounds&quot;</td><td>&quot;Dirham&quot;</td><td>&quot;UK&quot;</td><td>&quot;UAE&quot;</td><td>&quot;Cross-border&quot;</td><td>0</td></tr><tr><td>10:35:20</td><td>2022-10-07</td><td>287305149</td><td>4404767002</td><td>14328.44</td><td>&quot;UK pounds&quot;</td><td>&quot;UK pounds&quot;</td><td>&quot;UK&quot;</td><td>&quot;UK&quot;</td><td>&quot;Cheque&quot;</td><td>0</td></tr><tr><td>10:35:21</td><td>2022-10-07</td><td>5376652437</td><td>9600420220</td><td>11895.0</td><td>&quot;UK pounds&quot;</td><td>&quot;UK pounds&quot;</td><td>&quot;UK&quot;</td><td>&quot;UK&quot;</td><td>&quot;ACH&quot;</td><td>0</td></tr><tr><td>10:35:21</td><td>2022-10-07</td><td>9614186178</td><td>3803336972</td><td>115.25</td><td>&quot;UK pounds&quot;</td><td>&quot;UK pounds&quot;</td><td>&quot;UK&quot;</td><td>&quot;UK&quot;</td><td>&quot;Cash Deposit&quot;</td><td>0</td></tr></tbody></table></div>"
            ]
          },
          "metadata": {},
          "execution_count": 9
        }
      ]
    },
    {
      "cell_type": "code",
      "source": [],
      "metadata": {
        "id": "pjuuRJn6g7_s"
      },
      "execution_count": 9,
      "outputs": []
    },
    {
      "cell_type": "markdown",
      "source": [
        "**Recast**"
      ],
      "metadata": {
        "id": "Gbmb61q0yfml"
      }
    },
    {
      "cell_type": "code",
      "source": [
        "'''\n",
        "We recast the integer‑based columns following the logic rules outlined in the paper.\n",
        "\"Explainable Feature Engineering for Multi-class Money Laundering Classification\"\n",
        "This recasting is performed to optimize storage efficiency and reduce overall memory consumption.\"\n",
        "Excluding \"Sender_account\" and \"Receiver_account\" variables.\n",
        "'''\n",
        "\n",
        "def recast(df):\n",
        "    exclude = ['Sender_account', 'Receiver_account']\n",
        "\n",
        "    for col in df.columns:\n",
        "        if col not in exclude:\n",
        "            dtype = df[col].dtype\n",
        "            if dtype in (pl.Int64, pl.Int32):\n",
        "              maxval = df[col].max()\n",
        "              if maxval:\n",
        "                  if maxval < 127:\n",
        "                      df = df.with_columns(df[col].cast(pl.Int8).alias(col))\n",
        "                  elif maxval < 32767:\n",
        "                      df = df.with_columns(df[col].cast(pl.Int16).alias(col))\n",
        "                  elif maxval < 2147483647:\n",
        "                      df = df.with_columns(df[col].cast(pl.Int32).alias(col))\n",
        "\n",
        "    return df"
      ],
      "metadata": {
        "id": "XVpJljqOyOI5"
      },
      "execution_count": 10,
      "outputs": []
    },
    {
      "cell_type": "code",
      "source": [
        "df_train = recast(df_train)"
      ],
      "metadata": {
        "id": "z2Lbl9-5yg7D"
      },
      "execution_count": 11,
      "outputs": []
    },
    {
      "cell_type": "code",
      "source": [
        "df_train.head()"
      ],
      "metadata": {
        "colab": {
          "base_uri": "https://localhost:8080/",
          "height": 255
        },
        "id": "As-Lk5T-ylel",
        "outputId": "92bbe89c-b213-4d71-c109-f922a48ecda9"
      },
      "execution_count": 12,
      "outputs": [
        {
          "output_type": "execute_result",
          "data": {
            "text/plain": [
              "shape: (5, 11)\n",
              "┌──────────┬───────────┬───────────┬───────────┬───┬───────────┬───────────┬───────────┬───────────┐\n",
              "│ Time     ┆ Date      ┆ Sender_ac ┆ Receiver_ ┆ … ┆ Sender_ba ┆ Receiver_ ┆ Payment_t ┆ Is_launde │\n",
              "│ ---      ┆ ---       ┆ count     ┆ account   ┆   ┆ nk_locati ┆ bank_loca ┆ ype       ┆ ring      │\n",
              "│ time     ┆ date      ┆ ---       ┆ ---       ┆   ┆ on        ┆ tion      ┆ ---       ┆ ---       │\n",
              "│          ┆           ┆ i64       ┆ i64       ┆   ┆ ---       ┆ ---       ┆ str       ┆ i8        │\n",
              "│          ┆           ┆           ┆           ┆   ┆ str       ┆ str       ┆           ┆           │\n",
              "╞══════════╪═══════════╪═══════════╪═══════════╪═══╪═══════════╪═══════════╪═══════════╪═══════════╡\n",
              "│ 10:35:19 ┆ 2022-10-0 ┆ 872473195 ┆ 276935542 ┆ … ┆ UK        ┆ UK        ┆ Cash      ┆ 0         │\n",
              "│          ┆ 7         ┆ 5         ┆ 6         ┆   ┆           ┆           ┆ Deposit   ┆           │\n",
              "│ 10:35:20 ┆ 2022-10-0 ┆ 149198906 ┆ 840125533 ┆ … ┆ UK        ┆ UAE       ┆ Cross-bor ┆ 0         │\n",
              "│          ┆ 7         ┆ 4         ┆ 5         ┆   ┆           ┆           ┆ der       ┆           │\n",
              "│ 10:35:20 ┆ 2022-10-0 ┆ 287305149 ┆ 440476700 ┆ … ┆ UK        ┆ UK        ┆ Cheque    ┆ 0         │\n",
              "│          ┆ 7         ┆           ┆ 2         ┆   ┆           ┆           ┆           ┆           │\n",
              "│ 10:35:21 ┆ 2022-10-0 ┆ 537665243 ┆ 960042022 ┆ … ┆ UK        ┆ UK        ┆ ACH       ┆ 0         │\n",
              "│          ┆ 7         ┆ 7         ┆ 0         ┆   ┆           ┆           ┆           ┆           │\n",
              "│ 10:35:21 ┆ 2022-10-0 ┆ 961418617 ┆ 380333697 ┆ … ┆ UK        ┆ UK        ┆ Cash      ┆ 0         │\n",
              "│          ┆ 7         ┆ 8         ┆ 2         ┆   ┆           ┆           ┆ Deposit   ┆           │\n",
              "└──────────┴───────────┴───────────┴───────────┴───┴───────────┴───────────┴───────────┴───────────┘"
            ],
            "text/html": [
              "<div><style>\n",
              ".dataframe > thead > tr,\n",
              ".dataframe > tbody > tr {\n",
              "  text-align: right;\n",
              "  white-space: pre-wrap;\n",
              "}\n",
              "</style>\n",
              "<small>shape: (5, 11)</small><table border=\"1\" class=\"dataframe\"><thead><tr><th>Time</th><th>Date</th><th>Sender_account</th><th>Receiver_account</th><th>Amount</th><th>Payment_currency</th><th>Received_currency</th><th>Sender_bank_location</th><th>Receiver_bank_location</th><th>Payment_type</th><th>Is_laundering</th></tr><tr><td>time</td><td>date</td><td>i64</td><td>i64</td><td>f64</td><td>str</td><td>str</td><td>str</td><td>str</td><td>str</td><td>i8</td></tr></thead><tbody><tr><td>10:35:19</td><td>2022-10-07</td><td>8724731955</td><td>2769355426</td><td>1459.15</td><td>&quot;UK pounds&quot;</td><td>&quot;UK pounds&quot;</td><td>&quot;UK&quot;</td><td>&quot;UK&quot;</td><td>&quot;Cash Deposit&quot;</td><td>0</td></tr><tr><td>10:35:20</td><td>2022-10-07</td><td>1491989064</td><td>8401255335</td><td>6019.64</td><td>&quot;UK pounds&quot;</td><td>&quot;Dirham&quot;</td><td>&quot;UK&quot;</td><td>&quot;UAE&quot;</td><td>&quot;Cross-border&quot;</td><td>0</td></tr><tr><td>10:35:20</td><td>2022-10-07</td><td>287305149</td><td>4404767002</td><td>14328.44</td><td>&quot;UK pounds&quot;</td><td>&quot;UK pounds&quot;</td><td>&quot;UK&quot;</td><td>&quot;UK&quot;</td><td>&quot;Cheque&quot;</td><td>0</td></tr><tr><td>10:35:21</td><td>2022-10-07</td><td>5376652437</td><td>9600420220</td><td>11895.0</td><td>&quot;UK pounds&quot;</td><td>&quot;UK pounds&quot;</td><td>&quot;UK&quot;</td><td>&quot;UK&quot;</td><td>&quot;ACH&quot;</td><td>0</td></tr><tr><td>10:35:21</td><td>2022-10-07</td><td>9614186178</td><td>3803336972</td><td>115.25</td><td>&quot;UK pounds&quot;</td><td>&quot;UK pounds&quot;</td><td>&quot;UK&quot;</td><td>&quot;UK&quot;</td><td>&quot;Cash Deposit&quot;</td><td>0</td></tr></tbody></table></div>"
            ]
          },
          "metadata": {},
          "execution_count": 12
        }
      ]
    },
    {
      "cell_type": "markdown",
      "source": [
        "**Temporal features**"
      ],
      "metadata": {
        "id": "FYjWMq6FC7FH"
      }
    },
    {
      "cell_type": "code",
      "source": [
        "def temporal_features(df):\n",
        "\n",
        "    return df.with_columns([\n",
        "        df[\"Date\"].dt.year().alias(\"year\"),\n",
        "        df[\"Date\"].dt.month().alias(\"month\"),\n",
        "        df[\"Date\"].dt.day().alias(\"day_of_month\"),\n",
        "        df[\"Date\"].dt.weekday().alias(\"day_of_week\"),\n",
        "        df[\"Date\"].dt.ordinal_day().alias(\"day_of_year\"),\n",
        "        df[\"Time\"].dt.hour().alias(\"hour\"),\n",
        "        df[\"Time\"].dt.minute().alias(\"minute\"),\n",
        "        df[\"Time\"].dt.second().alias(\"second\"),\n",
        "    ])"
      ],
      "metadata": {
        "id": "nEDTwFV721By"
      },
      "execution_count": 13,
      "outputs": []
    },
    {
      "cell_type": "code",
      "source": [
        "df_train = temporal_features(df_train)"
      ],
      "metadata": {
        "id": "yRfgUbO4DGqT"
      },
      "execution_count": 14,
      "outputs": []
    },
    {
      "cell_type": "markdown",
      "source": [
        "**Transaction Risk Features**"
      ],
      "metadata": {
        "id": "TuhxfQ9_H9PV"
      }
    },
    {
      "cell_type": "code",
      "source": [
        "high_risk_countries = ['Mexico', 'Turkey', 'Morocco', 'UAE']"
      ],
      "metadata": {
        "id": "fVgMhVyUDJsD"
      },
      "execution_count": 15,
      "outputs": []
    },
    {
      "cell_type": "code",
      "source": [
        "def risk_features(df):\n",
        "\n",
        "    return df.with_columns([\n",
        "        (df[\"Payment_currency\"] != df[\"Received_currency\"]).cast(pl.Int8).alias(\"currency_mismatch\"),\n",
        "        (df[\"Payment_type\"] == \"Cross-border\").cast(pl.Int8).alias(\"cross_border\"),\n",
        "        df[\"Sender_bank_location\"].is_in(high_risk_countries).cast(pl.Int8).alias(\"high_risk_sender\"),\n",
        "        df[\"Receiver_bank_location\"].is_in(high_risk_countries).cast(pl.Int8).alias(\"high_risk_receiver\")])"
      ],
      "metadata": {
        "id": "xsXDGOAlH_t9"
      },
      "execution_count": 16,
      "outputs": []
    },
    {
      "cell_type": "code",
      "source": [
        "df_train = risk_features(df_train)"
      ],
      "metadata": {
        "id": "z5714Rh0IFL-"
      },
      "execution_count": 17,
      "outputs": []
    },
    {
      "cell_type": "code",
      "source": [],
      "metadata": {
        "id": "Ajp_qGRthH6L"
      },
      "execution_count": 17,
      "outputs": []
    },
    {
      "cell_type": "markdown",
      "source": [
        "**build_window_features_lazy**\n",
        "\n",
        "- Function name: build_window_features_lazy\n",
        "- One-line purpose: Computes 30‑day rolling window features (for example, fanin_30d, fanout_30d) on a LazyFrame in a calendar-aligned, memory-efficient way."
      ],
      "metadata": {
        "id": "x0pdGbOAIQ7V"
      }
    },
    {
      "cell_type": "code",
      "source": [
        "import polars as pl\n",
        "\n",
        "def build_window_features_lazy(\n",
        "    df,\n",
        "    specs,\n",
        "    date_col=\"Date\",\n",
        "    sender_col=\"Sender_account\",\n",
        "    receiver_col=\"Receiver_account\",\n",
        "    amount_col=\"Amount\",\n",
        "    index_name=\"__row_idx\",\n",
        "    label_choice=\"left\",\n",
        "):\n",
        "    lf = df.lazy() if isinstance(df, pl.DataFrame) else df\n",
        "    lf = lf.with_columns(pl.arange(0, pl.len()).over(pl.lit(True)).alias(index_name))\n",
        "    out_lf = lf\n",
        "\n",
        "    for spec in specs:\n",
        "        kind = spec.get(\"kind\", \"rolling\")\n",
        "\n",
        "        if kind == \"rolling\":\n",
        "            # existing rolling logic (no change)\n",
        "            name = spec[\"name\"]\n",
        "            direction = spec[\"type\"]  # \"fanin\" or \"fanout\"\n",
        "            period_days = int(spec[\"period_days\"])\n",
        "            every = spec.get(\"every\", \"1d\")\n",
        "\n",
        "            if direction == \"fanin\":\n",
        "                group_by = receiver_col\n",
        "                agg_on = sender_col\n",
        "            else:\n",
        "                group_by = sender_col\n",
        "                agg_on = receiver_col\n",
        "\n",
        "            win_label = label_choice\n",
        "            strategy = \"forward\" if win_label == \"left\" else \"backward\"\n",
        "\n",
        "            right = (\n",
        "                lf\n",
        "                .sort([group_by, date_col])\n",
        "                .group_by_dynamic(\n",
        "                    index_column=date_col,\n",
        "                    every=every,\n",
        "                    period=f\"{period_days}d\",\n",
        "                    group_by=group_by,\n",
        "                    closed=\"both\",\n",
        "                    label=win_label\n",
        "                )\n",
        "                .agg(pl.col(agg_on).n_unique().alias(name))\n",
        "                .sort([group_by, date_col])\n",
        "            )\n",
        "\n",
        "            left = out_lf.sort([group_by, date_col])\n",
        "\n",
        "            out_lf = left.join_asof(\n",
        "                right,\n",
        "                left_on=date_col,\n",
        "                right_on=date_col,\n",
        "                by=group_by,\n",
        "                strategy=strategy,\n",
        "            )\n",
        "\n",
        "        elif kind == \"monthly\":\n",
        "            # existing monthly logic (no change)\n",
        "            name = spec[\"name\"]\n",
        "            side = spec.get(\"side\", \"receive\")\n",
        "            group_col = receiver_col if side == \"receive\" else sender_col\n",
        "\n",
        "            monthly_agg = (\n",
        "                lf\n",
        "                .with_columns(pl.col(date_col).dt.truncate(\"1mo\").alias(\"__month\"))\n",
        "                .group_by([group_col, \"__month\"])\n",
        "                .agg(pl.col(amount_col).sum().alias(name))\n",
        "            )\n",
        "\n",
        "            out_lf = (\n",
        "                out_lf\n",
        "                .with_columns(pl.col(date_col).dt.truncate(\"1mo\").alias(\"__month\"))\n",
        "                .join(monthly_agg, on=[group_col, \"__month\"], how=\"left\")\n",
        "                .drop(\"__month\")\n",
        "            )\n",
        "\n",
        "        elif kind == \"daily_pair_count\":\n",
        "            # NEW: back_and_forth_transfers (exact-match on day + pair)\n",
        "            name = spec[\"name\"]  # e.g., \"back_and_forth_transfers\"\n",
        "            # day key = calendar day (truncate to 1 day)\n",
        "            day_key = \"__day\"\n",
        "            # compute counts per sender/receiver/day using lf (lazy)\n",
        "            pair_daily_agg = (\n",
        "                lf\n",
        "                .with_columns(pl.col(date_col).dt.truncate(\"1d\").alias(day_key))\n",
        "                .group_by([sender_col, receiver_col, day_key])\n",
        "                .agg(pl.len().alias(name))  # .len() counts rows in group\n",
        "            )\n",
        "\n",
        "            # attach day key to working frame and join exact on pair + day\n",
        "            out_lf = (\n",
        "                out_lf\n",
        "                .with_columns(pl.col(date_col).dt.truncate(\"1d\").alias(day_key))\n",
        "                .join(pair_daily_agg, on=[sender_col, receiver_col, day_key], how=\"left\")\n",
        "                .fill_null(0)       # optional: replace nulls with 0\n",
        "                .with_columns(pl.col(name).cast(pl.Int64))  # ensure integer type\n",
        "                .drop(day_key)\n",
        "            )\n",
        "\n",
        "        else:\n",
        "            raise ValueError(\"spec kind must be 'rolling', 'monthly', or 'daily_pair_count'\")\n",
        "\n",
        "    return out_lf"
      ],
      "metadata": {
        "id": "PnBffjV-IHck"
      },
      "execution_count": 18,
      "outputs": []
    },
    {
      "cell_type": "code",
      "source": [
        "specs = [\n",
        "    {\"name\":\"fanin_30d\", \"kind\":\"rolling\", \"type\":\"fanin\", \"period_days\":30, \"every\":\"1d\"},\n",
        "    {\"name\":\"fanout_30d\", \"kind\":\"rolling\", \"type\":\"fanout\", \"period_days\":30, \"every\":\"1d\"},\n",
        "    {\"name\":\"daily_recieve\", \"kind\":\"rolling\", \"type\":\"fanin\", \"period_days\":1, \"every\":\"1d\"},\n",
        "    {\"name\":\"monthly_receive\", \"kind\":\"monthly\", \"side\":\"receive\"},\n",
        "    {\"name\":\"monthly_send\",    \"kind\":\"monthly\", \"side\":\"send\"},\n",
        "    {\"name\":\"back_and_forth_transfers\", \"kind\":\"daily_pair_count\"},\n",
        "]\n",
        "lazy_with_features = build_window_features_lazy(df_train, specs, amount_col=\"Amount\", label_choice=\"left\")\n"
      ],
      "metadata": {
        "id": "BXwoiroLImy1"
      },
      "execution_count": 19,
      "outputs": []
    },
    {
      "cell_type": "code",
      "source": [
        "plan = (\n",
        "    lazy_with_features\n",
        "    .sort([\"Sender_account\", \"Date\"])\n",
        "    .with_columns([pl.col(\"Sender_account\").set_sorted(), pl.col(\"Date\").set_sorted()])\n",
        ")\n",
        "df_streamed = plan.collect(engine=\"streaming\")\n",
        "df_train = df_streamed.sort(\"__row_idx\").drop(\"__row_idx\")"
      ],
      "metadata": {
        "colab": {
          "base_uri": "https://localhost:8080/"
        },
        "id": "8kREKNRnJFd8",
        "outputId": "7e4f00e4-ec6d-45a8-bf99-f7ec9e272415"
      },
      "execution_count": 20,
      "outputs": [
        {
          "output_type": "stream",
          "name": "stderr",
          "text": [
            "/tmp/ipython-input-2168608404.py:6: UserWarning: Sortedness of columns cannot be checked when 'by' groups provided\n",
            "  df_streamed = plan.collect(engine=\"streaming\")\n"
          ]
        }
      ]
    },
    {
      "cell_type": "code",
      "source": [
        "df_train.head()"
      ],
      "metadata": {
        "colab": {
          "base_uri": "https://localhost:8080/",
          "height": 361
        },
        "id": "0fGf7dyUJXyK",
        "outputId": "8314c889-5ad7-43dd-a9f6-f305b706489e"
      },
      "execution_count": 21,
      "outputs": [
        {
          "output_type": "execute_result",
          "data": {
            "text/plain": [
              "shape: (5, 29)\n",
              "┌──────────┬───────────┬───────────┬───────────┬───┬───────────┬───────────┬───────────┬───────────┐\n",
              "│ Time     ┆ Date      ┆ Sender_ac ┆ Receiver_ ┆ … ┆ daily_rec ┆ monthly_r ┆ monthly_s ┆ back_and_ │\n",
              "│ ---      ┆ ---       ┆ count     ┆ account   ┆   ┆ ieve      ┆ eceive    ┆ end       ┆ forth_tra │\n",
              "│ time     ┆ date      ┆ ---       ┆ ---       ┆   ┆ ---       ┆ ---       ┆ ---       ┆ nsfers    │\n",
              "│          ┆           ┆ i64       ┆ i64       ┆   ┆ u32       ┆ f64       ┆ f64       ┆ ---       │\n",
              "│          ┆           ┆           ┆           ┆   ┆           ┆           ┆           ┆ i64       │\n",
              "╞══════════╪═══════════╪═══════════╪═══════════╪═══╪═══════════╪═══════════╪═══════════╪═══════════╡\n",
              "│ 10:35:19 ┆ 2022-10-0 ┆ 872473195 ┆ 276935542 ┆ … ┆ 1         ┆ 1459.15   ┆ 1459.15   ┆ 1         │\n",
              "│          ┆ 7         ┆ 5         ┆ 6         ┆   ┆           ┆           ┆           ┆           │\n",
              "│ 10:35:20 ┆ 2022-10-0 ┆ 149198906 ┆ 840125533 ┆ … ┆ 1         ┆ 72252.38  ┆ 1.0918e6  ┆ 12        │\n",
              "│          ┆ 7         ┆ 4         ┆ 5         ┆   ┆           ┆           ┆           ┆           │\n",
              "│ 10:35:20 ┆ 2022-10-0 ┆ 287305149 ┆ 440476700 ┆ … ┆ 1         ┆ 14328.44  ┆ 181662.45 ┆ 1         │\n",
              "│          ┆ 7         ┆           ┆ 2         ┆   ┆           ┆           ┆           ┆           │\n",
              "│ 10:35:21 ┆ 2022-10-0 ┆ 537665243 ┆ 960042022 ┆ … ┆ 9         ┆ 885090.99 ┆ 107439.96 ┆ 9         │\n",
              "│          ┆ 7         ┆ 7         ┆ 0         ┆   ┆           ┆           ┆           ┆           │\n",
              "│ 10:35:21 ┆ 2022-10-0 ┆ 961418617 ┆ 380333697 ┆ … ┆ 1         ┆ 5010.29   ┆ 3342.19   ┆ 1         │\n",
              "│          ┆ 7         ┆ 8         ┆ 2         ┆   ┆           ┆           ┆           ┆           │\n",
              "└──────────┴───────────┴───────────┴───────────┴───┴───────────┴───────────┴───────────┴───────────┘"
            ],
            "text/html": [
              "<div><style>\n",
              ".dataframe > thead > tr,\n",
              ".dataframe > tbody > tr {\n",
              "  text-align: right;\n",
              "  white-space: pre-wrap;\n",
              "}\n",
              "</style>\n",
              "<small>shape: (5, 29)</small><table border=\"1\" class=\"dataframe\"><thead><tr><th>Time</th><th>Date</th><th>Sender_account</th><th>Receiver_account</th><th>Amount</th><th>Payment_currency</th><th>Received_currency</th><th>Sender_bank_location</th><th>Receiver_bank_location</th><th>Payment_type</th><th>Is_laundering</th><th>year</th><th>month</th><th>day_of_month</th><th>day_of_week</th><th>day_of_year</th><th>hour</th><th>minute</th><th>second</th><th>currency_mismatch</th><th>cross_border</th><th>high_risk_sender</th><th>high_risk_receiver</th><th>fanin_30d</th><th>fanout_30d</th><th>daily_recieve</th><th>monthly_receive</th><th>monthly_send</th><th>back_and_forth_transfers</th></tr><tr><td>time</td><td>date</td><td>i64</td><td>i64</td><td>f64</td><td>str</td><td>str</td><td>str</td><td>str</td><td>str</td><td>i8</td><td>i32</td><td>i8</td><td>i8</td><td>i8</td><td>i16</td><td>i8</td><td>i8</td><td>i8</td><td>i8</td><td>i8</td><td>i8</td><td>i8</td><td>u32</td><td>u32</td><td>u32</td><td>f64</td><td>f64</td><td>i64</td></tr></thead><tbody><tr><td>10:35:19</td><td>2022-10-07</td><td>8724731955</td><td>2769355426</td><td>1459.15</td><td>&quot;UK pounds&quot;</td><td>&quot;UK pounds&quot;</td><td>&quot;UK&quot;</td><td>&quot;UK&quot;</td><td>&quot;Cash Deposit&quot;</td><td>0</td><td>2022</td><td>10</td><td>7</td><td>5</td><td>280</td><td>10</td><td>35</td><td>19</td><td>0</td><td>0</td><td>0</td><td>0</td><td>2</td><td>1</td><td>1</td><td>1459.15</td><td>1459.15</td><td>1</td></tr><tr><td>10:35:20</td><td>2022-10-07</td><td>1491989064</td><td>8401255335</td><td>6019.64</td><td>&quot;UK pounds&quot;</td><td>&quot;Dirham&quot;</td><td>&quot;UK&quot;</td><td>&quot;UAE&quot;</td><td>&quot;Cross-border&quot;</td><td>0</td><td>2022</td><td>10</td><td>7</td><td>5</td><td>280</td><td>10</td><td>35</td><td>20</td><td>1</td><td>1</td><td>0</td><td>1</td><td>1</td><td>29</td><td>1</td><td>72252.38</td><td>1.0918e6</td><td>12</td></tr><tr><td>10:35:20</td><td>2022-10-07</td><td>287305149</td><td>4404767002</td><td>14328.44</td><td>&quot;UK pounds&quot;</td><td>&quot;UK pounds&quot;</td><td>&quot;UK&quot;</td><td>&quot;UK&quot;</td><td>&quot;Cheque&quot;</td><td>0</td><td>2022</td><td>10</td><td>7</td><td>5</td><td>280</td><td>10</td><td>35</td><td>20</td><td>0</td><td>0</td><td>0</td><td>0</td><td>1</td><td>12</td><td>1</td><td>14328.44</td><td>181662.45</td><td>1</td></tr><tr><td>10:35:21</td><td>2022-10-07</td><td>5376652437</td><td>9600420220</td><td>11895.0</td><td>&quot;UK pounds&quot;</td><td>&quot;UK pounds&quot;</td><td>&quot;UK&quot;</td><td>&quot;UK&quot;</td><td>&quot;ACH&quot;</td><td>0</td><td>2022</td><td>10</td><td>7</td><td>5</td><td>280</td><td>10</td><td>35</td><td>21</td><td>0</td><td>0</td><td>0</td><td>0</td><td>11</td><td>1</td><td>9</td><td>885090.99</td><td>107439.96</td><td>9</td></tr><tr><td>10:35:21</td><td>2022-10-07</td><td>9614186178</td><td>3803336972</td><td>115.25</td><td>&quot;UK pounds&quot;</td><td>&quot;UK pounds&quot;</td><td>&quot;UK&quot;</td><td>&quot;UK&quot;</td><td>&quot;Cash Deposit&quot;</td><td>0</td><td>2022</td><td>10</td><td>7</td><td>5</td><td>280</td><td>10</td><td>35</td><td>21</td><td>0</td><td>0</td><td>0</td><td>0</td><td>3</td><td>1</td><td>1</td><td>5010.29</td><td>3342.19</td><td>1</td></tr></tbody></table></div>"
            ]
          },
          "metadata": {},
          "execution_count": 21
        }
      ]
    },
    {
      "cell_type": "markdown",
      "source": [
        "**compute_derived_features_lazy**\n",
        "\n",
        "- Function name: compute_derived_features_lazy\n",
        "- One-line purpose: Compute derived features on a Polars LazyFrame by combining existing windowed features (for example, use fanin_30d and fanout_30d to produce ratio and normalized features) while preserving laziness and dtype consistency."
      ],
      "metadata": {
        "id": "DMvfbPwaKSoN"
      }
    },
    {
      "cell_type": "code",
      "source": [
        "from typing import List, Dict\n",
        "\n",
        "def compute_derived_features_lazy(\n",
        "    lf: pl.LazyFrame,\n",
        "    *,\n",
        "    fanin_col: str = \"fanin_30d\",\n",
        "    fanout_col: str = \"fanout_30d\",\n",
        "    daily_receive_col: str = \"daily_receive\",\n",
        "    monthly_receive_col: str = \"monthly_receive\",\n",
        "    monthly_send_col: str = \"monthly_send\",\n",
        "    amount_col: str = \"Amount\",\n",
        "    sender_col: str = \"Sender_account\",\n",
        "    receiver_col: str = \"Receiver_account\",\n",
        "    index_name: str = \"__row_idx\",\n",
        ") -> pl.LazyFrame:\n",
        "    \"\"\"\n",
        "    Take a LazyFrame and return a LazyFrame with derived features:\n",
        "      - fan_in_out_ratio (safe division, 0 when denom missing or zero)\n",
        "      - fanin_intensity_ratio (fanin_30d / daily_receive, 0 when denom missing or zero)\n",
        "      - amount_dispersion_std (per-sender std of Amount, filled 0 when null)\n",
        "      - sent_to_received_ratio_monthly (monthly_receive / monthly_send, 0 when denom missing or zero)\n",
        "\n",
        "    If `daily_receive` is not present in lf.schema(), it is computed lazily as the\n",
        "    per-receiver unique-senders per calendar day (dt.truncate(\"1d\")) and joined back.\n",
        "    The function is fully lazy; call .collect(...) when ready.\n",
        "    \"\"\"\n",
        "    # ensure lazy input\n",
        "    lf = lf if isinstance(lf, pl.LazyFrame) else lf.lazy()\n",
        "\n",
        "    # Attempt to read schema; if unavailable assume missing and compute\n",
        "    try:\n",
        "        schema = lf.schema()\n",
        "        has_daily = daily_receive_col in schema\n",
        "    except Exception:\n",
        "        has_daily = False\n",
        "\n",
        "    # If daily_receive missing, compute it lazily (exact day bucket of unique senders per receiver)\n",
        "    if not has_daily:\n",
        "        day_key = \"__day_for_daily_receive\"\n",
        "        daily_receive_agg = (\n",
        "            lf\n",
        "            .with_columns(pl.col(\"Date\").dt.truncate(\"1d\").alias(day_key))\n",
        "            .group_by([receiver_col, day_key])\n",
        "            .agg(pl.col(sender_col).n_unique().alias(daily_receive_col))\n",
        "        )\n",
        "        lf = (\n",
        "            lf\n",
        "            .with_columns(pl.col(\"Date\").dt.truncate(\"1d\").alias(day_key))\n",
        "            .join(daily_receive_agg, on=[receiver_col, day_key], how=\"left\")\n",
        "            .drop(day_key)\n",
        "        )\n",
        "\n",
        "    # safe division helper expression\n",
        "    def safe_div_expr(num: str, den: str, out_name: str):\n",
        "        return (\n",
        "            pl.when(pl.col(den).is_null() | (pl.col(den) == 0))\n",
        "              .then(0.0)\n",
        "              .otherwise(pl.col(num).cast(pl.Float64) / pl.col(den).cast(pl.Float64))\n",
        "              .alias(out_name)\n",
        "        )\n",
        "\n",
        "    fan_in_out_expr = safe_div_expr(fanin_col, fanout_col, \"fan_in_out_ratio\")\n",
        "    fanin_intensity_expr = safe_div_expr(fanin_col, daily_receive_col, \"fanin_intensity_ratio\")\n",
        "    sent_to_received_monthly_expr = safe_div_expr(monthly_receive_col, monthly_send_col, \"sent_to_received_ratio_monthly\")\n",
        "\n",
        "    # per-sender std aggregation (lazy) and join back\n",
        "    sender_std_agg = (\n",
        "        lf\n",
        "        .select([sender_col, amount_col])\n",
        "        .group_by(sender_col)\n",
        "        .agg(pl.col(amount_col).std().alias(\"__amount_std\"))\n",
        "    )\n",
        "\n",
        "    out = (\n",
        "        lf\n",
        "        .join(sender_std_agg, on=sender_col, how=\"left\")\n",
        "        .with_columns(\n",
        "            pl.col(\"__amount_std\").cast(pl.Float64).fill_null(0.0).alias(\"amount_dispersion_std\")\n",
        "        )\n",
        "        .drop(\"__amount_std\")\n",
        "        .with_columns([\n",
        "            fan_in_out_expr,\n",
        "            fanin_intensity_expr,\n",
        "            sent_to_received_monthly_expr\n",
        "        ])\n",
        "    )\n",
        "\n",
        "    return out"
      ],
      "metadata": {
        "id": "T0-veF0_KRdY"
      },
      "execution_count": 22,
      "outputs": []
    },
    {
      "cell_type": "code",
      "source": [
        "lazy_with_derived = compute_derived_features_lazy(lazy_with_features)\n",
        "\n",
        "# Before streaming collect: pick a primary grouping ordering that matches your rolling computations.\n",
        "# If most rolling features used Receiver_account then Date, use that; otherwise use the grouping you chose.\n",
        "plan_derived = (\n",
        "    lazy_with_derived\n",
        "    .sort([\"Sender_account\", \"Date\"])\n",
        "    .with_columns([pl.col(\"Sender_account\").set_sorted(), pl.col(\"Date\").set_sorted()])\n",
        ")\n",
        "\n",
        "df_streamed = plan_derived.collect(engine=\"streaming\")\n",
        "df_train = df_streamed.sort(\"__row_idx\").drop(\"__row_idx\")"
      ],
      "metadata": {
        "colab": {
          "base_uri": "https://localhost:8080/"
        },
        "id": "uKPJHFHsK2ZX",
        "outputId": "21518858-e878-4517-e138-d0d9c294b056"
      },
      "execution_count": 23,
      "outputs": [
        {
          "output_type": "stream",
          "name": "stderr",
          "text": [
            "/tmp/ipython-input-1341853613.py:32: PerformanceWarning: Resolving the schema of a LazyFrame is a potentially expensive operation. Use `LazyFrame.collect_schema()` to get the schema without this warning.\n",
            "  schema = lf.schema()\n",
            "/tmp/ipython-input-1873375239.py:11: UserWarning: Sortedness of columns cannot be checked when 'by' groups provided\n",
            "  df_streamed = plan_derived.collect(engine=\"streaming\")\n"
          ]
        }
      ]
    },
    {
      "cell_type": "code",
      "source": [
        "df_train.head()"
      ],
      "metadata": {
        "colab": {
          "base_uri": "https://localhost:8080/",
          "height": 361
        },
        "id": "_XeWxzaMLAZP",
        "outputId": "96313b87-6f07-41e4-b02b-3730671a8535"
      },
      "execution_count": 24,
      "outputs": [
        {
          "output_type": "execute_result",
          "data": {
            "text/plain": [
              "shape: (5, 34)\n",
              "┌──────────┬───────────┬───────────┬───────────┬───┬───────────┬───────────┬───────────┬───────────┐\n",
              "│ Time     ┆ Date      ┆ Sender_ac ┆ Receiver_ ┆ … ┆ amount_di ┆ fan_in_ou ┆ fanin_int ┆ sent_to_r │\n",
              "│ ---      ┆ ---       ┆ count     ┆ account   ┆   ┆ spersion_ ┆ t_ratio   ┆ ensity_ra ┆ eceived_r │\n",
              "│ time     ┆ date      ┆ ---       ┆ ---       ┆   ┆ std       ┆ ---       ┆ tio       ┆ atio_mont │\n",
              "│          ┆           ┆ i64       ┆ i64       ┆   ┆ ---       ┆ f64       ┆ ---       ┆ hly       │\n",
              "│          ┆           ┆           ┆           ┆   ┆ f64       ┆           ┆ f64       ┆ ---       │\n",
              "│          ┆           ┆           ┆           ┆   ┆           ┆           ┆           ┆ f64       │\n",
              "╞══════════╪═══════════╪═══════════╪═══════════╪═══╪═══════════╪═══════════╪═══════════╪═══════════╡\n",
              "│ 10:35:19 ┆ 2022-10-0 ┆ 872473195 ┆ 276935542 ┆ … ┆ 1798.5286 ┆ 2.0       ┆ 2.0       ┆ 1.0       │\n",
              "│          ┆ 7         ┆ 5         ┆ 6         ┆   ┆ 09        ┆           ┆           ┆           │\n",
              "│ 10:35:20 ┆ 2022-10-0 ┆ 149198906 ┆ 840125533 ┆ … ┆ 27454.063 ┆ 0.034483  ┆ 1.0       ┆ 0.066176  │\n",
              "│          ┆ 7         ┆ 4         ┆ 5         ┆   ┆ 893       ┆           ┆           ┆           │\n",
              "│ 10:35:20 ┆ 2022-10-0 ┆ 287305149 ┆ 440476700 ┆ … ┆ 20778.395 ┆ 0.083333  ┆ 1.0       ┆ 0.078874  │\n",
              "│          ┆ 7         ┆           ┆ 2         ┆   ┆ 683       ┆           ┆           ┆           │\n",
              "│ 10:35:21 ┆ 2022-10-0 ┆ 537665243 ┆ 960042022 ┆ … ┆ 79.885556 ┆ 11.0      ┆ 1.222222  ┆ 8.238006  │\n",
              "│          ┆ 7         ┆ 7         ┆ 0         ┆   ┆           ┆           ┆           ┆           │\n",
              "│ 10:35:21 ┆ 2022-10-0 ┆ 961418617 ┆ 380333697 ┆ … ┆ 892.28110 ┆ 3.0       ┆ 3.0       ┆ 1.499104  │\n",
              "│          ┆ 7         ┆ 8         ┆ 2         ┆   ┆ 8         ┆           ┆           ┆           │\n",
              "└──────────┴───────────┴───────────┴───────────┴───┴───────────┴───────────┴───────────┴───────────┘"
            ],
            "text/html": [
              "<div><style>\n",
              ".dataframe > thead > tr,\n",
              ".dataframe > tbody > tr {\n",
              "  text-align: right;\n",
              "  white-space: pre-wrap;\n",
              "}\n",
              "</style>\n",
              "<small>shape: (5, 34)</small><table border=\"1\" class=\"dataframe\"><thead><tr><th>Time</th><th>Date</th><th>Sender_account</th><th>Receiver_account</th><th>Amount</th><th>Payment_currency</th><th>Received_currency</th><th>Sender_bank_location</th><th>Receiver_bank_location</th><th>Payment_type</th><th>Is_laundering</th><th>year</th><th>month</th><th>day_of_month</th><th>day_of_week</th><th>day_of_year</th><th>hour</th><th>minute</th><th>second</th><th>currency_mismatch</th><th>cross_border</th><th>high_risk_sender</th><th>high_risk_receiver</th><th>fanin_30d</th><th>fanout_30d</th><th>daily_recieve</th><th>monthly_receive</th><th>monthly_send</th><th>back_and_forth_transfers</th><th>daily_receive</th><th>amount_dispersion_std</th><th>fan_in_out_ratio</th><th>fanin_intensity_ratio</th><th>sent_to_received_ratio_monthly</th></tr><tr><td>time</td><td>date</td><td>i64</td><td>i64</td><td>f64</td><td>str</td><td>str</td><td>str</td><td>str</td><td>str</td><td>i8</td><td>i32</td><td>i8</td><td>i8</td><td>i8</td><td>i16</td><td>i8</td><td>i8</td><td>i8</td><td>i8</td><td>i8</td><td>i8</td><td>i8</td><td>u32</td><td>u32</td><td>u32</td><td>f64</td><td>f64</td><td>i64</td><td>u32</td><td>f64</td><td>f64</td><td>f64</td><td>f64</td></tr></thead><tbody><tr><td>10:35:19</td><td>2022-10-07</td><td>8724731955</td><td>2769355426</td><td>1459.15</td><td>&quot;UK pounds&quot;</td><td>&quot;UK pounds&quot;</td><td>&quot;UK&quot;</td><td>&quot;UK&quot;</td><td>&quot;Cash Deposit&quot;</td><td>0</td><td>2022</td><td>10</td><td>7</td><td>5</td><td>280</td><td>10</td><td>35</td><td>19</td><td>0</td><td>0</td><td>0</td><td>0</td><td>2</td><td>1</td><td>1</td><td>1459.15</td><td>1459.15</td><td>1</td><td>1</td><td>1798.528609</td><td>2.0</td><td>2.0</td><td>1.0</td></tr><tr><td>10:35:20</td><td>2022-10-07</td><td>1491989064</td><td>8401255335</td><td>6019.64</td><td>&quot;UK pounds&quot;</td><td>&quot;Dirham&quot;</td><td>&quot;UK&quot;</td><td>&quot;UAE&quot;</td><td>&quot;Cross-border&quot;</td><td>0</td><td>2022</td><td>10</td><td>7</td><td>5</td><td>280</td><td>10</td><td>35</td><td>20</td><td>1</td><td>1</td><td>0</td><td>1</td><td>1</td><td>29</td><td>1</td><td>72252.38</td><td>1.0918e6</td><td>12</td><td>1</td><td>27454.063893</td><td>0.034483</td><td>1.0</td><td>0.066176</td></tr><tr><td>10:35:20</td><td>2022-10-07</td><td>287305149</td><td>4404767002</td><td>14328.44</td><td>&quot;UK pounds&quot;</td><td>&quot;UK pounds&quot;</td><td>&quot;UK&quot;</td><td>&quot;UK&quot;</td><td>&quot;Cheque&quot;</td><td>0</td><td>2022</td><td>10</td><td>7</td><td>5</td><td>280</td><td>10</td><td>35</td><td>20</td><td>0</td><td>0</td><td>0</td><td>0</td><td>1</td><td>12</td><td>1</td><td>14328.44</td><td>181662.45</td><td>1</td><td>1</td><td>20778.395683</td><td>0.083333</td><td>1.0</td><td>0.078874</td></tr><tr><td>10:35:21</td><td>2022-10-07</td><td>5376652437</td><td>9600420220</td><td>11895.0</td><td>&quot;UK pounds&quot;</td><td>&quot;UK pounds&quot;</td><td>&quot;UK&quot;</td><td>&quot;UK&quot;</td><td>&quot;ACH&quot;</td><td>0</td><td>2022</td><td>10</td><td>7</td><td>5</td><td>280</td><td>10</td><td>35</td><td>21</td><td>0</td><td>0</td><td>0</td><td>0</td><td>11</td><td>1</td><td>9</td><td>885090.99</td><td>107439.96</td><td>9</td><td>9</td><td>79.885556</td><td>11.0</td><td>1.222222</td><td>8.238006</td></tr><tr><td>10:35:21</td><td>2022-10-07</td><td>9614186178</td><td>3803336972</td><td>115.25</td><td>&quot;UK pounds&quot;</td><td>&quot;UK pounds&quot;</td><td>&quot;UK&quot;</td><td>&quot;UK&quot;</td><td>&quot;Cash Deposit&quot;</td><td>0</td><td>2022</td><td>10</td><td>7</td><td>5</td><td>280</td><td>10</td><td>35</td><td>21</td><td>0</td><td>0</td><td>0</td><td>0</td><td>3</td><td>1</td><td>1</td><td>5010.29</td><td>3342.19</td><td>1</td><td>1</td><td>892.281108</td><td>3.0</td><td>3.0</td><td>1.499104</td></tr></tbody></table></div>"
            ]
          },
          "metadata": {},
          "execution_count": 24
        }
      ]
    },
    {
      "cell_type": "code",
      "source": [],
      "metadata": {
        "id": "cFmMKRXIhOA2"
      },
      "execution_count": 24,
      "outputs": []
    },
    {
      "cell_type": "markdown",
      "source": [
        "**Circular transaction count**"
      ],
      "metadata": {
        "id": "3Kj0yNfuBBEJ"
      }
    },
    {
      "cell_type": "code",
      "source": [
        "!pip install rustworkx"
      ],
      "metadata": {
        "colab": {
          "base_uri": "https://localhost:8080/"
        },
        "id": "KHk7e1qNBFlG",
        "outputId": "1aa625b7-2126-4761-b296-a389d81c3c5c"
      },
      "execution_count": 25,
      "outputs": [
        {
          "output_type": "stream",
          "name": "stdout",
          "text": [
            "Requirement already satisfied: rustworkx in /usr/local/lib/python3.12/dist-packages (0.17.1)\n",
            "Requirement already satisfied: numpy<3,>=1.16.0 in /usr/local/lib/python3.12/dist-packages (from rustworkx) (2.0.2)\n"
          ]
        }
      ]
    },
    {
      "cell_type": "code",
      "source": [
        "import rustworkx as rx\n",
        "\n",
        "def circular_transaction_feature(df:pl.DataFrame):\n",
        "    # Iterate over monthly groups\n",
        "    results = []\n",
        "    for (year, month), group in df.group_by([\"year\", \"month\"]):\n",
        "        res = circular_count_monthly(group, year, month)\n",
        "        if res.height > 0:\n",
        "            results.append(res)\n",
        "\n",
        "    # Combine all results\n",
        "    out_rx = pl.concat(results, how=\"vertical\") if results else pl.DataFrame()\n",
        "\n",
        "    # Join back to original df\n",
        "    df_result = (\n",
        "        df.join(out_rx, on=[\"Sender_account\", \"year\", \"month\"], how=\"left\")\n",
        "        .with_columns(\n",
        "            pl.col(\"circular_transaction_count\").fill_null(0)\n",
        "        )\n",
        "    )\n",
        "    return df_result\n",
        "\n",
        "def circular_count_monthly(pdf, year, month):\n",
        "    edges = list(zip(pdf[\"Sender_account\"], pdf[\"Receiver_account\"]))\n",
        "    if not edges:\n",
        "        return empty_month_frame()\n",
        "\n",
        "    G = rx.PyDiGraph()\n",
        "    node_idx = {}\n",
        "    for u, v in edges:\n",
        "        if u not in node_idx:\n",
        "            node_idx[u] = G.add_node(u)\n",
        "        if v not in node_idx:\n",
        "            node_idx[v] = G.add_node(v)\n",
        "        G.add_edge(node_idx[u], node_idx[v], None)\n",
        "\n",
        "    cycles = rx.simple_cycles(G)\n",
        "\n",
        "    counter = {}\n",
        "    for cyc in cycles:\n",
        "        cyc_nodes = [G[node] for node in cyc]\n",
        "        for node in cyc_nodes:\n",
        "            counter[node] = counter.get(node, 0) + 1\n",
        "\n",
        "    return pl.DataFrame({\n",
        "        \"Sender_account\": list(counter.keys()),\n",
        "        \"circular_transaction_count\": list(counter.values()),\n",
        "        \"year\": [year] * len(counter),\n",
        "        \"month\": [month] * len(counter)\n",
        "    })"
      ],
      "metadata": {
        "id": "wLzONn2aBOQo"
      },
      "execution_count": 26,
      "outputs": []
    },
    {
      "cell_type": "code",
      "source": [
        "df_train = circular_transaction_feature(df_train)"
      ],
      "metadata": {
        "id": "mJDm7BL5B9qR"
      },
      "execution_count": 27,
      "outputs": []
    },
    {
      "cell_type": "code",
      "source": [
        "df_train.head()"
      ],
      "metadata": {
        "colab": {
          "base_uri": "https://localhost:8080/",
          "height": 361
        },
        "id": "llWu3L6WD8T6",
        "outputId": "a8e73e30-09de-404c-9019-ef3a515b87aa"
      },
      "execution_count": 28,
      "outputs": [
        {
          "output_type": "execute_result",
          "data": {
            "text/plain": [
              "shape: (5, 35)\n",
              "┌──────────┬───────────┬───────────┬───────────┬───┬───────────┬───────────┬───────────┬───────────┐\n",
              "│ Time     ┆ Date      ┆ Sender_ac ┆ Receiver_ ┆ … ┆ fan_in_ou ┆ fanin_int ┆ sent_to_r ┆ circular_ │\n",
              "│ ---      ┆ ---       ┆ count     ┆ account   ┆   ┆ t_ratio   ┆ ensity_ra ┆ eceived_r ┆ transacti │\n",
              "│ time     ┆ date      ┆ ---       ┆ ---       ┆   ┆ ---       ┆ tio       ┆ atio_mont ┆ on_count  │\n",
              "│          ┆           ┆ i64       ┆ i64       ┆   ┆ f64       ┆ ---       ┆ hly       ┆ ---       │\n",
              "│          ┆           ┆           ┆           ┆   ┆           ┆ f64       ┆ ---       ┆ i64       │\n",
              "│          ┆           ┆           ┆           ┆   ┆           ┆           ┆ f64       ┆           │\n",
              "╞══════════╪═══════════╪═══════════╪═══════════╪═══╪═══════════╪═══════════╪═══════════╪═══════════╡\n",
              "│ 10:35:19 ┆ 2022-10-0 ┆ 872473195 ┆ 276935542 ┆ … ┆ 2.0       ┆ 2.0       ┆ 1.0       ┆ 0         │\n",
              "│          ┆ 7         ┆ 5         ┆ 6         ┆   ┆           ┆           ┆           ┆           │\n",
              "│ 10:35:20 ┆ 2022-10-0 ┆ 149198906 ┆ 840125533 ┆ … ┆ 0.034483  ┆ 1.0       ┆ 0.066176  ┆ 0         │\n",
              "│          ┆ 7         ┆ 4         ┆ 5         ┆   ┆           ┆           ┆           ┆           │\n",
              "│ 10:35:20 ┆ 2022-10-0 ┆ 287305149 ┆ 440476700 ┆ … ┆ 0.083333  ┆ 1.0       ┆ 0.078874  ┆ 0         │\n",
              "│          ┆ 7         ┆           ┆ 2         ┆   ┆           ┆           ┆           ┆           │\n",
              "│ 10:35:21 ┆ 2022-10-0 ┆ 537665243 ┆ 960042022 ┆ … ┆ 11.0      ┆ 1.222222  ┆ 8.238006  ┆ 0         │\n",
              "│          ┆ 7         ┆ 7         ┆ 0         ┆   ┆           ┆           ┆           ┆           │\n",
              "│ 10:35:21 ┆ 2022-10-0 ┆ 961418617 ┆ 380333697 ┆ … ┆ 3.0       ┆ 3.0       ┆ 1.499104  ┆ 0         │\n",
              "│          ┆ 7         ┆ 8         ┆ 2         ┆   ┆           ┆           ┆           ┆           │\n",
              "└──────────┴───────────┴───────────┴───────────┴───┴───────────┴───────────┴───────────┴───────────┘"
            ],
            "text/html": [
              "<div><style>\n",
              ".dataframe > thead > tr,\n",
              ".dataframe > tbody > tr {\n",
              "  text-align: right;\n",
              "  white-space: pre-wrap;\n",
              "}\n",
              "</style>\n",
              "<small>shape: (5, 35)</small><table border=\"1\" class=\"dataframe\"><thead><tr><th>Time</th><th>Date</th><th>Sender_account</th><th>Receiver_account</th><th>Amount</th><th>Payment_currency</th><th>Received_currency</th><th>Sender_bank_location</th><th>Receiver_bank_location</th><th>Payment_type</th><th>Is_laundering</th><th>year</th><th>month</th><th>day_of_month</th><th>day_of_week</th><th>day_of_year</th><th>hour</th><th>minute</th><th>second</th><th>currency_mismatch</th><th>cross_border</th><th>high_risk_sender</th><th>high_risk_receiver</th><th>fanin_30d</th><th>fanout_30d</th><th>daily_recieve</th><th>monthly_receive</th><th>monthly_send</th><th>back_and_forth_transfers</th><th>daily_receive</th><th>amount_dispersion_std</th><th>fan_in_out_ratio</th><th>fanin_intensity_ratio</th><th>sent_to_received_ratio_monthly</th><th>circular_transaction_count</th></tr><tr><td>time</td><td>date</td><td>i64</td><td>i64</td><td>f64</td><td>str</td><td>str</td><td>str</td><td>str</td><td>str</td><td>i8</td><td>i32</td><td>i8</td><td>i8</td><td>i8</td><td>i16</td><td>i8</td><td>i8</td><td>i8</td><td>i8</td><td>i8</td><td>i8</td><td>i8</td><td>u32</td><td>u32</td><td>u32</td><td>f64</td><td>f64</td><td>i64</td><td>u32</td><td>f64</td><td>f64</td><td>f64</td><td>f64</td><td>i64</td></tr></thead><tbody><tr><td>10:35:19</td><td>2022-10-07</td><td>8724731955</td><td>2769355426</td><td>1459.15</td><td>&quot;UK pounds&quot;</td><td>&quot;UK pounds&quot;</td><td>&quot;UK&quot;</td><td>&quot;UK&quot;</td><td>&quot;Cash Deposit&quot;</td><td>0</td><td>2022</td><td>10</td><td>7</td><td>5</td><td>280</td><td>10</td><td>35</td><td>19</td><td>0</td><td>0</td><td>0</td><td>0</td><td>2</td><td>1</td><td>1</td><td>1459.15</td><td>1459.15</td><td>1</td><td>1</td><td>1798.528609</td><td>2.0</td><td>2.0</td><td>1.0</td><td>0</td></tr><tr><td>10:35:20</td><td>2022-10-07</td><td>1491989064</td><td>8401255335</td><td>6019.64</td><td>&quot;UK pounds&quot;</td><td>&quot;Dirham&quot;</td><td>&quot;UK&quot;</td><td>&quot;UAE&quot;</td><td>&quot;Cross-border&quot;</td><td>0</td><td>2022</td><td>10</td><td>7</td><td>5</td><td>280</td><td>10</td><td>35</td><td>20</td><td>1</td><td>1</td><td>0</td><td>1</td><td>1</td><td>29</td><td>1</td><td>72252.38</td><td>1.0918e6</td><td>12</td><td>1</td><td>27454.063893</td><td>0.034483</td><td>1.0</td><td>0.066176</td><td>0</td></tr><tr><td>10:35:20</td><td>2022-10-07</td><td>287305149</td><td>4404767002</td><td>14328.44</td><td>&quot;UK pounds&quot;</td><td>&quot;UK pounds&quot;</td><td>&quot;UK&quot;</td><td>&quot;UK&quot;</td><td>&quot;Cheque&quot;</td><td>0</td><td>2022</td><td>10</td><td>7</td><td>5</td><td>280</td><td>10</td><td>35</td><td>20</td><td>0</td><td>0</td><td>0</td><td>0</td><td>1</td><td>12</td><td>1</td><td>14328.44</td><td>181662.45</td><td>1</td><td>1</td><td>20778.395683</td><td>0.083333</td><td>1.0</td><td>0.078874</td><td>0</td></tr><tr><td>10:35:21</td><td>2022-10-07</td><td>5376652437</td><td>9600420220</td><td>11895.0</td><td>&quot;UK pounds&quot;</td><td>&quot;UK pounds&quot;</td><td>&quot;UK&quot;</td><td>&quot;UK&quot;</td><td>&quot;ACH&quot;</td><td>0</td><td>2022</td><td>10</td><td>7</td><td>5</td><td>280</td><td>10</td><td>35</td><td>21</td><td>0</td><td>0</td><td>0</td><td>0</td><td>11</td><td>1</td><td>9</td><td>885090.99</td><td>107439.96</td><td>9</td><td>9</td><td>79.885556</td><td>11.0</td><td>1.222222</td><td>8.238006</td><td>0</td></tr><tr><td>10:35:21</td><td>2022-10-07</td><td>9614186178</td><td>3803336972</td><td>115.25</td><td>&quot;UK pounds&quot;</td><td>&quot;UK pounds&quot;</td><td>&quot;UK&quot;</td><td>&quot;UK&quot;</td><td>&quot;Cash Deposit&quot;</td><td>0</td><td>2022</td><td>10</td><td>7</td><td>5</td><td>280</td><td>10</td><td>35</td><td>21</td><td>0</td><td>0</td><td>0</td><td>0</td><td>3</td><td>1</td><td>1</td><td>5010.29</td><td>3342.19</td><td>1</td><td>1</td><td>892.281108</td><td>3.0</td><td>3.0</td><td>1.499104</td><td>0</td></tr></tbody></table></div>"
            ]
          },
          "metadata": {},
          "execution_count": 28
        }
      ]
    },
    {
      "cell_type": "code",
      "source": [
        "df_train = recast(df_train)\n",
        "df_train.head()"
      ],
      "metadata": {
        "colab": {
          "base_uri": "https://localhost:8080/",
          "height": 361
        },
        "id": "QQw5mRQzKg-w",
        "outputId": "312537ef-5440-43c5-cc8f-821d2d089b44"
      },
      "execution_count": 29,
      "outputs": [
        {
          "output_type": "execute_result",
          "data": {
            "text/plain": [
              "shape: (5, 35)\n",
              "┌──────────┬───────────┬───────────┬───────────┬───┬───────────┬───────────┬───────────┬───────────┐\n",
              "│ Time     ┆ Date      ┆ Sender_ac ┆ Receiver_ ┆ … ┆ fan_in_ou ┆ fanin_int ┆ sent_to_r ┆ circular_ │\n",
              "│ ---      ┆ ---       ┆ count     ┆ account   ┆   ┆ t_ratio   ┆ ensity_ra ┆ eceived_r ┆ transacti │\n",
              "│ time     ┆ date      ┆ ---       ┆ ---       ┆   ┆ ---       ┆ tio       ┆ atio_mont ┆ on_count  │\n",
              "│          ┆           ┆ i64       ┆ i64       ┆   ┆ f64       ┆ ---       ┆ hly       ┆ ---       │\n",
              "│          ┆           ┆           ┆           ┆   ┆           ┆ f64       ┆ ---       ┆ i8        │\n",
              "│          ┆           ┆           ┆           ┆   ┆           ┆           ┆ f64       ┆           │\n",
              "╞══════════╪═══════════╪═══════════╪═══════════╪═══╪═══════════╪═══════════╪═══════════╪═══════════╡\n",
              "│ 10:35:19 ┆ 2022-10-0 ┆ 872473195 ┆ 276935542 ┆ … ┆ 2.0       ┆ 2.0       ┆ 1.0       ┆ 0         │\n",
              "│          ┆ 7         ┆ 5         ┆ 6         ┆   ┆           ┆           ┆           ┆           │\n",
              "│ 10:35:20 ┆ 2022-10-0 ┆ 149198906 ┆ 840125533 ┆ … ┆ 0.034483  ┆ 1.0       ┆ 0.066176  ┆ 0         │\n",
              "│          ┆ 7         ┆ 4         ┆ 5         ┆   ┆           ┆           ┆           ┆           │\n",
              "│ 10:35:20 ┆ 2022-10-0 ┆ 287305149 ┆ 440476700 ┆ … ┆ 0.083333  ┆ 1.0       ┆ 0.078874  ┆ 0         │\n",
              "│          ┆ 7         ┆           ┆ 2         ┆   ┆           ┆           ┆           ┆           │\n",
              "│ 10:35:21 ┆ 2022-10-0 ┆ 537665243 ┆ 960042022 ┆ … ┆ 11.0      ┆ 1.222222  ┆ 8.238006  ┆ 0         │\n",
              "│          ┆ 7         ┆ 7         ┆ 0         ┆   ┆           ┆           ┆           ┆           │\n",
              "│ 10:35:21 ┆ 2022-10-0 ┆ 961418617 ┆ 380333697 ┆ … ┆ 3.0       ┆ 3.0       ┆ 1.499104  ┆ 0         │\n",
              "│          ┆ 7         ┆ 8         ┆ 2         ┆   ┆           ┆           ┆           ┆           │\n",
              "└──────────┴───────────┴───────────┴───────────┴───┴───────────┴───────────┴───────────┴───────────┘"
            ],
            "text/html": [
              "<div><style>\n",
              ".dataframe > thead > tr,\n",
              ".dataframe > tbody > tr {\n",
              "  text-align: right;\n",
              "  white-space: pre-wrap;\n",
              "}\n",
              "</style>\n",
              "<small>shape: (5, 35)</small><table border=\"1\" class=\"dataframe\"><thead><tr><th>Time</th><th>Date</th><th>Sender_account</th><th>Receiver_account</th><th>Amount</th><th>Payment_currency</th><th>Received_currency</th><th>Sender_bank_location</th><th>Receiver_bank_location</th><th>Payment_type</th><th>Is_laundering</th><th>year</th><th>month</th><th>day_of_month</th><th>day_of_week</th><th>day_of_year</th><th>hour</th><th>minute</th><th>second</th><th>currency_mismatch</th><th>cross_border</th><th>high_risk_sender</th><th>high_risk_receiver</th><th>fanin_30d</th><th>fanout_30d</th><th>daily_recieve</th><th>monthly_receive</th><th>monthly_send</th><th>back_and_forth_transfers</th><th>daily_receive</th><th>amount_dispersion_std</th><th>fan_in_out_ratio</th><th>fanin_intensity_ratio</th><th>sent_to_received_ratio_monthly</th><th>circular_transaction_count</th></tr><tr><td>time</td><td>date</td><td>i64</td><td>i64</td><td>f64</td><td>str</td><td>str</td><td>str</td><td>str</td><td>str</td><td>i8</td><td>i16</td><td>i8</td><td>i8</td><td>i8</td><td>i16</td><td>i8</td><td>i8</td><td>i8</td><td>i8</td><td>i8</td><td>i8</td><td>i8</td><td>u32</td><td>u32</td><td>u32</td><td>f64</td><td>f64</td><td>i8</td><td>u32</td><td>f64</td><td>f64</td><td>f64</td><td>f64</td><td>i8</td></tr></thead><tbody><tr><td>10:35:19</td><td>2022-10-07</td><td>8724731955</td><td>2769355426</td><td>1459.15</td><td>&quot;UK pounds&quot;</td><td>&quot;UK pounds&quot;</td><td>&quot;UK&quot;</td><td>&quot;UK&quot;</td><td>&quot;Cash Deposit&quot;</td><td>0</td><td>2022</td><td>10</td><td>7</td><td>5</td><td>280</td><td>10</td><td>35</td><td>19</td><td>0</td><td>0</td><td>0</td><td>0</td><td>2</td><td>1</td><td>1</td><td>1459.15</td><td>1459.15</td><td>1</td><td>1</td><td>1798.528609</td><td>2.0</td><td>2.0</td><td>1.0</td><td>0</td></tr><tr><td>10:35:20</td><td>2022-10-07</td><td>1491989064</td><td>8401255335</td><td>6019.64</td><td>&quot;UK pounds&quot;</td><td>&quot;Dirham&quot;</td><td>&quot;UK&quot;</td><td>&quot;UAE&quot;</td><td>&quot;Cross-border&quot;</td><td>0</td><td>2022</td><td>10</td><td>7</td><td>5</td><td>280</td><td>10</td><td>35</td><td>20</td><td>1</td><td>1</td><td>0</td><td>1</td><td>1</td><td>29</td><td>1</td><td>72252.38</td><td>1.0918e6</td><td>12</td><td>1</td><td>27454.063893</td><td>0.034483</td><td>1.0</td><td>0.066176</td><td>0</td></tr><tr><td>10:35:20</td><td>2022-10-07</td><td>287305149</td><td>4404767002</td><td>14328.44</td><td>&quot;UK pounds&quot;</td><td>&quot;UK pounds&quot;</td><td>&quot;UK&quot;</td><td>&quot;UK&quot;</td><td>&quot;Cheque&quot;</td><td>0</td><td>2022</td><td>10</td><td>7</td><td>5</td><td>280</td><td>10</td><td>35</td><td>20</td><td>0</td><td>0</td><td>0</td><td>0</td><td>1</td><td>12</td><td>1</td><td>14328.44</td><td>181662.45</td><td>1</td><td>1</td><td>20778.395683</td><td>0.083333</td><td>1.0</td><td>0.078874</td><td>0</td></tr><tr><td>10:35:21</td><td>2022-10-07</td><td>5376652437</td><td>9600420220</td><td>11895.0</td><td>&quot;UK pounds&quot;</td><td>&quot;UK pounds&quot;</td><td>&quot;UK&quot;</td><td>&quot;UK&quot;</td><td>&quot;ACH&quot;</td><td>0</td><td>2022</td><td>10</td><td>7</td><td>5</td><td>280</td><td>10</td><td>35</td><td>21</td><td>0</td><td>0</td><td>0</td><td>0</td><td>11</td><td>1</td><td>9</td><td>885090.99</td><td>107439.96</td><td>9</td><td>9</td><td>79.885556</td><td>11.0</td><td>1.222222</td><td>8.238006</td><td>0</td></tr><tr><td>10:35:21</td><td>2022-10-07</td><td>9614186178</td><td>3803336972</td><td>115.25</td><td>&quot;UK pounds&quot;</td><td>&quot;UK pounds&quot;</td><td>&quot;UK&quot;</td><td>&quot;UK&quot;</td><td>&quot;Cash Deposit&quot;</td><td>0</td><td>2022</td><td>10</td><td>7</td><td>5</td><td>280</td><td>10</td><td>35</td><td>21</td><td>0</td><td>0</td><td>0</td><td>0</td><td>3</td><td>1</td><td>1</td><td>5010.29</td><td>3342.19</td><td>1</td><td>1</td><td>892.281108</td><td>3.0</td><td>3.0</td><td>1.499104</td><td>0</td></tr></tbody></table></div>"
            ]
          },
          "metadata": {},
          "execution_count": 29
        }
      ]
    },
    {
      "cell_type": "markdown",
      "source": [
        "**XGBoost**"
      ],
      "metadata": {
        "id": "TGsNe76hRQD0"
      }
    },
    {
      "cell_type": "code",
      "source": [
        "import xgboost as xgb\n",
        "from xgboost import XGBClassifier\n",
        "from sklearn.metrics import f1_score, accuracy_score, confusion_matrix, classification_report, roc_auc_score, precision_score, recall_score\n",
        "import itertools\n",
        "import pandas as pd"
      ],
      "metadata": {
        "id": "ZINyH0VLN1Yg"
      },
      "execution_count": 30,
      "outputs": []
    },
    {
      "cell_type": "code",
      "source": [
        "opt_features = ['Amount', 'year', 'day_of_month', 'day_of_week',  'hour', 'minute', 'second',\n",
        "            'currency_mismatch', 'high_risk_sender', 'high_risk_receiver',\n",
        "            'fanin_30d', 'fanin_intensity_ratio', 'amount_dispersion_std',\n",
        "            'sent_to_received_ratio_monthly', 'back_and_forth_transfers',\n",
        "            'circular_transaction_count', 'Is_laundering']"
      ],
      "metadata": {
        "id": "8DaKdAIFhTYF"
      },
      "execution_count": 31,
      "outputs": []
    },
    {
      "cell_type": "code",
      "source": [
        "df_val = temporal_features(df_val)\n",
        "df_val = risk_features(df_val)"
      ],
      "metadata": {
        "id": "4Aki__57RYh3"
      },
      "execution_count": 32,
      "outputs": []
    },
    {
      "cell_type": "code",
      "source": [
        "lazy_with_features_val = build_window_features_lazy(df_val, specs, amount_col=\"Amount\", label_choice=\"left\")\n",
        "plan = (\n",
        "    lazy_with_features_val\n",
        "    .sort([\"Sender_account\", \"Date\"])\n",
        "    .with_columns([pl.col(\"Sender_account\").set_sorted(), pl.col(\"Date\").set_sorted()])\n",
        ")\n",
        "df_streamed_val = plan.collect(engine=\"streaming\")\n",
        "df_val = df_streamed_val.sort(\"__row_idx\").drop(\"__row_idx\")"
      ],
      "metadata": {
        "id": "YZMjVYx3R0jv",
        "colab": {
          "base_uri": "https://localhost:8080/"
        },
        "outputId": "cfe61ef0-8a1c-450f-e0f9-4990f633b1bc"
      },
      "execution_count": 33,
      "outputs": [
        {
          "output_type": "stream",
          "name": "stderr",
          "text": [
            "/tmp/ipython-input-1528314276.py:7: UserWarning: Sortedness of columns cannot be checked when 'by' groups provided\n",
            "  df_streamed_val = plan.collect(engine=\"streaming\")\n"
          ]
        }
      ]
    },
    {
      "cell_type": "code",
      "source": [
        "lazy_with_derived_val = compute_derived_features_lazy(lazy_with_features_val)\n",
        "\n",
        "# Before streaming collect: pick a primary grouping ordering that matches your rolling computations.\n",
        "# If most rolling features used Receiver_account then Date, use that; otherwise use the grouping you chose.\n",
        "plan_derived_val = (\n",
        "    lazy_with_derived_val\n",
        "    .sort([\"Sender_account\", \"Date\"])\n",
        "    .with_columns([pl.col(\"Sender_account\").set_sorted(), pl.col(\"Date\").set_sorted()])\n",
        ")\n",
        "\n",
        "df_streamed = plan_derived_val.collect(engine=\"streaming\")\n",
        "df_val = df_streamed.sort(\"__row_idx\").drop(\"__row_idx\")"
      ],
      "metadata": {
        "id": "hVw56oBSSHDn",
        "colab": {
          "base_uri": "https://localhost:8080/"
        },
        "outputId": "1a3ea630-03eb-4853-8c2e-12ecc1edfcae"
      },
      "execution_count": 34,
      "outputs": [
        {
          "output_type": "stream",
          "name": "stderr",
          "text": [
            "/tmp/ipython-input-1341853613.py:32: PerformanceWarning: Resolving the schema of a LazyFrame is a potentially expensive operation. Use `LazyFrame.collect_schema()` to get the schema without this warning.\n",
            "  schema = lf.schema()\n",
            "/tmp/ipython-input-1080677080.py:11: UserWarning: Sortedness of columns cannot be checked when 'by' groups provided\n",
            "  df_streamed = plan_derived_val.collect(engine=\"streaming\")\n"
          ]
        }
      ]
    },
    {
      "cell_type": "code",
      "source": [
        "df_val.head()"
      ],
      "metadata": {
        "id": "PEt4_p2NTB1M",
        "colab": {
          "base_uri": "https://localhost:8080/",
          "height": 361
        },
        "outputId": "6e20f674-8841-4687-f866-64d9b1f18085"
      },
      "execution_count": 35,
      "outputs": [
        {
          "output_type": "execute_result",
          "data": {
            "text/plain": [
              "shape: (5, 34)\n",
              "┌──────────┬───────────┬───────────┬───────────┬───┬───────────┬───────────┬───────────┬───────────┐\n",
              "│ Time     ┆ Date      ┆ Sender_ac ┆ Receiver_ ┆ … ┆ amount_di ┆ fan_in_ou ┆ fanin_int ┆ sent_to_r │\n",
              "│ ---      ┆ ---       ┆ count     ┆ account   ┆   ┆ spersion_ ┆ t_ratio   ┆ ensity_ra ┆ eceived_r │\n",
              "│ time     ┆ date      ┆ ---       ┆ ---       ┆   ┆ std       ┆ ---       ┆ tio       ┆ atio_mont │\n",
              "│          ┆           ┆ i64       ┆ i64       ┆   ┆ ---       ┆ f64       ┆ ---       ┆ hly       │\n",
              "│          ┆           ┆           ┆           ┆   ┆ f64       ┆           ┆ f64       ┆ ---       │\n",
              "│          ┆           ┆           ┆           ┆   ┆           ┆           ┆           ┆ f64       │\n",
              "╞══════════╪═══════════╪═══════════╪═══════════╪═══╪═══════════╪═══════════╪═══════════╪═══════════╡\n",
              "│ 00:00:03 ┆ 2023-06-1 ┆ 633138677 ┆ 442812368 ┆ … ┆ 7784.0983 ┆ 0.029412  ┆ 1.0       ┆ 0.004967  │\n",
              "│          ┆ 4         ┆ 7         ┆ 8         ┆   ┆ 65        ┆           ┆           ┆           │\n",
              "│ 00:00:12 ┆ 2023-06-1 ┆ 580422069 ┆ 112285782 ┆ … ┆ 7286.2852 ┆ 0.035714  ┆ 1.0       ┆ 0.030925  │\n",
              "│          ┆ 4         ┆ 1         ┆ 3         ┆   ┆ 11        ┆           ┆           ┆           │\n",
              "│ 00:00:18 ┆ 2023-06-1 ┆ 977675721 ┆ 527629086 ┆ … ┆ 10952.544 ┆ 0.038462  ┆ 1.0       ┆ 0.044494  │\n",
              "│          ┆ 4         ┆ 9         ┆ 8         ┆   ┆ 943       ┆           ┆           ┆           │\n",
              "│ 00:00:28 ┆ 2023-06-1 ┆ 580422069 ┆ 378329370 ┆ … ┆ 7286.2852 ┆ 0.035714  ┆ 1.0       ┆ 0.031954  │\n",
              "│          ┆ 4         ┆ 1         ┆ 9         ┆   ┆ 11        ┆           ┆           ┆           │\n",
              "│ 00:00:49 ┆ 2023-06-1 ┆ 541507490 ┆ 184029318 ┆ … ┆ 27.901001 ┆ 20.0      ┆ 1.052632  ┆ 32.109246 │\n",
              "│          ┆ 4         ┆ 2         ┆ 2         ┆   ┆           ┆           ┆           ┆           │\n",
              "└──────────┴───────────┴───────────┴───────────┴───┴───────────┴───────────┴───────────┴───────────┘"
            ],
            "text/html": [
              "<div><style>\n",
              ".dataframe > thead > tr,\n",
              ".dataframe > tbody > tr {\n",
              "  text-align: right;\n",
              "  white-space: pre-wrap;\n",
              "}\n",
              "</style>\n",
              "<small>shape: (5, 34)</small><table border=\"1\" class=\"dataframe\"><thead><tr><th>Time</th><th>Date</th><th>Sender_account</th><th>Receiver_account</th><th>Amount</th><th>Payment_currency</th><th>Received_currency</th><th>Sender_bank_location</th><th>Receiver_bank_location</th><th>Payment_type</th><th>Is_laundering</th><th>year</th><th>month</th><th>day_of_month</th><th>day_of_week</th><th>day_of_year</th><th>hour</th><th>minute</th><th>second</th><th>currency_mismatch</th><th>cross_border</th><th>high_risk_sender</th><th>high_risk_receiver</th><th>fanin_30d</th><th>fanout_30d</th><th>daily_recieve</th><th>monthly_receive</th><th>monthly_send</th><th>back_and_forth_transfers</th><th>daily_receive</th><th>amount_dispersion_std</th><th>fan_in_out_ratio</th><th>fanin_intensity_ratio</th><th>sent_to_received_ratio_monthly</th></tr><tr><td>time</td><td>date</td><td>i64</td><td>i64</td><td>f64</td><td>str</td><td>str</td><td>str</td><td>str</td><td>str</td><td>i64</td><td>i32</td><td>i8</td><td>i8</td><td>i8</td><td>i16</td><td>i8</td><td>i8</td><td>i8</td><td>i8</td><td>i8</td><td>i8</td><td>i8</td><td>u32</td><td>u32</td><td>u32</td><td>f64</td><td>f64</td><td>i64</td><td>u32</td><td>f64</td><td>f64</td><td>f64</td><td>f64</td></tr></thead><tbody><tr><td>00:00:03</td><td>2023-06-14</td><td>6331386777</td><td>4428123688</td><td>10017.35</td><td>&quot;UK pounds&quot;</td><td>&quot;UK pounds&quot;</td><td>&quot;UK&quot;</td><td>&quot;UK&quot;</td><td>&quot;Credit card&quot;</td><td>0</td><td>2023</td><td>6</td><td>14</td><td>3</td><td>165</td><td>0</td><td>0</td><td>3</td><td>0</td><td>0</td><td>0</td><td>0</td><td>1</td><td>34</td><td>1</td><td>10017.35</td><td>2.0167e6</td><td>1</td><td>1</td><td>7784.098365</td><td>0.029412</td><td>1.0</td><td>0.004967</td></tr><tr><td>00:00:12</td><td>2023-06-14</td><td>5804220691</td><td>1122857823</td><td>5597.8</td><td>&quot;UK pounds&quot;</td><td>&quot;UK pounds&quot;</td><td>&quot;UK&quot;</td><td>&quot;UK&quot;</td><td>&quot;ACH&quot;</td><td>0</td><td>2023</td><td>6</td><td>14</td><td>3</td><td>165</td><td>0</td><td>0</td><td>12</td><td>0</td><td>0</td><td>0</td><td>0</td><td>1</td><td>28</td><td>1</td><td>72251.8</td><td>2.3364e6</td><td>13</td><td>1</td><td>7286.285211</td><td>0.035714</td><td>1.0</td><td>0.030925</td></tr><tr><td>00:00:18</td><td>2023-06-14</td><td>9776757219</td><td>5276290868</td><td>9347.16</td><td>&quot;UK pounds&quot;</td><td>&quot;UK pounds&quot;</td><td>&quot;UK&quot;</td><td>&quot;UK&quot;</td><td>&quot;Cheque&quot;</td><td>0</td><td>2023</td><td>6</td><td>14</td><td>3</td><td>165</td><td>0</td><td>0</td><td>18</td><td>0</td><td>0</td><td>0</td><td>0</td><td>1</td><td>26</td><td>1</td><td>122134.93</td><td>2.7450e6</td><td>13</td><td>1</td><td>10952.544943</td><td>0.038462</td><td>1.0</td><td>0.044494</td></tr><tr><td>00:00:28</td><td>2023-06-14</td><td>5804220691</td><td>3783293709</td><td>5735.68</td><td>&quot;UK pounds&quot;</td><td>&quot;UK pounds&quot;</td><td>&quot;UK&quot;</td><td>&quot;UK&quot;</td><td>&quot;Cheque&quot;</td><td>0</td><td>2023</td><td>6</td><td>14</td><td>3</td><td>165</td><td>0</td><td>0</td><td>28</td><td>0</td><td>0</td><td>0</td><td>0</td><td>1</td><td>28</td><td>1</td><td>74656.04</td><td>2.3364e6</td><td>13</td><td>1</td><td>7286.285211</td><td>0.035714</td><td>1.0</td><td>0.031954</td></tr><tr><td>00:00:49</td><td>2023-06-14</td><td>5415074902</td><td>1840293182</td><td>5084.23</td><td>&quot;UK pounds&quot;</td><td>&quot;UK pounds&quot;</td><td>&quot;UK&quot;</td><td>&quot;UK&quot;</td><td>&quot;Cheque&quot;</td><td>0</td><td>2023</td><td>6</td><td>14</td><td>3</td><td>165</td><td>0</td><td>0</td><td>49</td><td>0</td><td>0</td><td>0</td><td>0</td><td>20</td><td>1</td><td>19</td><td>1.9405e6</td><td>60433.92</td><td>12</td><td>19</td><td>27.901001</td><td>20.0</td><td>1.052632</td><td>32.109246</td></tr></tbody></table></div>"
            ]
          },
          "metadata": {},
          "execution_count": 35
        }
      ]
    },
    {
      "cell_type": "code",
      "source": [
        "df_val = circular_transaction_feature(df_val)"
      ],
      "metadata": {
        "id": "dfo_90f9lhyp"
      },
      "execution_count": 36,
      "outputs": []
    },
    {
      "cell_type": "code",
      "source": [
        "df_val = recast(df_val)\n",
        "df_val.head()"
      ],
      "metadata": {
        "id": "qYqd_CeNX2NF",
        "colab": {
          "base_uri": "https://localhost:8080/",
          "height": 361
        },
        "outputId": "76aad385-d706-4dea-80dc-2d32a17abb9e"
      },
      "execution_count": 37,
      "outputs": [
        {
          "output_type": "execute_result",
          "data": {
            "text/plain": [
              "shape: (5, 35)\n",
              "┌──────────┬───────────┬───────────┬───────────┬───┬───────────┬───────────┬───────────┬───────────┐\n",
              "│ Time     ┆ Date      ┆ Sender_ac ┆ Receiver_ ┆ … ┆ fan_in_ou ┆ fanin_int ┆ sent_to_r ┆ circular_ │\n",
              "│ ---      ┆ ---       ┆ count     ┆ account   ┆   ┆ t_ratio   ┆ ensity_ra ┆ eceived_r ┆ transacti │\n",
              "│ time     ┆ date      ┆ ---       ┆ ---       ┆   ┆ ---       ┆ tio       ┆ atio_mont ┆ on_count  │\n",
              "│          ┆           ┆ i64       ┆ i64       ┆   ┆ f64       ┆ ---       ┆ hly       ┆ ---       │\n",
              "│          ┆           ┆           ┆           ┆   ┆           ┆ f64       ┆ ---       ┆ i8        │\n",
              "│          ┆           ┆           ┆           ┆   ┆           ┆           ┆ f64       ┆           │\n",
              "╞══════════╪═══════════╪═══════════╪═══════════╪═══╪═══════════╪═══════════╪═══════════╪═══════════╡\n",
              "│ 00:00:03 ┆ 2023-06-1 ┆ 633138677 ┆ 442812368 ┆ … ┆ 0.029412  ┆ 1.0       ┆ 0.004967  ┆ 1         │\n",
              "│          ┆ 4         ┆ 7         ┆ 8         ┆   ┆           ┆           ┆           ┆           │\n",
              "│ 00:00:12 ┆ 2023-06-1 ┆ 580422069 ┆ 112285782 ┆ … ┆ 0.035714  ┆ 1.0       ┆ 0.030925  ┆ 0         │\n",
              "│          ┆ 4         ┆ 1         ┆ 3         ┆   ┆           ┆           ┆           ┆           │\n",
              "│ 00:00:18 ┆ 2023-06-1 ┆ 977675721 ┆ 527629086 ┆ … ┆ 0.038462  ┆ 1.0       ┆ 0.044494  ┆ 0         │\n",
              "│          ┆ 4         ┆ 9         ┆ 8         ┆   ┆           ┆           ┆           ┆           │\n",
              "│ 00:00:28 ┆ 2023-06-1 ┆ 580422069 ┆ 378329370 ┆ … ┆ 0.035714  ┆ 1.0       ┆ 0.031954  ┆ 0         │\n",
              "│          ┆ 4         ┆ 1         ┆ 9         ┆   ┆           ┆           ┆           ┆           │\n",
              "│ 00:00:49 ┆ 2023-06-1 ┆ 541507490 ┆ 184029318 ┆ … ┆ 20.0      ┆ 1.052632  ┆ 32.109246 ┆ 0         │\n",
              "│          ┆ 4         ┆ 2         ┆ 2         ┆   ┆           ┆           ┆           ┆           │\n",
              "└──────────┴───────────┴───────────┴───────────┴───┴───────────┴───────────┴───────────┴───────────┘"
            ],
            "text/html": [
              "<div><style>\n",
              ".dataframe > thead > tr,\n",
              ".dataframe > tbody > tr {\n",
              "  text-align: right;\n",
              "  white-space: pre-wrap;\n",
              "}\n",
              "</style>\n",
              "<small>shape: (5, 35)</small><table border=\"1\" class=\"dataframe\"><thead><tr><th>Time</th><th>Date</th><th>Sender_account</th><th>Receiver_account</th><th>Amount</th><th>Payment_currency</th><th>Received_currency</th><th>Sender_bank_location</th><th>Receiver_bank_location</th><th>Payment_type</th><th>Is_laundering</th><th>year</th><th>month</th><th>day_of_month</th><th>day_of_week</th><th>day_of_year</th><th>hour</th><th>minute</th><th>second</th><th>currency_mismatch</th><th>cross_border</th><th>high_risk_sender</th><th>high_risk_receiver</th><th>fanin_30d</th><th>fanout_30d</th><th>daily_recieve</th><th>monthly_receive</th><th>monthly_send</th><th>back_and_forth_transfers</th><th>daily_receive</th><th>amount_dispersion_std</th><th>fan_in_out_ratio</th><th>fanin_intensity_ratio</th><th>sent_to_received_ratio_monthly</th><th>circular_transaction_count</th></tr><tr><td>time</td><td>date</td><td>i64</td><td>i64</td><td>f64</td><td>str</td><td>str</td><td>str</td><td>str</td><td>str</td><td>i8</td><td>i16</td><td>i8</td><td>i8</td><td>i8</td><td>i16</td><td>i8</td><td>i8</td><td>i8</td><td>i8</td><td>i8</td><td>i8</td><td>i8</td><td>u32</td><td>u32</td><td>u32</td><td>f64</td><td>f64</td><td>i8</td><td>u32</td><td>f64</td><td>f64</td><td>f64</td><td>f64</td><td>i8</td></tr></thead><tbody><tr><td>00:00:03</td><td>2023-06-14</td><td>6331386777</td><td>4428123688</td><td>10017.35</td><td>&quot;UK pounds&quot;</td><td>&quot;UK pounds&quot;</td><td>&quot;UK&quot;</td><td>&quot;UK&quot;</td><td>&quot;Credit card&quot;</td><td>0</td><td>2023</td><td>6</td><td>14</td><td>3</td><td>165</td><td>0</td><td>0</td><td>3</td><td>0</td><td>0</td><td>0</td><td>0</td><td>1</td><td>34</td><td>1</td><td>10017.35</td><td>2.0167e6</td><td>1</td><td>1</td><td>7784.098365</td><td>0.029412</td><td>1.0</td><td>0.004967</td><td>1</td></tr><tr><td>00:00:12</td><td>2023-06-14</td><td>5804220691</td><td>1122857823</td><td>5597.8</td><td>&quot;UK pounds&quot;</td><td>&quot;UK pounds&quot;</td><td>&quot;UK&quot;</td><td>&quot;UK&quot;</td><td>&quot;ACH&quot;</td><td>0</td><td>2023</td><td>6</td><td>14</td><td>3</td><td>165</td><td>0</td><td>0</td><td>12</td><td>0</td><td>0</td><td>0</td><td>0</td><td>1</td><td>28</td><td>1</td><td>72251.8</td><td>2.3364e6</td><td>13</td><td>1</td><td>7286.285211</td><td>0.035714</td><td>1.0</td><td>0.030925</td><td>0</td></tr><tr><td>00:00:18</td><td>2023-06-14</td><td>9776757219</td><td>5276290868</td><td>9347.16</td><td>&quot;UK pounds&quot;</td><td>&quot;UK pounds&quot;</td><td>&quot;UK&quot;</td><td>&quot;UK&quot;</td><td>&quot;Cheque&quot;</td><td>0</td><td>2023</td><td>6</td><td>14</td><td>3</td><td>165</td><td>0</td><td>0</td><td>18</td><td>0</td><td>0</td><td>0</td><td>0</td><td>1</td><td>26</td><td>1</td><td>122134.93</td><td>2.7450e6</td><td>13</td><td>1</td><td>10952.544943</td><td>0.038462</td><td>1.0</td><td>0.044494</td><td>0</td></tr><tr><td>00:00:28</td><td>2023-06-14</td><td>5804220691</td><td>3783293709</td><td>5735.68</td><td>&quot;UK pounds&quot;</td><td>&quot;UK pounds&quot;</td><td>&quot;UK&quot;</td><td>&quot;UK&quot;</td><td>&quot;Cheque&quot;</td><td>0</td><td>2023</td><td>6</td><td>14</td><td>3</td><td>165</td><td>0</td><td>0</td><td>28</td><td>0</td><td>0</td><td>0</td><td>0</td><td>1</td><td>28</td><td>1</td><td>74656.04</td><td>2.3364e6</td><td>13</td><td>1</td><td>7286.285211</td><td>0.035714</td><td>1.0</td><td>0.031954</td><td>0</td></tr><tr><td>00:00:49</td><td>2023-06-14</td><td>5415074902</td><td>1840293182</td><td>5084.23</td><td>&quot;UK pounds&quot;</td><td>&quot;UK pounds&quot;</td><td>&quot;UK&quot;</td><td>&quot;UK&quot;</td><td>&quot;Cheque&quot;</td><td>0</td><td>2023</td><td>6</td><td>14</td><td>3</td><td>165</td><td>0</td><td>0</td><td>49</td><td>0</td><td>0</td><td>0</td><td>0</td><td>20</td><td>1</td><td>19</td><td>1.9405e6</td><td>60433.92</td><td>12</td><td>19</td><td>27.901001</td><td>20.0</td><td>1.052632</td><td>32.109246</td><td>0</td></tr></tbody></table></div>"
            ]
          },
          "metadata": {},
          "execution_count": 37
        }
      ]
    },
    {
      "cell_type": "code",
      "source": [
        "# Configuration\n",
        "features = opt_features[:-1]\n",
        "target = opt_features[-1]\n",
        "use_gpu = False             # set True if you have GPU and xgboost built with GPU support\n",
        "early_stopping_rounds = 50\n",
        "num_boost_round = 500\n",
        "verbose_eval = False        # set to integer for logging every k rounds"
      ],
      "metadata": {
        "id": "HgPbcskbdbXC"
      },
      "execution_count": 38,
      "outputs": []
    },
    {
      "cell_type": "code",
      "source": [
        "# 1) Convert Polars -> NumPy once (casting to float32)\n",
        "#    Handle missing values and simple categorical encoding if needed.\n",
        "def polars_to_numpy_for_xgb(df_pl: pl.DataFrame, features, target):\n",
        "    # Ensure numeric features; cast numeric-like to Float32\n",
        "    X_df = df_pl.select([pl.col(c).cast(pl.Float32).alias(c) for c in features])\n",
        "    y_arr = df_pl.select(pl.col(target)).to_numpy().ravel()\n",
        "    X_arr = X_df.to_numpy()\n",
        "    return X_arr, y_arr\n",
        "\n",
        "X_train, y_train = polars_to_numpy_for_xgb(df_train, features, target)\n",
        "X_val, y_val = polars_to_numpy_for_xgb(df_val, features, target)"
      ],
      "metadata": {
        "id": "WOfRk2oldiGT"
      },
      "execution_count": 39,
      "outputs": []
    },
    {
      "cell_type": "code",
      "source": [
        "# 2) Build DMatrix once per dataset (faster than rebuilding inside loop)\n",
        "dtrain = xgb.DMatrix(X_train, label=y_train, feature_names=features)\n",
        "dval = xgb.DMatrix(X_val, label=y_val, feature_names=features)\n",
        "watchlist = [(dtrain, \"train\"), (dval, \"eval\")]"
      ],
      "metadata": {
        "id": "yvRo7oyDdmgp"
      },
      "execution_count": 40,
      "outputs": []
    },
    {
      "cell_type": "code",
      "source": [
        "param_grid = {\n",
        "    'max_depth': [3, 5, 10],\n",
        "    'learning_rate': [0.1, 0.05, 0.01],\n",
        "    'subsample': [0.3, 0.5, 1]\n",
        "}"
      ],
      "metadata": {
        "id": "BSk3Sn4Jd2l4"
      },
      "execution_count": 41,
      "outputs": []
    },
    {
      "cell_type": "code",
      "source": [
        "def predict_with_best_iter(bst, dmat):\n",
        "    # bst.best_iteration is int (0-based). If None, predict full model.\n",
        "    best_it = getattr(bst, \"best_iteration\", None)\n",
        "    if best_it is None:\n",
        "        return bst.predict(dmat)\n",
        "    # iteration_range expects (begin, end) with end exclusive\n",
        "    return bst.predict(dmat, iteration_range=(0, best_it + 1))\n",
        "\n",
        "    # inside your loop, replace prediction section with:\n",
        "    preds_proba = predict_with_best_iter(bst, dval)\n",
        "    preds = (preds_proba > 0.5).astype(int)\n"
      ],
      "metadata": {
        "id": "oJrjwwlzkmOZ"
      },
      "execution_count": 43,
      "outputs": []
    },
    {
      "cell_type": "code",
      "source": [
        "import time\n",
        "\n",
        "# 3) Optimized grid search loop using xgb.train\n",
        "results = []\n",
        "start_all = time.time()\n",
        "\n",
        "for max_depth, lr, subs in itertools.product(\n",
        "        param_grid['max_depth'],\n",
        "        param_grid['learning_rate'],\n",
        "        param_grid['subsample']):\n",
        "\n",
        "    params = {\n",
        "        \"max_depth\": int(max_depth),\n",
        "        \"eta\": float(lr),                 # alias for learning_rate in xgb.train params\n",
        "        \"subsample\": float(subs),\n",
        "        \"objective\": \"binary:logistic\",\n",
        "        \"eval_metric\": \"logloss\",\n",
        "        \"seed\": 42,\n",
        "        \"verbosity\": 0,\n",
        "        \"nthread\": -1\n",
        "    }\n",
        "    if use_gpu:\n",
        "        params[\"tree_method\"] = \"gpu_hist\"\n",
        "        params[\"predictor\"] = \"gpu_predictor\"\n",
        "    else:\n",
        "        params[\"tree_method\"] = \"hist\"\n",
        "\n",
        "    t0 = time.time()\n",
        "    bst = xgb.train(\n",
        "        params,\n",
        "        dtrain,\n",
        "        num_boost_round=num_boost_round,\n",
        "        evals=watchlist,\n",
        "        early_stopping_rounds=early_stopping_rounds,\n",
        "        verbose_eval=verbose_eval\n",
        "    )\n",
        "    t1 = time.time()\n",
        "\n",
        "    # predictions on validation (use best_ntree_limit if early stopping occurred)\n",
        "    preds_proba = predict_with_best_iter(bst, dval)\n",
        "    preds = (preds_proba > 0.5).astype(int)\n",
        "\n",
        "    f1 = f1_score(y_val, preds)\n",
        "    prec = precision_score(y_val, preds)\n",
        "    rec = recall_score(y_val, preds)\n",
        "    report = classification_report(y_val, preds, digits=4)\n",
        "\n",
        "    results.append({\n",
        "        \"max_depth\": int(max_depth),\n",
        "        \"learning_rate\": float(lr),\n",
        "        \"subsample\": float(subs),\n",
        "        \"f1_score\": f1,\n",
        "        \"precision_score\": prec,\n",
        "        \"recall_score\": rec,\n",
        "        \"report\": report,\n",
        "        \"model\": bst,\n",
        "        #\"best_ntree_limit\": int(ntree_limit) if ntree_limit is not None else None,\n",
        "        \"train_time_s\": t1 - t0\n",
        "    })\n",
        "\n",
        "total_time = time.time() - start_all\n",
        "\n",
        "# 4) Convert to pandas DataFrame and sort by f1 (descending)\n",
        "df_results = pd.DataFrame([{k:v for k,v in r.items() if k != \"model\"} for r in results])\n",
        "df_results = df_results.sort_values(\"f1_score\", ascending=False).reset_index(drop=True)\n",
        "\n",
        "# Best model and params\n",
        "best = results[df_results.index[0]]\n",
        "best_params = {\"max_depth\": best[\"max_depth\"], \"learning_rate\": best[\"learning_rate\"], \"subsample\": best[\"subsample\"]}\n",
        "best_model = best[\"model\"]\n",
        "\n",
        "# 5) Reporting\n",
        "print(f\"Grid search finished in {total_time:.1f}s, tried {len(results)} combos\")\n",
        "print(\"Top 5 combos by F1:\")\n",
        "print(df_results.head(5))\n",
        "print(\"\\nBest combo:\", best_params)\n",
        "print(\"\\nClassification report for best model:\")\n",
        "print(best[\"report\"])"
      ],
      "metadata": {
        "id": "XGhSgLLbdri4",
        "colab": {
          "base_uri": "https://localhost:8080/"
        },
        "outputId": "c7a28499-06fc-43d5-f9b5-1432ab69fe16"
      },
      "execution_count": 45,
      "outputs": [
        {
          "output_type": "stream",
          "name": "stdout",
          "text": [
            "Grid search finished in 9172.5s, tried 27 combos\n",
            "Top 5 combos by F1:\n",
            "   max_depth  learning_rate  subsample  f1_score  precision_score  \\\n",
            "0          3           0.10        1.0  0.529513         0.841530   \n",
            "1          3           0.05        1.0  0.520485         0.839851   \n",
            "2          3           0.05        0.5  0.518857         0.819495   \n",
            "3         10           0.01        1.0  0.517888         0.807080   \n",
            "4          5           0.10        1.0  0.516638         0.793761   \n",
            "\n",
            "   recall_score                                             report  \\\n",
            "0      0.386288                precision    recall  f1-score   ...   \n",
            "1      0.377090                precision    recall  f1-score   ...   \n",
            "2      0.379599                precision    recall  f1-score   ...   \n",
            "3      0.381271                precision    recall  f1-score   ...   \n",
            "4      0.382943                precision    recall  f1-score   ...   \n",
            "\n",
            "   train_time_s  \n",
            "0    278.730185  \n",
            "1    372.739768  \n",
            "2    410.789317  \n",
            "3    530.840824  \n",
            "4    365.289460  \n",
            "\n",
            "Best combo: {'max_depth': 3, 'learning_rate': 0.1, 'subsample': 0.3}\n",
            "\n",
            "Classification report for best model:\n",
            "              precision    recall  f1-score   support\n",
            "\n",
            "           0     0.9993    0.9999    0.9996   1043649\n",
            "           1     0.8219    0.3704    0.5107      1196\n",
            "\n",
            "    accuracy                         0.9992   1044845\n",
            "   macro avg     0.9106    0.6852    0.7551   1044845\n",
            "weighted avg     0.9991    0.9992    0.9990   1044845\n",
            "\n"
          ]
        }
      ]
    },
    {
      "cell_type": "code",
      "source": [],
      "metadata": {
        "id": "qmGks8CIq5DD"
      },
      "execution_count": null,
      "outputs": []
    }
  ]
}